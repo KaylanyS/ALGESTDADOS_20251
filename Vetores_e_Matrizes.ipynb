{
  "nbformat": 4,
  "nbformat_minor": 0,
  "metadata": {
    "colab": {
      "provenance": [],
      "authorship_tag": "ABX9TyPHRPSKhBF3GTDzfPPD7aeu",
      "include_colab_link": true
    },
    "kernelspec": {
      "name": "python3",
      "display_name": "Python 3"
    },
    "language_info": {
      "name": "python"
    }
  },
  "cells": [
    {
      "cell_type": "markdown",
      "metadata": {
        "id": "view-in-github",
        "colab_type": "text"
      },
      "source": [
        "<a href=\"https://colab.research.google.com/github/KaylanyS/ALGESTDADOS_20251/blob/main/Vetores_e_Matrizes.ipynb\" target=\"_parent\"><img src=\"https://colab.research.google.com/assets/colab-badge.svg\" alt=\"Open In Colab\"/></a>"
      ]
    },
    {
      "cell_type": "code",
      "execution_count": null,
      "metadata": {
        "colab": {
          "base_uri": "https://localhost:8080/"
        },
        "id": "Uf7--iy9Srx8",
        "outputId": "0b6df35f-0321-4bfc-bca4-833dd425aadc"
      },
      "outputs": [
        {
          "output_type": "stream",
          "name": "stdout",
          "text": [
            "fulano\n"
          ]
        }
      ],
      "source": [
        "#1°- crio o nome da lista - nomes (vetores)\n",
        "#2° - Faça a atrbuição do valores a lista - Vazio ou com valores.\n",
        "nomes = [\"eu\", \"voce\", \"fulano\"]\n",
        "nomes.append(\"nós\")\n",
        "print(nomes[-2])\n"
      ]
    },
    {
      "cell_type": "code",
      "source": [
        "#1°- crio o nome da lista - nomes (matriz)\n",
        "#2° - Faça a atrbuição do valores a lista - Vazio ou com valores.\n",
        "nomes = [\"eu\", \"voce\", \"fulano\"],[\"nós\",\"voces\",\"outros\"]\n",
        "print(nomes)\n"
      ],
      "metadata": {
        "colab": {
          "base_uri": "https://localhost:8080/"
        },
        "id": "m134qoOYUfBN",
        "outputId": "85b793c8-099b-419e-fe2b-8e251364fb1c"
      },
      "execution_count": null,
      "outputs": [
        {
          "output_type": "stream",
          "name": "stdout",
          "text": [
            "(['eu', 'voce', 'fulano'], ['nós', 'voces', 'outros'])\n"
          ]
        }
      ]
    },
    {
      "cell_type": "code",
      "source": [
        "#1°- crio o nome da lista - nomes (matriz)\n",
        "#2° - Faça a atrbuição do valores a lista - Vazio ou com valores.\n",
        "nomes = [\"eu\", \"voce\", \"fulano\"],[\"nós\",\"voces\",\"outros\"]\n",
        "for linha in nomes:\n",
        "    for elemento in linha:\n",
        "        print(elemento, end=' ')\n",
        "    print()  # Pula linha"
      ],
      "metadata": {
        "colab": {
          "base_uri": "https://localhost:8080/"
        },
        "id": "9yAczxTRVpK_",
        "outputId": "cca4f2a5-da64-4d0b-b883-387ca80391d7"
      },
      "execution_count": null,
      "outputs": [
        {
          "output_type": "stream",
          "name": "stdout",
          "text": [
            "eu voce fulano \n",
            "nós voces outros \n"
          ]
        }
      ]
    },
    {
      "cell_type": "code",
      "source": [
        "#Crie um vetor com nomes de 5 animais.\n",
        "animais = ['zebra', 'porco', 'gato','cavalo','galinha']\n",
        "print(animais)"
      ],
      "metadata": {
        "colab": {
          "base_uri": "https://localhost:8080/"
        },
        "id": "xsYB0RslXOqw",
        "outputId": "987d326d-68a0-42e9-ba05-182866ee5b5e"
      },
      "execution_count": null,
      "outputs": [
        {
          "output_type": "stream",
          "name": "stdout",
          "text": [
            "['zebra', 'porco', 'gato', 'cavalo', 'galinha']\n"
          ]
        }
      ]
    },
    {
      "cell_type": "code",
      "source": [
        "#Crie uma matriz 3x2 com frutas e suas cores.\n",
        "frutas = [\"uva\", \"maçã\", \"manga\"],[\"roxo\",\"vermelho\",\"amarelo\"]\n",
        "for linha in frutas:\n",
        "    for elemento in linha:\n",
        "        print(elemento, end=' ')\n",
        "    print()  # Pula linha"
      ],
      "metadata": {
        "colab": {
          "base_uri": "https://localhost:8080/"
        },
        "id": "vI8WscreYVGJ",
        "outputId": "a27c1abb-fa35-4147-9151-65396766f001"
      },
      "execution_count": null,
      "outputs": [
        {
          "output_type": "stream",
          "name": "stdout",
          "text": [
            "uva maçã manga \n",
            "roxo vermelho amarelo \n"
          ]
        }
      ]
    },
    {
      "cell_type": "code",
      "source": [
        "#Transforme seu nome em uma string e mostre cada letra.\n",
        "nome = 'Kaylany'\n",
        "for letra in nome:\n",
        "    print(letra)"
      ],
      "metadata": {
        "colab": {
          "base_uri": "https://localhost:8080/"
        },
        "id": "_XmBYfa5ZEr4",
        "outputId": "0d5be791-9563-44d2-e8fd-11dbf5bd966d"
      },
      "execution_count": null,
      "outputs": [
        {
          "output_type": "stream",
          "name": "stdout",
          "text": [
            "K\n",
            "a\n",
            "y\n",
            "l\n",
            "a\n",
            "n\n",
            "y\n"
          ]
        }
      ]
    }
  ]
}