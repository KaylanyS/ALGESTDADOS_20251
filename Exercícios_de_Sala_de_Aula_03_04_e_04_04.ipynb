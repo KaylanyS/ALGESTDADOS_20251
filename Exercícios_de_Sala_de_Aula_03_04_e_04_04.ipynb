{
  "nbformat": 4,
  "nbformat_minor": 0,
  "metadata": {
    "colab": {
      "provenance": [],
      "authorship_tag": "ABX9TyPzQ2JXZLr/DH6yzURZT8TK",
      "include_colab_link": true
    },
    "kernelspec": {
      "name": "python3",
      "display_name": "Python 3"
    },
    "language_info": {
      "name": "python"
    }
  },
  "cells": [
    {
      "cell_type": "markdown",
      "metadata": {
        "id": "view-in-github",
        "colab_type": "text"
      },
      "source": [
        "<a href=\"https://colab.research.google.com/github/KaylanyS/ALGESTDADOS_20251/blob/main/Exerc%C3%ADcios_de_Sala_de_Aula_03_04_e_04_04.ipynb\" target=\"_parent\"><img src=\"https://colab.research.google.com/assets/colab-badge.svg\" alt=\"Open In Colab\"/></a>"
      ]
    },
    {
      "cell_type": "code",
      "execution_count": null,
      "metadata": {
        "colab": {
          "base_uri": "https://localhost:8080/"
        },
        "id": "0Tgc3l926-Vx",
        "outputId": "c73a4e0f-b459-45ad-8242-539e4c408b47"
      },
      "outputs": [
        {
          "output_type": "stream",
          "name": "stdout",
          "text": [
            "1\n",
            "2\n",
            "3\n",
            "4\n",
            "5\n",
            "6\n",
            "7\n",
            "8\n",
            "9\n",
            "10\n"
          ]
        }
      ],
      "source": [
        "#1-Escreva um programa que imprima os números de 1 a 10 utilizando um loop while.\n",
        "i = 1\n",
        "while i <= 10:\n",
        "  print(i)\n",
        "  i +=1\n"
      ]
    },
    {
      "cell_type": "code",
      "source": [
        "#2-Escreva um programa que imprima os números de 1 a 10 utilizando um loop for com range().\n",
        "for i in range (1,11):\n",
        "  print(i)"
      ],
      "metadata": {
        "colab": {
          "base_uri": "https://localhost:8080/"
        },
        "id": "Snvs-Hj98LHy",
        "outputId": "adfc9e7b-b4e2-4b31-e986-211c6730b953"
      },
      "execution_count": null,
      "outputs": [
        {
          "output_type": "stream",
          "name": "stdout",
          "text": [
            "1\n",
            "2\n",
            "3\n",
            "4\n",
            "5\n",
            "6\n",
            "7\n",
            "8\n",
            "9\n",
            "10\n"
          ]
        }
      ]
    },
    {
      "cell_type": "code",
      "source": [
        "#3-Crie um loop for que percorra uma lista de frutas e imprima cada uma delas.\n",
        "frutas = ['cacau','kiwi','banana','pera']\n",
        "for i in range (len(frutas)):\n",
        "  print(frutas[i])"
      ],
      "metadata": {
        "colab": {
          "base_uri": "https://localhost:8080/"
        },
        "id": "XQ2Nx-9y8VzI",
        "outputId": "8f4642a4-1fbb-4480-96aa-a1762281e796"
      },
      "execution_count": 12,
      "outputs": [
        {
          "output_type": "stream",
          "name": "stdout",
          "text": [
            "cacau\n",
            "kiwi\n",
            "banana\n",
            "pera\n"
          ]
        }
      ]
    },
    {
      "cell_type": "code",
      "source": [
        "#4-Utilize um while para imprimir os números pares de 0 a 20.\n",
        "numero = 0\n",
        "while numero <= 20:\n",
        "  if numero % 2 == 0:\n",
        "    print(numero)\n",
        "  numero += 1"
      ],
      "metadata": {
        "colab": {
          "base_uri": "https://localhost:8080/"
        },
        "id": "djBLYLHM8zLI",
        "outputId": "a2bddced-93d1-4b10-f2a3-7cdd91733040"
      },
      "execution_count": null,
      "outputs": [
        {
          "output_type": "stream",
          "name": "stdout",
          "text": [
            "0\n",
            "2\n",
            "4\n",
            "6\n",
            "8\n",
            "10\n",
            "12\n",
            "14\n",
            "16\n",
            "18\n",
            "20\n"
          ]
        }
      ]
    },
    {
      "cell_type": "code",
      "source": [
        "#5-Crie um loop for que utilize enumerate() para exibir os índices e valores de uma lista de nomes.\n",
        "nome = ['fulano','fulana','beltrano']\n",
        "for i , j in enumerate(nome):\n",
        "  print(f'{i} i {j}')"
      ],
      "metadata": {
        "colab": {
          "base_uri": "https://localhost:8080/"
        },
        "id": "ubnLrr5UBR0u",
        "outputId": "33c2698f-5237-4a5a-fd6a-0def5f07d678"
      },
      "execution_count": 16,
      "outputs": [
        {
          "output_type": "stream",
          "name": "stdout",
          "text": [
            "0 i fulano\n",
            "1 i fulana\n",
            "2 i beltrano\n"
          ]
        }
      ]
    },
    {
      "cell_type": "code",
      "source": [
        "#6-Escreva um programa que peça um número ao usuário e continue pedindo até que o usuário digite um número positivo.\n",
        "numero = 0\n",
        "while True:\n",
        "  numero = int(input('digite um numero:'))\n",
        "  if numero > 0:\n",
        "    break"
      ],
      "metadata": {
        "colab": {
          "base_uri": "https://localhost:8080/"
        },
        "id": "eUjrI3DfF7rp",
        "outputId": "f4b860e2-f30f-4674-c63c-bc43589d1190"
      },
      "execution_count": 37,
      "outputs": [
        {
          "name": "stdout",
          "output_type": "stream",
          "text": [
            "digite um numero:-9\n",
            "digite um numero:0\n",
            "digite um numero:2\n"
          ]
        }
      ]
    },
    {
      "cell_type": "code",
      "source": [
        "#7-Escreva um loop for que conte de 10 até 0 e, ao final, imprima \"Fim!\".\n",
        "for i in range(10,-1,-1):\n",
        "  print(i)\n",
        "print('fim')\n"
      ],
      "metadata": {
        "colab": {
          "base_uri": "https://localhost:8080/"
        },
        "id": "IOW-DIJ_GAv6",
        "outputId": "2da1a88b-61ee-48d0-ffe3-60da4ce6564e"
      },
      "execution_count": 26,
      "outputs": [
        {
          "output_type": "stream",
          "name": "stdout",
          "text": [
            "10\n",
            "9\n",
            "8\n",
            "7\n",
            "6\n",
            "5\n",
            "4\n",
            "3\n",
            "2\n",
            "1\n",
            "0\n",
            "fim\n"
          ]
        }
      ]
    },
    {
      "cell_type": "code",
      "source": [
        "#8-Escreva um programa que use um while para calcular a soma dos números de 1 a 100.\n",
        "numero = 1\n",
        "soma = 0\n",
        "while numero <= 100:\n",
        "  soma += numero\n",
        "  numero += 1\n",
        "print(soma)"
      ],
      "metadata": {
        "colab": {
          "base_uri": "https://localhost:8080/"
        },
        "id": "5LWGsZ_YGF8C",
        "outputId": "a07f818b-a733-4d3c-b6fa-feeb04f9b087"
      },
      "execution_count": 44,
      "outputs": [
        {
          "output_type": "stream",
          "name": "stdout",
          "text": [
            "5050\n"
          ]
        }
      ]
    },
    {
      "cell_type": "code",
      "source": [
        "#9-Modifique o exercício anterior para parar a soma se o total ultrapassar 1000, usando break.\n",
        "numero = 1\n",
        "soma = 0\n",
        "while numero <= 100:\n",
        "  if soma > 1000:\n",
        "    break\n",
        "  soma += numero\n",
        "  numero += 1\n",
        "print(soma)"
      ],
      "metadata": {
        "colab": {
          "base_uri": "https://localhost:8080/"
        },
        "id": "thSpnA-UGLuD",
        "outputId": "e2f5c87f-24ab-4c7f-8ba0-1dfbf11cbab9"
      },
      "execution_count": 45,
      "outputs": [
        {
          "output_type": "stream",
          "name": "stdout",
          "text": [
            "1035\n"
          ]
        }
      ]
    },
    {
      "cell_type": "code",
      "source": [
        "#10-Crie um programa que peça ao usuário para digitar palavras e as adicione a uma lista até que ele digite \"sair\".\n",
        "palavra = ''\n",
        "lista = []\n",
        "while palavra.upper() != 'SAIR':\n",
        "  palavra = input('digite uma palavra:')\n",
        "  lista.append(palavra)\n",
        "print(lista)"
      ],
      "metadata": {
        "colab": {
          "base_uri": "https://localhost:8080/"
        },
        "id": "p3U41T2wGQe1",
        "outputId": "bd707e53-dccd-4ca3-a866-964333887c41"
      },
      "execution_count": 48,
      "outputs": [
        {
          "output_type": "stream",
          "name": "stdout",
          "text": [
            "digite uma palavra:uva\n",
            "digite uma palavra:laranja\n",
            "digite uma palavra:sair\n",
            "['uva', 'laranja', 'sair']\n"
          ]
        }
      ]
    },
    {
      "cell_type": "code",
      "source": [
        "#11-Escreva um loop que percorra os números de 1 a 50 e imprima \"Fizz\" para múltiplos de 3, \"Buzz\" para múltiplos de 5 e \"FizzBuzz\" para múltiplos de ambos."
      ],
      "metadata": {
        "id": "s9gXwZQ7GXSe"
      },
      "execution_count": null,
      "outputs": []
    },
    {
      "cell_type": "code",
      "source": [
        "#12-Utilize um for e in para contar quantas vogais existem em uma string fornecida pelo usuário."
      ],
      "metadata": {
        "id": "limMP3HOGez-"
      },
      "execution_count": null,
      "outputs": []
    },
    {
      "cell_type": "code",
      "source": [
        "#13-Crie um jogo de adivinhação onde o computador escolhe um número entre 1 e 100 e o usuário deve adivinhar. O programa deve dar dicas se o número é maior ou menor."
      ],
      "metadata": {
        "id": "8KhL5gvMGhCA"
      },
      "execution_count": null,
      "outputs": []
    },
    {
      "cell_type": "code",
      "source": [
        "#14-Escreva um programa que utilize while e continue para exibir apenas os números ímpares de 1 a 30."
      ],
      "metadata": {
        "id": "vA-nOMMdGjiO"
      },
      "execution_count": null,
      "outputs": []
    },
    {
      "cell_type": "code",
      "source": [
        "#15-Crie uma tabela de multiplicação de 1 a 10 utilizando loops aninhados."
      ],
      "metadata": {
        "id": "x3Gr_0JhGm7m"
      },
      "execution_count": null,
      "outputs": []
    }
  ]
}