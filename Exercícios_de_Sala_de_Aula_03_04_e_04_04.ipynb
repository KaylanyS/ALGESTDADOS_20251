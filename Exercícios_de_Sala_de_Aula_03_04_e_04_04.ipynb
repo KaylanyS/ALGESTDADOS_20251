{
  "nbformat": 4,
  "nbformat_minor": 0,
  "metadata": {
    "colab": {
      "provenance": [],
      "authorship_tag": "ABX9TyN4DFo4c9b0HDHFzPXo3ZIz",
      "include_colab_link": true
    },
    "kernelspec": {
      "name": "python3",
      "display_name": "Python 3"
    },
    "language_info": {
      "name": "python"
    }
  },
  "cells": [
    {
      "cell_type": "markdown",
      "metadata": {
        "id": "view-in-github",
        "colab_type": "text"
      },
      "source": [
        "<a href=\"https://colab.research.google.com/github/KaylanyS/ALGESTDADOS_20251/blob/main/Exerc%C3%ADcios_de_Sala_de_Aula_03_04_e_04_04.ipynb\" target=\"_parent\"><img src=\"https://colab.research.google.com/assets/colab-badge.svg\" alt=\"Open In Colab\"/></a>"
      ]
    },
    {
      "cell_type": "code",
      "execution_count": null,
      "metadata": {
        "colab": {
          "base_uri": "https://localhost:8080/"
        },
        "id": "0Tgc3l926-Vx",
        "outputId": "c73a4e0f-b459-45ad-8242-539e4c408b47"
      },
      "outputs": [
        {
          "output_type": "stream",
          "name": "stdout",
          "text": [
            "1\n",
            "2\n",
            "3\n",
            "4\n",
            "5\n",
            "6\n",
            "7\n",
            "8\n",
            "9\n",
            "10\n"
          ]
        }
      ],
      "source": [
        "#1-Escreva um programa que imprima os números de 1 a 10 utilizando um loop while.\n",
        "i = 1\n",
        "while i <= 10:\n",
        "  print(i)\n",
        "  i +=1\n"
      ]
    },
    {
      "cell_type": "code",
      "source": [
        "#2-Escreva um programa que imprima os números de 1 a 10 utilizando um loop for com range().\n",
        "for i in range (1,11):\n",
        "  print(i)"
      ],
      "metadata": {
        "colab": {
          "base_uri": "https://localhost:8080/"
        },
        "id": "Snvs-Hj98LHy",
        "outputId": "adfc9e7b-b4e2-4b31-e986-211c6730b953"
      },
      "execution_count": null,
      "outputs": [
        {
          "output_type": "stream",
          "name": "stdout",
          "text": [
            "1\n",
            "2\n",
            "3\n",
            "4\n",
            "5\n",
            "6\n",
            "7\n",
            "8\n",
            "9\n",
            "10\n"
          ]
        }
      ]
    },
    {
      "cell_type": "code",
      "source": [],
      "metadata": {
        "id": "hNoORCxxmYA4"
      },
      "execution_count": null,
      "outputs": []
    },
    {
      "cell_type": "code",
      "source": [
        "#3-Crie um loop for que percorra uma lista de frutas e imprima cada uma delas.\n",
        "frutas = ['cacau','kiwi','banana','pera']\n",
        "for i in range (len(frutas)):\n",
        "  print(frutas[i])"
      ],
      "metadata": {
        "colab": {
          "base_uri": "https://localhost:8080/"
        },
        "id": "XQ2Nx-9y8VzI",
        "outputId": "8f4642a4-1fbb-4480-96aa-a1762281e796"
      },
      "execution_count": null,
      "outputs": [
        {
          "output_type": "stream",
          "name": "stdout",
          "text": [
            "cacau\n",
            "kiwi\n",
            "banana\n",
            "pera\n"
          ]
        }
      ]
    },
    {
      "cell_type": "code",
      "source": [
        "#4-Utilize um while para imprimir os números pares de 0 a 20.\n",
        "numero = 0\n",
        "while numero <= 20:\n",
        "  if numero % 2 == 0:\n",
        "    print(numero)\n",
        "  numero += 1"
      ],
      "metadata": {
        "colab": {
          "base_uri": "https://localhost:8080/"
        },
        "id": "djBLYLHM8zLI",
        "outputId": "a2bddced-93d1-4b10-f2a3-7cdd91733040"
      },
      "execution_count": null,
      "outputs": [
        {
          "output_type": "stream",
          "name": "stdout",
          "text": [
            "0\n",
            "2\n",
            "4\n",
            "6\n",
            "8\n",
            "10\n",
            "12\n",
            "14\n",
            "16\n",
            "18\n",
            "20\n"
          ]
        }
      ]
    },
    {
      "cell_type": "code",
      "source": [
        "#5-Crie um loop for que utilize enumerate() para exibir os índices e valores de uma lista de nomes.\n",
        "nome = ['fulano','fulana','beltrano']\n",
        "for i , j in enumerate(nome):\n",
        "  print(f'{i} i {j}')"
      ],
      "metadata": {
        "colab": {
          "base_uri": "https://localhost:8080/"
        },
        "id": "ubnLrr5UBR0u",
        "outputId": "33c2698f-5237-4a5a-fd6a-0def5f07d678"
      },
      "execution_count": null,
      "outputs": [
        {
          "output_type": "stream",
          "name": "stdout",
          "text": [
            "0 i fulano\n",
            "1 i fulana\n",
            "2 i beltrano\n"
          ]
        }
      ]
    },
    {
      "cell_type": "code",
      "source": [
        "#6-Escreva um programa que peça um número ao usuário e continue pedindo até que o usuário digite um número positivo.\n",
        "numero = 0\n",
        "while True:\n",
        "  numero = int(input('digite um numero:'))\n",
        "  if numero > 0:\n",
        "    break"
      ],
      "metadata": {
        "colab": {
          "base_uri": "https://localhost:8080/"
        },
        "id": "eUjrI3DfF7rp",
        "outputId": "f4b860e2-f30f-4674-c63c-bc43589d1190"
      },
      "execution_count": null,
      "outputs": [
        {
          "name": "stdout",
          "output_type": "stream",
          "text": [
            "digite um numero:-9\n",
            "digite um numero:0\n",
            "digite um numero:2\n"
          ]
        }
      ]
    },
    {
      "cell_type": "code",
      "source": [
        "#7-Escreva um loop for que conte de 10 até 0 e, ao final, imprima \"Fim!\".\n",
        "for i in range(10,-1,-1):\n",
        "  print(i)\n",
        "print('fim')\n"
      ],
      "metadata": {
        "colab": {
          "base_uri": "https://localhost:8080/"
        },
        "id": "IOW-DIJ_GAv6",
        "outputId": "2da1a88b-61ee-48d0-ffe3-60da4ce6564e"
      },
      "execution_count": null,
      "outputs": [
        {
          "output_type": "stream",
          "name": "stdout",
          "text": [
            "10\n",
            "9\n",
            "8\n",
            "7\n",
            "6\n",
            "5\n",
            "4\n",
            "3\n",
            "2\n",
            "1\n",
            "0\n",
            "fim\n"
          ]
        }
      ]
    },
    {
      "cell_type": "code",
      "source": [
        "#8-Escreva um programa que use um while para calcular a soma dos números de 1 a 100.\n",
        "numero = 1\n",
        "soma = 0\n",
        "while numero <= 100:\n",
        "  soma += numero\n",
        "  numero += 1\n",
        "print(soma)"
      ],
      "metadata": {
        "colab": {
          "base_uri": "https://localhost:8080/"
        },
        "id": "5LWGsZ_YGF8C",
        "outputId": "a07f818b-a733-4d3c-b6fa-feeb04f9b087"
      },
      "execution_count": null,
      "outputs": [
        {
          "output_type": "stream",
          "name": "stdout",
          "text": [
            "5050\n"
          ]
        }
      ]
    },
    {
      "cell_type": "code",
      "source": [
        "#9-Modifique o exercício anterior para parar a soma se o total ultrapassar 1000, usando break.\n",
        "numero = 1\n",
        "soma = 0\n",
        "while numero <= 100:\n",
        "  if soma > 1000:\n",
        "    break\n",
        "  soma += numero\n",
        "  numero += 1\n",
        "print(soma)"
      ],
      "metadata": {
        "colab": {
          "base_uri": "https://localhost:8080/"
        },
        "id": "thSpnA-UGLuD",
        "outputId": "e2f5c87f-24ab-4c7f-8ba0-1dfbf11cbab9"
      },
      "execution_count": null,
      "outputs": [
        {
          "output_type": "stream",
          "name": "stdout",
          "text": [
            "1035\n"
          ]
        }
      ]
    },
    {
      "cell_type": "code",
      "source": [
        "#10-Crie um programa que peça ao usuário para digitar palavras e as adicione a uma lista até que ele digite \"sair\".\n",
        "palavra = ''\n",
        "lista = []\n",
        "while palavra.upper() != 'SAIR':\n",
        "  palavra = input('digite uma palavra:')\n",
        "  lista.append(palavra)\n",
        "print(lista)"
      ],
      "metadata": {
        "colab": {
          "base_uri": "https://localhost:8080/"
        },
        "id": "p3U41T2wGQe1",
        "outputId": "bd707e53-dccd-4ca3-a866-964333887c41"
      },
      "execution_count": null,
      "outputs": [
        {
          "output_type": "stream",
          "name": "stdout",
          "text": [
            "digite uma palavra:uva\n",
            "digite uma palavra:laranja\n",
            "digite uma palavra:sair\n",
            "['uva', 'laranja', 'sair']\n"
          ]
        }
      ]
    },
    {
      "cell_type": "code",
      "source": [
        "#11-Escreva um loop que percorra os números de 1 a 50 e imprima \"Fizz\" para múltiplos de 3, \"Buzz\" para múltiplos de 5 e \"FizzBuzz\" para múltiplos de ambos.\n",
        "for i in range(1,51):\n",
        "  if i % 3 == 0 and i % 5 == 0:\n",
        "    print('fizzbuzz')\n",
        "  elif i % 3 == 0:\n",
        "    print('fizz')\n",
        "  elif i % 5 == 0:\n",
        "    print('buzz')\n",
        "  else:\n",
        "   print(i)"
      ],
      "metadata": {
        "id": "s9gXwZQ7GXSe",
        "colab": {
          "base_uri": "https://localhost:8080/"
        },
        "outputId": "ce507f27-bd30-4589-fe8f-e33c9fb9c88f"
      },
      "execution_count": null,
      "outputs": [
        {
          "output_type": "stream",
          "name": "stdout",
          "text": [
            "1\n",
            "2\n",
            "fizz\n",
            "4\n",
            "buzz\n",
            "fizz\n",
            "7\n",
            "8\n",
            "fizz\n",
            "buzz\n",
            "11\n",
            "fizz\n",
            "13\n",
            "14\n",
            "fizzbuzz\n",
            "16\n",
            "17\n",
            "fizz\n",
            "19\n",
            "buzz\n",
            "fizz\n",
            "22\n",
            "23\n",
            "fizz\n",
            "buzz\n",
            "26\n",
            "fizz\n",
            "28\n",
            "29\n",
            "fizzbuzz\n",
            "31\n",
            "32\n",
            "fizz\n",
            "34\n",
            "buzz\n",
            "fizz\n",
            "37\n",
            "38\n",
            "fizz\n",
            "buzz\n",
            "41\n",
            "fizz\n",
            "43\n",
            "44\n",
            "fizzbuzz\n",
            "46\n",
            "47\n",
            "fizz\n",
            "49\n",
            "buzz\n"
          ]
        }
      ]
    },
    {
      "cell_type": "code",
      "source": [
        "#12-Utilize um for e in para contar quantas vogais existem em uma string fornecida pelo usuário.\n",
        "palavra = input('digite uma palavra:')\n",
        "vogais = ['a','e','i','o','u']\n",
        "contador_vogais= 0\n",
        "for i in palavra:\n",
        "  if i in vogais:\n",
        "    contador_vogais += 1\n",
        "print(f'A palavra possui {contador_vogais} vogais.')\n"
      ],
      "metadata": {
        "id": "limMP3HOGez-",
        "colab": {
          "base_uri": "https://localhost:8080/"
        },
        "outputId": "2139e53d-413f-4ec1-9ffc-f4d1473aef2d"
      },
      "execution_count": null,
      "outputs": [
        {
          "output_type": "stream",
          "name": "stdout",
          "text": [
            "digite uma palavra:palavra\n",
            "A palavra possui 3 vogais.\n"
          ]
        }
      ]
    },
    {
      "cell_type": "code",
      "source": [
        "#13-Crie um jogo de adivinhação onde o computador escolhe um número entre 1 e 100 e o usuário deve adivinhar. O programa deve dar dicas se o número é maior ou menor.\n",
        "import random\n",
        "numero_aleatorio = random.randint(1,100)\n",
        "numero_usuario = 0\n",
        "while numero_usuario != numero_aleatorio:\n",
        "  numero_usuario = int(input('digite um numero:'))\n",
        "  if numero_usuario > numero_aleatorio:\n",
        "    print('o numero é menor')\n",
        "  elif numero_usuario < numero_aleatorio:\n",
        "    print('o numero é maior')\n",
        "print('voce acertou')\n"
      ],
      "metadata": {
        "id": "8KhL5gvMGhCA",
        "colab": {
          "base_uri": "https://localhost:8080/"
        },
        "outputId": "c3b1751f-a517-4fa4-d889-1a60f404209b"
      },
      "execution_count": 27,
      "outputs": [
        {
          "output_type": "stream",
          "name": "stdout",
          "text": [
            "digite um numero:50\n",
            "o numero é menor\n",
            "digite um numero:45\n",
            "o numero é menor\n",
            "digite um numero:30\n",
            "o numero é maior\n",
            "digite um numero:37\n",
            "o numero é menor\n",
            "digite um numero:32\n",
            "o numero é maior\n",
            "digite um numero:34\n",
            "voce acertou\n"
          ]
        }
      ]
    },
    {
      "cell_type": "code",
      "source": [
        "# 14-Escreva um programa que utilize while e continue para exibir apenas os números ímpares de 1 a 30.\n",
        "numero = 1\n",
        "while numero <= 30:\n",
        "  if numero % 2 == 0:\n",
        "    numero += 1\n",
        "    continue\n",
        "  print(numero)\n",
        "  numero += 1\n"
      ],
      "metadata": {
        "colab": {
          "base_uri": "https://localhost:8080/"
        },
        "id": "J7aT7XfXkPAf",
        "outputId": "f8541120-f6f0-4688-f0a2-74199e24d2f5"
      },
      "execution_count": null,
      "outputs": [
        {
          "output_type": "stream",
          "name": "stdout",
          "text": [
            "1\n",
            "3\n",
            "5\n",
            "7\n",
            "9\n",
            "11\n",
            "13\n",
            "15\n",
            "17\n",
            "19\n",
            "21\n",
            "23\n",
            "25\n",
            "27\n",
            "29\n"
          ]
        }
      ]
    },
    {
      "cell_type": "code",
      "source": [
        "#15-Crie uma tabela de multiplicação de 1 a 10 utilizando loops aninhados.\n",
        "for i in range(1,11):\n",
        "  for j in range(1,11):\n",
        "    print(f'{i} x {j} = {i*j}')\n",
        "  print(\"-\" * 20)"
      ],
      "metadata": {
        "id": "x3Gr_0JhGm7m",
        "colab": {
          "base_uri": "https://localhost:8080/"
        },
        "outputId": "1b0a6483-607b-47e4-f4ab-b7f5caccf2b2"
      },
      "execution_count": null,
      "outputs": [
        {
          "output_type": "stream",
          "name": "stdout",
          "text": [
            "1 x 1 = 1\n",
            "1 x 2 = 2\n",
            "1 x 3 = 3\n",
            "1 x 4 = 4\n",
            "1 x 5 = 5\n",
            "1 x 6 = 6\n",
            "1 x 7 = 7\n",
            "1 x 8 = 8\n",
            "1 x 9 = 9\n",
            "1 x 10 = 10\n",
            "--------------------\n",
            "2 x 1 = 2\n",
            "2 x 2 = 4\n",
            "2 x 3 = 6\n",
            "2 x 4 = 8\n",
            "2 x 5 = 10\n",
            "2 x 6 = 12\n",
            "2 x 7 = 14\n",
            "2 x 8 = 16\n",
            "2 x 9 = 18\n",
            "2 x 10 = 20\n",
            "--------------------\n",
            "3 x 1 = 3\n",
            "3 x 2 = 6\n",
            "3 x 3 = 9\n",
            "3 x 4 = 12\n",
            "3 x 5 = 15\n",
            "3 x 6 = 18\n",
            "3 x 7 = 21\n",
            "3 x 8 = 24\n",
            "3 x 9 = 27\n",
            "3 x 10 = 30\n",
            "--------------------\n",
            "4 x 1 = 4\n",
            "4 x 2 = 8\n",
            "4 x 3 = 12\n",
            "4 x 4 = 16\n",
            "4 x 5 = 20\n",
            "4 x 6 = 24\n",
            "4 x 7 = 28\n",
            "4 x 8 = 32\n",
            "4 x 9 = 36\n",
            "4 x 10 = 40\n",
            "--------------------\n",
            "5 x 1 = 5\n",
            "5 x 2 = 10\n",
            "5 x 3 = 15\n",
            "5 x 4 = 20\n",
            "5 x 5 = 25\n",
            "5 x 6 = 30\n",
            "5 x 7 = 35\n",
            "5 x 8 = 40\n",
            "5 x 9 = 45\n",
            "5 x 10 = 50\n",
            "--------------------\n",
            "6 x 1 = 6\n",
            "6 x 2 = 12\n",
            "6 x 3 = 18\n",
            "6 x 4 = 24\n",
            "6 x 5 = 30\n",
            "6 x 6 = 36\n",
            "6 x 7 = 42\n",
            "6 x 8 = 48\n",
            "6 x 9 = 54\n",
            "6 x 10 = 60\n",
            "--------------------\n",
            "7 x 1 = 7\n",
            "7 x 2 = 14\n",
            "7 x 3 = 21\n",
            "7 x 4 = 28\n",
            "7 x 5 = 35\n",
            "7 x 6 = 42\n",
            "7 x 7 = 49\n",
            "7 x 8 = 56\n",
            "7 x 9 = 63\n",
            "7 x 10 = 70\n",
            "--------------------\n",
            "8 x 1 = 8\n",
            "8 x 2 = 16\n",
            "8 x 3 = 24\n",
            "8 x 4 = 32\n",
            "8 x 5 = 40\n",
            "8 x 6 = 48\n",
            "8 x 7 = 56\n",
            "8 x 8 = 64\n",
            "8 x 9 = 72\n",
            "8 x 10 = 80\n",
            "--------------------\n",
            "9 x 1 = 9\n",
            "9 x 2 = 18\n",
            "9 x 3 = 27\n",
            "9 x 4 = 36\n",
            "9 x 5 = 45\n",
            "9 x 6 = 54\n",
            "9 x 7 = 63\n",
            "9 x 8 = 72\n",
            "9 x 9 = 81\n",
            "9 x 10 = 90\n",
            "--------------------\n",
            "10 x 1 = 10\n",
            "10 x 2 = 20\n",
            "10 x 3 = 30\n",
            "10 x 4 = 40\n",
            "10 x 5 = 50\n",
            "10 x 6 = 60\n",
            "10 x 7 = 70\n",
            "10 x 8 = 80\n",
            "10 x 9 = 90\n",
            "10 x 10 = 100\n",
            "--------------------\n"
          ]
        }
      ]
    }
  ]
}