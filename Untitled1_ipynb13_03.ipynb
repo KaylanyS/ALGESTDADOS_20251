{
  "nbformat": 4,
  "nbformat_minor": 0,
  "metadata": {
    "colab": {
      "provenance": [],
      "authorship_tag": "ABX9TyPcE6w9PMCA4iRpMOQx64v4",
      "include_colab_link": true
    },
    "kernelspec": {
      "name": "python3",
      "display_name": "Python 3"
    },
    "language_info": {
      "name": "python"
    }
  },
  "cells": [
    {
      "cell_type": "markdown",
      "metadata": {
        "id": "view-in-github",
        "colab_type": "text"
      },
      "source": [
        "<a href=\"https://colab.research.google.com/github/KaylanyS/ALGESTDADOS_20251/blob/main/Untitled1_ipynb13_03.ipynb\" target=\"_parent\"><img src=\"https://colab.research.google.com/assets/colab-badge.svg\" alt=\"Open In Colab\"/></a>"
      ]
    },
    {
      "cell_type": "code",
      "source": [
        " # 1-Peça dois números ao usuário e exiba a soma.\n",
        "num1= int (input('Digite o primeiro número:'))\n",
        "num2= int (input('Digite o segundo número:'))\n",
        "resultado = num1 + num2\n",
        "print(resultado)"
      ],
      "metadata": {
        "id": "_8lITu4qcd4q",
        "colab": {
          "base_uri": "https://localhost:8080/"
        },
        "outputId": "2f538a70-2d30-40c6-907d-cc373a663e6c"
      },
      "execution_count": null,
      "outputs": [
        {
          "output_type": "stream",
          "name": "stdout",
          "text": [
            "Digite o primeiro número:1\n",
            "Digite o segundo número:1\n",
            "2\n"
          ]
        }
      ]
    },
    {
      "cell_type": "code",
      "execution_count": null,
      "metadata": {
        "colab": {
          "base_uri": "https://localhost:8080/"
        },
        "id": "7P8OG-JkQ8ki",
        "outputId": "94500e95-4fcc-4bbb-9cba-6ec80496adb8"
      },
      "outputs": [
        {
          "output_type": "stream",
          "name": "stdout",
          "text": [
            "Digite o nomekaylany\n",
            "Digite o seu sobrenomesoares\n",
            "seu nome é: kaylany soares\n"
          ]
        }
      ],
      "source": [
        "# 2-Solicite o primeiro e o último nome do usuário e exiba o nome completo.\n",
        "nome = input('Digite o nome')\n",
        "sobrenome = input('Digite o seu sobrenome')\n",
        "print('seu nome é:', nome, sobrenome)"
      ]
    },
    {
      "cell_type": "code",
      "source": [
        "# 3-Peça uma palavra e um número ao usuário e exiba a palavra repetida esse número de vezes.\n",
        "palavra = input('Digite uma palavra')\n",
        "número = int (input('Digite um número'))\n",
        "print(palavra * número)\n",
        "\n"
      ],
      "metadata": {
        "colab": {
          "base_uri": "https://localhost:8080/"
        },
        "id": "-CoDXuEVVNEN",
        "outputId": "2032f644-4748-45a8-b234-d0d802f621f0"
      },
      "execution_count": null,
      "outputs": [
        {
          "output_type": "stream",
          "name": "stdout",
          "text": [
            "Digite uma palavrarei\n",
            "Digite um número2\n",
            "reirei\n"
          ]
        }
      ]
    },
    {
      "cell_type": "code",
      "source": [
        "# 4-Solicite um texto e exiba-o em letras maiúsculas.\n",
        "texto = input('Digite um texto')\n",
        "print(texto.upper ())\n",
        "\n"
      ],
      "metadata": {
        "colab": {
          "base_uri": "https://localhost:8080/"
        },
        "id": "0Rno8htnWTWF",
        "outputId": "28ff6662-f6f8-4cba-df14-6c77d1e74063"
      },
      "execution_count": null,
      "outputs": [
        {
          "output_type": "stream",
          "name": "stdout",
          "text": [
            "Digite um texto Deus é fiel\n",
            " DEUS É FIEL\n"
          ]
        }
      ]
    },
    {
      "cell_type": "code",
      "source": [
        "# 5-Peça uma palavra e exiba quantos caracteres ela tem.\n",
        "palavra = input('Digite uma palavra:')\n",
        "print(len(palavra))\n"
      ],
      "metadata": {
        "colab": {
          "base_uri": "https://localhost:8080/"
        },
        "id": "MzkIlKCCXKBg",
        "outputId": "37f33902-13eb-4dbd-9ff9-dd0fe56c13fc"
      },
      "execution_count": null,
      "outputs": [
        {
          "output_type": "stream",
          "name": "stdout",
          "text": [
            "Digite uma palavra:Garrafa\n",
            "7\n"
          ]
        }
      ]
    },
    {
      "cell_type": "code",
      "source": [
        "# 6-Mostre a data e a hora atuais.\n",
        "from datetime import datetime, date, time, timedelta\n",
        "import pytz\n",
        "fuso_horario = pytz.timezone(\"America/Sao_Paulo\")\n",
        "data_hora_atual = datetime.now(fuso_horario)\n",
        "print(\"São exatamente:\", data_hora_atual.strftime(\"%d/ de %m de %Y e são %HH:%MM:%SS\"))"
      ],
      "metadata": {
        "id": "Xt2H3ffeYlsw",
        "colab": {
          "base_uri": "https://localhost:8080/"
        },
        "outputId": "478d87af-ee30-46ef-aa5b-7681d3f8173f"
      },
      "execution_count": null,
      "outputs": [
        {
          "output_type": "stream",
          "name": "stdout",
          "text": [
            "São exatamente: 13/ de 03 de 2025 e são 14H:05M:10S\n"
          ]
        }
      ]
    },
    {
      "cell_type": "code",
      "source": [
        "# 7-Solicite o ano de nascimento do usuário e calcule a idade aproximada\n",
        "from datetime import datetime\n",
        "data_nasc = input('Quando você nasceu?(YYYY)')\n",
        "data_conv = datetime.strptime(data_nasc, '%Y')\n",
        "hoje = datetime.now()\n",
        "idade = (hoje- data_conv).days //365\n",
        "print(f'sua idade é: {idade} anos')"
      ],
      "metadata": {
        "id": "YY6j_VCId-Qp",
        "colab": {
          "base_uri": "https://localhost:8080/"
        },
        "outputId": "86f723fb-fa7f-495c-e3b3-ad6c1b03128d"
      },
      "execution_count": null,
      "outputs": [
        {
          "output_type": "stream",
          "name": "stdout",
          "text": [
            "Quando você nasceu?(YYYY)2006\n",
            "sua idade é: 19 anos\n"
          ]
        }
      ]
    },
    {
      "cell_type": "code",
      "source": [
        "# 8-Peça três números ao usuário e exiba a média aritmética.\n",
        "num1 = int (input('Digite o primeiro número:'))\n",
        "num2 = int (input('Digite o segundo número:'))\n",
        "num3 = int (input('Digite o terceiro número:'))\n",
        "resultado = (num1 + num2 + num3) / 3\n",
        "print(resultado)"
      ],
      "metadata": {
        "colab": {
          "base_uri": "https://localhost:8080/"
        },
        "id": "6QaryQAWgP0P",
        "outputId": "c8b0eb6a-7990-403b-af7b-fe8b62b1c39c"
      },
      "execution_count": null,
      "outputs": [
        {
          "output_type": "stream",
          "name": "stdout",
          "text": [
            "Digite o primeiro número:43\n",
            "Digite o segundo número:54\n",
            "Digite o terceiro número:756\n",
            "284.3333333333333\n"
          ]
        }
      ]
    },
    {
      "cell_type": "code",
      "source": [
        "# 9-Solicite a data de nascimento do usuário no formato AAAA-MM-DD e calcule aproximadamente quantos dias ele já viveu.\n",
        "from datetime import datetime\n",
        "data_nasc = input('Quando você nasceu?(YYYY/MM/DD):')\n",
        "data_conv = datetime.strptime(data_nasc, '%Y/%m/%d')\n",
        "hoje = datetime.now()\n",
        "idade = (hoje- data_conv).days\n",
        "print(f'você viveu: {idade} dias')\n",
        "\n"
      ],
      "metadata": {
        "colab": {
          "base_uri": "https://localhost:8080/"
        },
        "id": "Lg_lvtJpgvTA",
        "outputId": "7bd0c5e6-d979-44b7-fd14-0bf988308417"
      },
      "execution_count": null,
      "outputs": [
        {
          "output_type": "stream",
          "name": "stdout",
          "text": [
            "Quando você nasceu?(YYYY/MM/DD):2006/03/22\n",
            "você viveu: 6931 dias\n"
          ]
        }
      ]
    },
    {
      "cell_type": "code",
      "source": [
        "# 10-Solicite uma data no formato AAAA-MM-DD e exiba-a no formato DD/MM/AAAA.\n",
        "from datetime import datetime\n",
        "data_nasc = input('Quando você nasceu?(YYYY/MM/DD):')\n",
        "data_conv = datetime.strptime(data_nasc, '%Y/%m/%d')\n",
        "print(data_conv.strftime(\"%d/%m/%Y\"))\n",
        "\n"
      ],
      "metadata": {
        "colab": {
          "base_uri": "https://localhost:8080/"
        },
        "id": "2fjb2mMXITZV",
        "outputId": "15d1ac91-a0cf-4a0a-94d4-979eef0662bc"
      },
      "execution_count": null,
      "outputs": [
        {
          "output_type": "stream",
          "name": "stdout",
          "text": [
            "Quando você nasceu?(YYYY/MM/DD):2006/03/22\n",
            "22/03/2006\n"
          ]
        }
      ]
    },
    {
      "cell_type": "code",
      "source": [
        "# 11-Solicite o raio de um círculo e calcule sua área.\n",
        "from math import pi\n",
        "raio = float (input('digite o raio do círculo:'))\n",
        "area = pi * (raio ** 2)\n",
        "print(f'a area do circulo é: {area:.2f}')"
      ],
      "metadata": {
        "colab": {
          "base_uri": "https://localhost:8080/"
        },
        "id": "RaP2h9Gr0X6k",
        "outputId": "d66b2300-d5f1-41fd-f77e-3fc8ad93530b"
      },
      "execution_count": 4,
      "outputs": [
        {
          "output_type": "stream",
          "name": "stdout",
          "text": [
            "digite o raio do círculo:25\n",
            "a area do circulo é: 1963.50\n"
          ]
        }
      ]
    },
    {
      "cell_type": "code",
      "source": [
        "# 12-Solicite o peso e a altura da pessoa e calcule o IMC.\n",
        "peso = float (input( 'Digite o seu peso'))\n",
        "altura = float(input( 'Digite sua altura'))\n",
        "IMC = peso/(altura*altura)\n",
        "print(IMC)\n",
        "\n",
        "\n"
      ],
      "metadata": {
        "colab": {
          "base_uri": "https://localhost:8080/"
        },
        "id": "TTzU5ACL1jje",
        "outputId": "af15440e-d876-4bdc-e4db-7b21299d2264"
      },
      "execution_count": 9,
      "outputs": [
        {
          "output_type": "stream",
          "name": "stdout",
          "text": [
            "Digite o seu peso70\n",
            "Digite sua altura1.60\n",
            "27.343749999999996\n"
          ]
        }
      ]
    },
    {
      "cell_type": "code",
      "source": [
        " # 13-Peça a altura e as bases de um trapézio e calcule a sua área.\n",
        " base1 = float (input('Qual a base maior do trapézio:'))\n",
        " base2 = float (input('Qual a base menor do trapézio:'))\n",
        " altura = float (input('Qual a altura do trapézio:'))\n",
        " area = ((base1 + base2) * altura) / 2\n",
        " print(f' a area do trapézio é: {area:.2f}')"
      ],
      "metadata": {
        "colab": {
          "base_uri": "https://localhost:8080/"
        },
        "id": "UC1Asdmh3qVB",
        "outputId": "d86c9be2-6678-4622-cd36-b519c1256193"
      },
      "execution_count": 11,
      "outputs": [
        {
          "output_type": "stream",
          "name": "stdout",
          "text": [
            "Qual a base maior do trapézio:45\n",
            "Qual a base menor do trapézio:22\n",
            "Qual a altura do trapézio:15\n",
            " a area do trapézio é: 502.50\n"
          ]
        }
      ]
    },
    {
      "cell_type": "code",
      "source": [
        "# 14-Solicite uma temperatura em Celsius e converta-a para Fahrenheit.\n",
        "celcius = float (input('Qual a temperatura em celcius?'))\n",
        "fahrenheit = (celcius * 1.8) + 32\n",
        "print(f'a temperatura em fahrenheit é: {fahrenheit}')"
      ],
      "metadata": {
        "colab": {
          "base_uri": "https://localhost:8080/"
        },
        "id": "mErFejM25mPt",
        "outputId": "92bd878f-6dc8-4df7-dba0-41d5dc27d3fd"
      },
      "execution_count": 12,
      "outputs": [
        {
          "output_type": "stream",
          "name": "stdout",
          "text": [
            "Qual a temperatura em celcius?34\n",
            "a temperatura em fahrenheit é: 93.2\n"
          ]
        }
      ]
    },
    {
      "cell_type": "code",
      "source": [
        " # 15-Peça um número e exiba o fatorial dele.\n",
        " #leitura do numero\n",
        " numero = int(input('Digite um número'))\n",
        " #para garantir que não haja 0 na multiplicação\n",
        " fatorial = 1\n",
        " #Função de repetição (Laço For)\n",
        " for i in range(1, numero + 1): #Enquanto i for menor igual que numero+1, soma +1\n",
        "    fatorial *= i\n",
        "\n",
        " print(f'O fatorial de {numero} é {fatorial}')"
      ],
      "metadata": {
        "colab": {
          "base_uri": "https://localhost:8080/"
        },
        "id": "ywXsLYlhBEJT",
        "outputId": "a04c6c94-c181-4555-c5ee-77ecfe4e955c"
      },
      "execution_count": 15,
      "outputs": [
        {
          "output_type": "stream",
          "name": "stdout",
          "text": [
            "Digite um número 5\n",
            "O fatorial de 5 é 120\n"
          ]
        }
      ]
    }
  ]
}