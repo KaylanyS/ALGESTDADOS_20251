{
  "nbformat": 4,
  "nbformat_minor": 0,
  "metadata": {
    "colab": {
      "provenance": [],
      "authorship_tag": "ABX9TyOo2WxRMEUuh2jX2NJgNCbA",
      "include_colab_link": true
    },
    "kernelspec": {
      "name": "python3",
      "display_name": "Python 3"
    },
    "language_info": {
      "name": "python"
    }
  },
  "cells": [
    {
      "cell_type": "markdown",
      "metadata": {
        "id": "view-in-github",
        "colab_type": "text"
      },
      "source": [
        "<a href=\"https://colab.research.google.com/github/KaylanyS/ALGESTDADOS_20251/blob/main/Exerc%C3%ADcios_de_Fixa%C3%A7%C3%A3o_16_05.ipynb\" target=\"_parent\"><img src=\"https://colab.research.google.com/assets/colab-badge.svg\" alt=\"Open In Colab\"/></a>"
      ]
    },
    {
      "cell_type": "code",
      "source": [
        "#1 - Crie um vetor com 10 números inteiros fornecidos pelo usuário e exiba a soma de todos os elementos.\n",
        "numeros = []\n",
        "for x in range(10):\n",
        "    num = int(input(f'Digite o {x+1}° número:'))\n",
        "    numeros.append(num)\n",
        "soma = 0\n",
        "for num in numeros:\n",
        "   soma += num\n",
        "print(soma)"
      ],
      "metadata": {
        "colab": {
          "base_uri": "https://localhost:8080/"
        },
        "id": "3ql0UePlb9M0",
        "outputId": "6c3e0f66-2db1-47dc-c1e8-0463ca5f5c99"
      },
      "execution_count": null,
      "outputs": [
        {
          "output_type": "stream",
          "name": "stdout",
          "text": [
            "Digite o 1° número:1\n",
            "Digite o 2° número:2\n",
            "Digite o 3° número:3\n",
            "Digite o 4° número:4\n",
            "Digite o 5° número:5\n",
            "Digite o 6° número:6\n",
            "Digite o 7° número:7\n",
            "Digite o 8° número:8\n",
            "Digite o 9° número:9\n",
            "Digite o 10° número:0\n",
            "45\n"
          ]
        }
      ]
    },
    {
      "cell_type": "code",
      "source": [
        "#2 - Leia um vetor com 5 nomes de pessoas e exiba os nomes em ordem alfabética.\n",
        "pessoas = ['João','Maria','Amanda','Luiz']\n",
        "pessoas.sort()\n",
        "print(pessoas)"
      ],
      "metadata": {
        "id": "3_9svpw-cV-t",
        "colab": {
          "base_uri": "https://localhost:8080/"
        },
        "outputId": "67ce5aa2-a2c3-4381-eae9-47e60f73191d"
      },
      "execution_count": 2,
      "outputs": [
        {
          "output_type": "stream",
          "name": "stdout",
          "text": [
            "['Amanda', 'João', 'Luiz', 'Maria']\n"
          ]
        }
      ]
    },
    {
      "cell_type": "code",
      "source": [
        "#3 - Dado um vetor com 8 números inteiros, encontre e exiba o maior e o menor valor.\n",
        "numeros = [9,5,4,7,2,1,3,8]\n",
        "maior = max(numeros)\n",
        "menor = min(numeros)\n",
        "print(f'O maior valor:{maior} | Menor valor:{menor}')"
      ],
      "metadata": {
        "id": "HCbQvbXxcasm",
        "colab": {
          "base_uri": "https://localhost:8080/"
        },
        "outputId": "0c164ebd-4e40-4a4d-c032-0cc893e5a09d"
      },
      "execution_count": 3,
      "outputs": [
        {
          "output_type": "stream",
          "name": "stdout",
          "text": [
            "O maior valor:9 | Menor valor:1\n"
          ]
        }
      ]
    },
    {
      "cell_type": "code",
      "source": [
        "#4 - Peça ao usuário 10 números e armazene em um vetor. Em seguida, exiba apenas os números pares.\n",
        "numeros = []\n",
        "for i in range(10):\n",
        "  num = int(input(f'Digite o valor {i+1}:'))\n",
        "  numeros.append(num)\n",
        "for num in numeros:\n",
        "  if num % 2 == 0:\n",
        "    print(num,end=' ')"
      ],
      "metadata": {
        "id": "ceAMt2_zckMJ",
        "colab": {
          "base_uri": "https://localhost:8080/"
        },
        "outputId": "b39d4d67-7b11-4547-bc0f-2ee6d3020816"
      },
      "execution_count": 6,
      "outputs": [
        {
          "output_type": "stream",
          "name": "stdout",
          "text": [
            "Digite o valor 1:1\n",
            "Digite o valor 2:2\n",
            "Digite o valor 3:3\n",
            "Digite o valor 4:4\n",
            "Digite o valor 5:5\n",
            "Digite o valor 6:6\n",
            "Digite o valor 7:7\n",
            "Digite o valor 8:8\n",
            "Digite o valor 9:9\n",
            "Digite o valor 10:10\n",
            "2 4 6 8 10 "
          ]
        }
      ]
    },
    {
      "cell_type": "code",
      "source": [
        "#5 - Leia um vetor com 6 números reais e exiba a média aritmética dos valores.\n",
        "reais = [5.5,6.5,9,8.7,8,9.5]\n",
        "media = sum(reais)/len(reais)\n",
        "print(f'Média da lista: {media:.1f}')\n"
      ],
      "metadata": {
        "id": "XIu0hHOlcuzH",
        "colab": {
          "base_uri": "https://localhost:8080/"
        },
        "outputId": "96165ef2-8ebb-4624-e6ce-bd8731f394b1"
      },
      "execution_count": 9,
      "outputs": [
        {
          "output_type": "stream",
          "name": "stdout",
          "text": [
            "Média da lista: 7.9\n"
          ]
        }
      ]
    },
    {
      "cell_type": "code",
      "source": [
        "#6 - Crie um vetor de 10 elementos e conte quantos são maiores que 50.\n",
        "elementos = [12,45,55,66,66,55,52,22]\n",
        "cont = 0\n",
        "for e in elementos:\n",
        "  if e > 50:\n",
        "    cont+=1\n",
        "print(cont)"
      ],
      "metadata": {
        "id": "3TXCsd7oczvB",
        "colab": {
          "base_uri": "https://localhost:8080/"
        },
        "outputId": "2ad048c4-ac19-4a51-d891-75289045dcb0"
      },
      "execution_count": 18,
      "outputs": [
        {
          "output_type": "stream",
          "name": "stdout",
          "text": [
            "5\n"
          ]
        }
      ]
    },
    {
      "cell_type": "code",
      "source": [
        "#7 - Crie um vetor com 7 elementos e exiba os valores ao contrário (do último para o primeiro).\n",
        "pessoas = [1,2,3,4,5,6,7]\n",
        "invertido = elementos[::-1]\n",
        "print(invertido)"
      ],
      "metadata": {
        "id": "gEiUlrp9c4Bq",
        "colab": {
          "base_uri": "https://localhost:8080/"
        },
        "outputId": "13cfc521-a0f2-4e10-b048-284fd265c68c"
      },
      "execution_count": 19,
      "outputs": [
        {
          "output_type": "stream",
          "name": "stdout",
          "text": [
            "[22, 52, 55, 66, 66, 55, 45, 12]\n"
          ]
        }
      ]
    },
    {
      "cell_type": "code",
      "source": [
        "#8 - Leia um vetor com 5 elementos e verifique se há elementos repetidos. Exiba os valores duplicados.\n",
        "numbers = [1,1,2,3,4]\n",
        "repetidos = []\n",
        "for n in numbers:\n",
        "  if numbers.count(n) > 1:\n",
        "    repetidos.append(n)\n",
        "print(set(repetidos))"
      ],
      "metadata": {
        "id": "2RKBtrK0c6aR",
        "colab": {
          "base_uri": "https://localhost:8080/"
        },
        "outputId": "aa9e365a-6a79-4f41-e5e3-d4d56b57349f"
      },
      "execution_count": 20,
      "outputs": [
        {
          "output_type": "stream",
          "name": "stdout",
          "text": [
            "{1}\n"
          ]
        }
      ]
    },
    {
      "cell_type": "code",
      "source": [
        "#9 - Crie um vetor com 10 números inteiros aleatórios entre 1 e 100. Em seguida, exiba os números ordenados.\n",
        "import random"
      ],
      "metadata": {
        "id": "nEsRfEWuc8zJ"
      },
      "execution_count": null,
      "outputs": []
    },
    {
      "cell_type": "code",
      "source": [
        "#10 - Leia um vetor com 6 elementos inteiros e solicite ao usuário um valor. Verifique se esse valor existe no vetor.\n"
      ],
      "metadata": {
        "id": "ZVyLIALHc_qS"
      },
      "execution_count": null,
      "outputs": []
    },
    {
      "cell_type": "code",
      "source": [
        "#11 - Crie uma matriz 3x3 e preencha com valores fornecidos pelo usuário. Em seguida, exiba a matriz formatada."
      ],
      "metadata": {
        "id": "jQ9JBN5GdCrq"
      },
      "execution_count": null,
      "outputs": []
    },
    {
      "cell_type": "code",
      "source": [
        "#12 - Gere uma matriz 4x4 com números aleatórios entre 1 e 20 e exiba a soma de todos os elementos."
      ],
      "metadata": {
        "id": "SF9o3Z3adHFr"
      },
      "execution_count": null,
      "outputs": []
    },
    {
      "cell_type": "code",
      "source": [
        "#13 - Dada uma matriz 3x3 com números inteiros, exiba a soma dos elementos da diagonal principal."
      ],
      "metadata": {
        "id": "yOVTbmE2dNRk"
      },
      "execution_count": null,
      "outputs": []
    },
    {
      "cell_type": "code",
      "source": [
        "#14 - Leia uma matriz 2x3 e uma matriz 3x2. Em seguida, calcule e exiba a matriz produto (multiplicação de matrizes)."
      ],
      "metadata": {
        "id": "JEUeu7rmdPi0"
      },
      "execution_count": null,
      "outputs": []
    },
    {
      "cell_type": "code",
      "source": [
        "#15 - Crie uma matriz 3x3 com valores inteiros. Conte quantos números pares ela possui."
      ],
      "metadata": {
        "id": "dDMp3XPMdPvs"
      },
      "execution_count": null,
      "outputs": []
    },
    {
      "cell_type": "code",
      "source": [
        "#16 - Gere uma matriz 5x5 onde cada elemento seja igual à soma de sua linha e coluna (i + j)."
      ],
      "metadata": {
        "id": "O2rKsaSMdP7s"
      },
      "execution_count": null,
      "outputs": []
    },
    {
      "cell_type": "code",
      "source": [
        "#17 - Dada uma matriz 4x4, encontre e exiba o maior elemento da matriz e sua posição (linha, coluna)."
      ],
      "metadata": {
        "id": "ZMgus4NhdQHU"
      },
      "execution_count": null,
      "outputs": []
    },
    {
      "cell_type": "code",
      "source": [
        "#18 - Crie uma matriz identidade de ordem 4 (1s na diagonal principal e 0s no restante)."
      ],
      "metadata": {
        "id": "Gw7pF3MMdQRM"
      },
      "execution_count": null,
      "outputs": []
    },
    {
      "cell_type": "code",
      "source": [
        "#19 - Leia uma matriz 3x3 e exiba sua transposta (troca de linhas por colunas)."
      ],
      "metadata": {
        "id": "EW7unQI6dQaE"
      },
      "execution_count": null,
      "outputs": []
    },
    {
      "cell_type": "code",
      "source": [
        "#20 - Crie uma matriz 3x3 com valores fornecidos pelo usuário e verifique se ela é simétrica (igual à sua transposta)."
      ],
      "metadata": {
        "id": "F6kXYzHWdhD0"
      },
      "execution_count": null,
      "outputs": []
    }
  ]
}