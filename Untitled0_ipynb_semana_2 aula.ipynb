{
  "nbformat": 4,
  "nbformat_minor": 0,
  "metadata": {
    "colab": {
      "provenance": [],
      "authorship_tag": "ABX9TyM1xi12rcgTBZj2CHJTy1Z5",
      "include_colab_link": true
    },
    "kernelspec": {
      "name": "python3",
      "display_name": "Python 3"
    },
    "language_info": {
      "name": "python"
    }
  },
  "cells": [
    {
      "cell_type": "markdown",
      "metadata": {
        "id": "view-in-github",
        "colab_type": "text"
      },
      "source": [
        "<a href=\"https://colab.research.google.com/github/KaylanyS/ALGESTDADOS_20251/blob/main/Untitled0_ipynb_semana_2%20aula.ipynb\" target=\"_parent\"><img src=\"https://colab.research.google.com/assets/colab-badge.svg\" alt=\"Open In Colab\"/></a>"
      ]
    },
    {
      "cell_type": "code",
      "execution_count": null,
      "metadata": {
        "colab": {
          "base_uri": "https://localhost:8080/"
        },
        "id": "7P8OG-JkQ8ki",
        "outputId": "26c56611-977f-4e76-b0cd-ca86595e0112"
      },
      "outputs": [
        {
          "output_type": "stream",
          "name": "stdout",
          "text": [
            "Digite o seu lindo nome:Kaylany\n",
            "Digite o nome da sua linda cidadeVila Valério\n",
            "Quando você nasceu?(DD/MM/YYYY)22/03/2006\n",
            "Seu nome é Kaylany, sua cidade é Vila Valério e sua idade é 18 anos\n"
          ]
        }
      ],
      "source": [
        "# cria um programa que retorne o nome, a cidade e a idade de um usuário através da sua data de nascimento.\n",
        "#importando a biblioteca datetime\n",
        "from datetime import datetime\n",
        "\n",
        "# Atribui um valor textual a variável nome\n",
        "nome = input('Digite o seu lindo nome:')\n",
        "\n",
        "# Atribui um valor textual a variável nome\n",
        "cidade = input('Digite o nome da sua linda cidade')\n",
        "\n",
        "#Data d e nascimento em formato de texto\n",
        "data_nasc = input('Quando você nasceu?(DD/MM/YYYY)')\n",
        "\n",
        "#Convertendo a data_nasc para o formato de data\n",
        "data_conv = datetime.strptime(data_nasc, '%d/%m/%Y')\n",
        "\n",
        "#Pegando do sistema a data de hoje\n",
        "hoje = datetime.now()\n",
        "\n",
        "#Idade = Data de hoje - Data de Nascimento, em dias, dividido por 365 dias do ano\n",
        "idade= (hoje - data_conv). days // 365\n",
        "\n",
        "print(f'Seu nome é {nome}, sua cidade é {cidade} e sua idade é {idade} anos')"
      ]
    },
    {
      "cell_type": "code",
      "source": [
        "#MANIPULAÇÃO DE TEMPO E DATAS USANDO O PYTHON\n",
        "\n",
        "from datetime import datetime, date, time, timedelta  # Importa classes para manipulação de datas e horários\n",
        "import pytz  # Biblioteca para trabalhar com fusos horários\n",
        "data_hora_atual = datetime.now()\n",
        "print(\"Data e Hora Atual:\", data_hora_atual)\n",
        "\n",
        "\n",
        "print(\"Formato padrão:\", data_hora_atual.strftime(\"%Y-%m-%d %H:%M:%S\"))  # Exemplo: 2025-03-07 14:30:00\n",
        "print(\"Data por extenso:\", data_hora_atual.strftime(\"%d de %B de %Y\"))  # Exemplo: 07 de Março de 2025\n",
        "print(\"Hora formatada:\", data_hora_atual.strftime(\"%H:%M:%S\"))  # Exemplo: 14:30:00\n",
        "\n"
      ],
      "metadata": {
        "colab": {
          "base_uri": "https://localhost:8080/"
        },
        "id": "UakojjPYxAYn",
        "outputId": "7ce2b2f8-da73-4639-e1a4-b1eddba17f6e"
      },
      "execution_count": null,
      "outputs": [
        {
          "output_type": "stream",
          "name": "stdout",
          "text": [
            "Data e Hora Atual: 2025-03-07 18:09:23.042699\n",
            "Formato padrão: 2025-03-07 18:09:23\n",
            "Data por extenso: 07 de March de 2025\n",
            "Hora formatada: 18:09:23\n"
          ]
        }
      ]
    },
    {
      "cell_type": "code",
      "source": [],
      "metadata": {
        "id": "7pOxqZU10s8p"
      },
      "execution_count": null,
      "outputs": []
    },
    {
      "cell_type": "code",
      "source": [
        "#MANIPULAÇÃO DE TEMPO E DATAS USANDO O PYTHON\n",
        "\n",
        "from datetime import datetime, date, time, timedelta  # Importa classes para manipulação de datas e horários\n",
        "import pytz  # Biblioteca para trabalhar com fusos horários\n",
        "fuso_horario = pytz.timezone(\"America/Sao_Paulo\")\n",
        "data_hora_atual = datetime.now(fuso_horario)\n",
        "print(\"Data e Hora Atual:\", data_hora_atual)\n",
        "\n",
        "\n"
      ],
      "metadata": {
        "colab": {
          "base_uri": "https://localhost:8080/"
        },
        "outputId": "487390ce-e5f9-4c6c-ba4f-fbd586a301c2",
        "id": "JJu_OMKc04C_"
      },
      "execution_count": null,
      "outputs": [
        {
          "output_type": "stream",
          "name": "stdout",
          "text": [
            "Data e Hora Atual: 2025-03-07 15:18:02.667333-03:00\n"
          ]
        }
      ]
    },
    {
      "cell_type": "code",
      "source": [],
      "metadata": {
        "id": "2GEyxOSq1HCA"
      },
      "execution_count": null,
      "outputs": []
    },
    {
      "cell_type": "code",
      "source": [
        "#Solicite a data e hora atual do sistema e exiba-a formatada no seguinte formato:\"dia de mês de ano, HH:MM:SS\".\n",
        "from datetime import datetime\n",
        "agora = datetime.now()\n",
        "print(f\"Hoje é: {agora.strftime('%d de %B de %Y, %H:%M:%S')}\")\n",
        "#Pedir ao usuário sua data de nascimento (no formato dd/mm/aaaa) e caulcular sua idade atual.\n",
        "from datetime import datetime\n",
        "data_nasc = input('Quando você nasceu?(YYYY)')\n",
        "data_conv = datetime.strptime(data_nasc, '%Y')\n",
        "hoje = datetime.now()\n",
        "idade = (hoje- data_conv).days //365\n",
        "print(f'sua idade é: {idade} anos')\n",
        "\n",
        "#Peça ao usuário a data de um evento futuro e calcule quantos dias faltam para ele.\n",
        "from datetime import datetime\n",
        "data_evento = input('Digite a data do evento(DD/MM/YYYY)')\n",
        "data_conv = datetime.strptime(data_evento, '%d/%m/%Y')\n",
        "hoje = datetime.now()\n",
        "dias_restantes = (data_conv - hoje).days\n",
        "print(f'Faltam {dias_restantes} dias para o evento')\n",
        "\n",
        "#Peça ao usuário uma data e informe qual o dia da semana correspondente.\n",
        "from datetime import datetime\n",
        "data_semana = input('digite a data do evento(DD/MM/YYYY)')\n",
        "data_conv = datetime.strptime(data_semana, '%d/%m/%Y')\n",
        "print(f'O dia da semana é: {data_conv.strftime(\"%A\")}')\n",
        "\n",
        "#Exiba a data a hora atuais em trés fusus horários diferentes: São Paulo, Nova York e Tóquio.\n",
        "from datetime import datetime\n",
        "import pytz\n",
        "fuso_horario = pytz.timezone(\"America/Sao_Paulo\")\n",
        "data_hora_atual = datetime.now(fuso_horario)\n",
        "print(\"Data e Hora Atual:\", data_hora_atual)\n"
      ],
      "metadata": {
        "colab": {
          "base_uri": "https://localhost:8080/"
        },
        "id": "1ykCROY49q1J",
        "outputId": "e09157b2-3840-4d10-bc45-34bb678367c0"
      },
      "execution_count": 4,
      "outputs": [
        {
          "output_type": "stream",
          "name": "stdout",
          "text": [
            "Hoje é: 14 de March de 2025, 00:45:31\n",
            "Quando você nasceu?(YYYY)2006\n",
            "sua idade é: 19 anos\n",
            "Digite a data do evento(DD/MM/YYYY)25/12/2025\n",
            "Faltam 285 dias para o evento\n",
            "digite a data do evento(DD/MM/YYYY)22/03/2025\n",
            "O dia da semana é: Saturday\n",
            "Data e Hora Atual: 2025-03-13 21:46:17.867321-03:00\n"
          ]
        }
      ]
    }
  ]
}