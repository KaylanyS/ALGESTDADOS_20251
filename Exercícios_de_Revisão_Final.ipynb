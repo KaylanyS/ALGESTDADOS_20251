{
  "nbformat": 4,
  "nbformat_minor": 0,
  "metadata": {
    "colab": {
      "provenance": [],
      "authorship_tag": "ABX9TyPoQOc8j81ci0sMKnmBHzhm",
      "include_colab_link": true
    },
    "kernelspec": {
      "name": "python3",
      "display_name": "Python 3"
    },
    "language_info": {
      "name": "python"
    }
  },
  "cells": [
    {
      "cell_type": "markdown",
      "metadata": {
        "id": "view-in-github",
        "colab_type": "text"
      },
      "source": [
        "<a href=\"https://colab.research.google.com/github/KaylanyS/ALGESTDADOS_20251/blob/main/Exerc%C3%ADcios_de_Revis%C3%A3o_Final.ipynb\" target=\"_parent\"><img src=\"https://colab.research.google.com/assets/colab-badge.svg\" alt=\"Open In Colab\"/></a>"
      ]
    },
    {
      "cell_type": "code",
      "source": [
        "#::Q1 - Referência de Listas em Python::\n",
        "#Você está desenvolvendo uma aplicação que processa listas de pedidos. Durante o teste, percebe que ao alterar uma lista auxiliar, a lista original também foi modificada. O código responsável é:\n",
        "\n",
        "pedidos = [1001, 1002, 1003]\n",
        "controle = pedidos\n",
        "controle[0] = 9999\n",
        "print(pedidos)\n",
        "#a) O que será impresso ao executar `print(pedidos)`?\n",
        "#[9999, 1002, 1003]\n",
        "#b) Explique o motivo técnico desse comportamento.\n",
        "controle = pedidos\n",
        "#c) Como corrigir esse problema mantendo as listas independentes?\n",
        "controle = pedidos[:]"
      ],
      "metadata": {
        "colab": {
          "base_uri": "https://localhost:8080/"
        },
        "id": "QOaauFQdJf2V",
        "outputId": "7583258a-40c3-42c1-aa2a-5449ec76dc59"
      },
      "execution_count": 4,
      "outputs": [
        {
          "output_type": "stream",
          "name": "stdout",
          "text": [
            "[9999, 1002, 1003]\n"
          ]
        }
      ]
    },
    {
      "cell_type": "code",
      "source": [
        "#::Q2 - Dicionário e Reajuste de Preços::\n",
        "#Você recebeu um dicionário de produtos e precisa atualizar os preços com base em uma inflação de 8%:\n",
        "\n",
        "produtos = {\"arroz\": 5.50, \"feijão\": 7.30, \"óleo\": 6.80}\n",
        "\n",
        "#a) Escreva um código que aumente todos os preços em 8% e mostre o dicionário atualizado.\n",
        "produtos = {\"arroz\": 5.50, \"feijão\": 7.30, \"óleo\": 6.80}\n",
        "for chave in produtos:\n",
        "    produtos[chave] *=1.08\n",
        "print(produtos)\n",
        "\n",
        "#b) Qual estrutura de repetição você usou e por quê?\n",
        "#for foi usado para itrar pelas chaves do dicionário e modificar os valores diretamente.\n",
        "\n",
        "#c) O que acontece se usarmos `produtos.items()` no `for`?\n",
        "for chave, valor in produtos.items():\n",
        "  produtos[chave] = valor * 1.08\n",
        "print(produtos)"
      ],
      "metadata": {
        "colab": {
          "base_uri": "https://localhost:8080/"
        },
        "id": "75KJLf_cRHxX",
        "outputId": "99e32cd3-b843-4ef1-f854-9db2871c2455"
      },
      "execution_count": 7,
      "outputs": [
        {
          "output_type": "stream",
          "name": "stdout",
          "text": [
            "{'arroz': 5.94, 'feijão': 7.884, 'óleo': 7.344}\n",
            "{'arroz': 6.4152000000000005, 'feijão': 8.51472, 'óleo': 7.931520000000001}\n"
          ]
        }
      ]
    },
    {
      "cell_type": "code",
      "source": [
        "# ::Q3 - Remoção de Duplicatas com Conjunto::\n",
        "# Imagine que você criou um sistema de cadastro de visitantes para um evento,\n",
        "# mas os nomes foram digitados com duplicidade:\n",
        "\n",
        "visitantes = [\"Ana\", \"João\", \"Ana\", \"Maria\", \"João\", \"Carlos\"]\n",
        "\n",
        "# a) Programa:\n",
        "visitantes = [\"Ana\", \"João\", \"Ana\", \"Maria\", \"João\", \"Carlos\"]\n",
        "unicos = set(visitantes) #converte em conjunto\n",
        "print(f\"Número de visitantes únicos: {len(unicos)}\")\n",
        "print(f\"Visitantes: {unicos}\")\n",
        "\n",
        "# b) Justificativa do uso de set():\n",
        "# set() remove automaticamente elementos duplicados, pois um conjunto só pode conter valores únicos.\n",
        "\n",
        "# c) Limitação:\n",
        "# Um conjunto não preserva a ordem original da lista, o que pode ser importante em certas aplicações."
      ],
      "metadata": {
        "colab": {
          "base_uri": "https://localhost:8080/"
        },
        "id": "Lfho2TKIUwsD",
        "outputId": "8c21c106-371c-4aa3-b8a6-a2cb19c26076"
      },
      "execution_count": 8,
      "outputs": [
        {
          "output_type": "stream",
          "name": "stdout",
          "text": [
            "Número de visitantes únicos: 4\n",
            "Visitantes: {'João', 'Ana', 'Maria', 'Carlos'}\n"
          ]
        }
      ]
    },
    {
      "cell_type": "code",
      "source": [
        "# ::Q4 - Pandas e Leitura de Arquivos Excel::\n",
        "# Um cientista de dados precisa inspecionar os primeiros registros de um arquivo Excel\n",
        "# com dados sobre temperatura. Ele carrega o DataFrame com Pandas e quer visualizar as\n",
        "# 5 primeiras linhas.\n",
        "\n",
        "# a) Comando correto para leitura:\n",
        "import pandas as pd\n",
        "df = pd.read_excel(\"arquivo.xlsx\")\n",
        "\n",
        "# b) Função que retorna as 5 primeiras linhas:\n",
        "df.head(5)\n",
        "\n",
        "# c) Últimas 3 linhas:\n",
        "df.tail(3)\n"
      ],
      "metadata": {
        "id": "GEd0vAucU4pY"
      },
      "execution_count": null,
      "outputs": []
    },
    {
      "cell_type": "code",
      "source": [
        "#::Q5 - Entrada de Dados e Processamento com Conjuntos::\n",
        "# Você precisa criar um programa interativo que solicite ao usuário números separados por vírgula, elimine os duplicados\n",
        "# e mostre a quantidade de elementos únicos e os valores ordenados.\n",
        "\n",
        "# a) Código:\n",
        "entrada = input(\"Digite números separados por vírgula: \")\n",
        "numeros = list(map(int, entrada.split(\",\")))\n",
        "unicos = sorted(set(numeros))\n",
        "print(f\"Números únicos ({len(unicos)}): {unicos}\")\n",
        "\n",
        "# b) Conversões de dados:\n",
        "# split(\",\") #transforma a string em lista de strings\n",
        "# map(int, ...) #converte para inteiros\n",
        "# set() #remove duplicatas\n",
        "# sorted() #ordena os dados\n",
        "\n",
        "# c) Justificativa da ordenação:\n",
        "# Conjuntos são não ordenados. A ordenação facilita a leitura e verificação dos resultados pelo usuário."
      ],
      "metadata": {
        "id": "_Yfdob14U9pp"
      },
      "execution_count": null,
      "outputs": []
    }
  ]
}