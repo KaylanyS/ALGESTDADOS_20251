{
  "nbformat": 4,
  "nbformat_minor": 0,
  "metadata": {
    "colab": {
      "provenance": [],
      "authorship_tag": "ABX9TyMLpYDU106gMXB4NVJTpM7R",
      "include_colab_link": true
    },
    "kernelspec": {
      "name": "python3",
      "display_name": "Python 3"
    },
    "language_info": {
      "name": "python"
    }
  },
  "cells": [
    {
      "cell_type": "markdown",
      "metadata": {
        "id": "view-in-github",
        "colab_type": "text"
      },
      "source": [
        "<a href=\"https://colab.research.google.com/github/KaylanyS/ALGESTDADOS_20251/blob/main/Exerc%C3%ADcios_de_Revis%C3%A3o_Sala_de_Aula_17_04.ipynb\" target=\"_parent\"><img src=\"https://colab.research.google.com/assets/colab-badge.svg\" alt=\"Open In Colab\"/></a>"
      ]
    },
    {
      "cell_type": "code",
      "execution_count": null,
      "metadata": {
        "colab": {
          "base_uri": "https://localhost:8080/"
        },
        "id": "p1-6nolIfGcy",
        "outputId": "7e56d44f-42f9-4a53-e553-435dad94cf34"
      },
      "outputs": [
        {
          "output_type": "stream",
          "name": "stdout",
          "text": [
            "Digite a sua idade: 19\n",
            "Você é maior de idade\n"
          ]
        }
      ],
      "source": [
        "#1 Escreva um programa que leia a idade de uma pessoa e diga se ela é menor de idade (menos de 18 anos), maior de idade (entre 18 e 60) ou idosa (mais de 60 anos). Use if, elif e else.\n",
        "idade = int(input(\"Digite a sua idade: \"))\n",
        "if idade < 18:\n",
        "    print(\"Você é menor de idade\")\n",
        "elif idade <= 60:\n",
        "    print(\"Você é maior de idade\")\n",
        "else:\n",
        "    print(\"Você é idoso\")"
      ]
    },
    {
      "cell_type": "code",
      "source": [
        "#2 Faça um programa que leia um número inteiro e diga se ele é par, ímpar ou igual a zero, usando uma estrutura condicional.\n",
        "numero = int(input(\"Digite um número inteiro: \"))\n",
        "if numero == 0:\n",
        "    print(\"O número é igual a zero\")\n",
        "elif numero % 2 == 0:\n",
        "    print(\"O número é par\")\n",
        "else:\n",
        "    print(\"O número é ímpar\")"
      ],
      "metadata": {
        "colab": {
          "base_uri": "https://localhost:8080/"
        },
        "id": "gDUyG867gPU-",
        "outputId": "992ec5b5-8746-47a0-96c7-8081ec6a0096"
      },
      "execution_count": null,
      "outputs": [
        {
          "output_type": "stream",
          "name": "stdout",
          "text": [
            "Digite um número inteiro: 4\n",
            "O número é par\n"
          ]
        }
      ]
    },
    {
      "cell_type": "code",
      "source": [
        "#3 Crie um programa que leia dois números inteiros e mostre qual dos dois é o maior, qual é o menor ou se os dois são iguais. Use estruturas if, elif e else.\n",
        "numero1 = int(input(\"Digite o primeiro número: \"))\n",
        "numero2 = int(input(\"Digite o segundo número: \"))\n",
        "if numero1 > numero2:\n",
        "    print(\"O primeiro número é maior que o segundo\")\n",
        "    print(\"O segundo número é menor que o primeiro\")\n",
        "elif numero1 < numero2:\n",
        "    print(\"O segundo número é maior que o primeiro\")\n",
        "    print(\"O primeiro número é menor que o segundo\")\n",
        "else:\n",
        "    print(\"Os números são iguais\")\n",
        "    print(\"Os números são iguais\")"
      ],
      "metadata": {
        "colab": {
          "base_uri": "https://localhost:8080/"
        },
        "id": "8pTvoROggVs9",
        "outputId": "b594d900-c8dc-4094-e333-68ce70f1568e"
      },
      "execution_count": null,
      "outputs": [
        {
          "output_type": "stream",
          "name": "stdout",
          "text": [
            "Digite o primeiro número: 8\n",
            "Digite o segundo número: 5\n",
            "O primeiro número é maior que o segundo\n",
            "O segundo número é menor que o primeiro\n"
          ]
        }
      ]
    },
    {
      "cell_type": "code",
      "source": [
        "#4 Escreva um programa que leia um número de 1 a 7 e mostre o dia da semana correspondente (por exemplo, 1 = segunda-feira, 2 = terça, etc). Se o número for inválido (menor que 1 ou maior que 7), mostre uma mensagem de erro. Use if, elif e else.\n",
        "dia_semana = int(input(\"Digite um número de 1 a 7: \"))\n",
        "if dia_semana == 1:\n",
        "    print(\"Segunda-feira\")\n",
        "elif dia_semana == 2:\n",
        "    print(\"Terça-feira\")\n",
        "elif dia_semana == 3:\n",
        "    print(\"Quarta-feira\")\n",
        "elif dia_semana == 4:\n",
        "    print(\"Quinta-feira\")\n",
        "elif dia_semana == 5:\n",
        "    print(\"Sexta-feira\")\n",
        "elif dia_semana == 6:\n",
        "    print(\"Sábado\")\n",
        "elif dia_semana == 7:\n",
        "    print(\"Domingo\")\n",
        "else:\n",
        "    print(\"Número inválido\")\n"
      ],
      "metadata": {
        "colab": {
          "base_uri": "https://localhost:8080/"
        },
        "id": "wrthk41ggZbe",
        "outputId": "23bf2fc1-6b50-48db-eb5f-db64aa411675"
      },
      "execution_count": null,
      "outputs": [
        {
          "output_type": "stream",
          "name": "stdout",
          "text": [
            "Digite um número de 1 a 7: 4\n",
            "Quinta-feira\n"
          ]
        }
      ]
    },
    {
      "cell_type": "code",
      "source": [
        "#5 Escreva um programa com for in range que imprima os números de 1 a 10, dizendo se cada número é par ou ímpar.\n",
        "for numero in range(1, 11):\n",
        "    if numero % 2 == 0:\n",
        "        print(f\"{numero} é par\")\n",
        "    else:\n",
        "        print(f\"{numero} é ímpar\")"
      ],
      "metadata": {
        "colab": {
          "base_uri": "https://localhost:8080/"
        },
        "id": "dKCh9zl4gZxu",
        "outputId": "2c3e2aef-d4dd-43df-d5c7-1effc9b855d5"
      },
      "execution_count": null,
      "outputs": [
        {
          "output_type": "stream",
          "name": "stdout",
          "text": [
            "1 é ímpar\n",
            "2 é par\n",
            "3 é ímpar\n",
            "4 é par\n",
            "5 é ímpar\n",
            "6 é par\n",
            "7 é ímpar\n",
            "8 é par\n",
            "9 é ímpar\n",
            "10 é par\n"
          ]
        }
      ]
    },
    {
      "cell_type": "code",
      "source": [
        "#6 Crie um programa com while que leia vários números inteiros. O programa deve continuar enquanto o número digitado não for igual a zero. Ao final, mostre quantos números positivos e quantos negativos foram digitados.\n",
        "num = 1\n",
        "positivos = 0\n",
        "negativos = 0\n",
        "while num!=0:\n",
        "  num = int(input('Digite um número: '))\n",
        "  if num > 0:\n",
        "    positivos+=1\n",
        "  elif num < 0:\n",
        "    negativos+=1\n",
        "print(f'{positivos} positivos e {negativos} negativos!')"
      ],
      "metadata": {
        "colab": {
          "base_uri": "https://localhost:8080/"
        },
        "id": "Wct1zsUHgZ6m",
        "outputId": "c8d5dcee-2286-4138-ce76-c42ce55701bf"
      },
      "execution_count": null,
      "outputs": [
        {
          "output_type": "stream",
          "name": "stdout",
          "text": [
            "Digite um número: 0\n",
            "0 positivos e 0 negativos!\n"
          ]
        }
      ]
    },
    {
      "cell_type": "code",
      "source": [
        "#7 Faça um programa com for que conte de 10 até 1 (ordem decrescente). Para cada número, diga se ele é múltiplo de 3 ou não.\n",
        "for numero in range(10, 0, -1):\n",
        "    if numero % 3 == 0:\n",
        "        print(f\"{numero} é múltiplo de 3\")\n",
        "    else:\n",
        "        print(f\"{numero} não é múltiplo de 3\")"
      ],
      "metadata": {
        "colab": {
          "base_uri": "https://localhost:8080/"
        },
        "id": "Fwv3w-MbgZ_O",
        "outputId": "774ba8c3-3a8f-4fa4-b05c-ef715d660e30"
      },
      "execution_count": null,
      "outputs": [
        {
          "output_type": "stream",
          "name": "stdout",
          "text": [
            "10 não é múltiplo de 3\n",
            "9 é múltiplo de 3\n",
            "8 não é múltiplo de 3\n",
            "7 não é múltiplo de 3\n",
            "6 é múltiplo de 3\n",
            "5 não é múltiplo de 3\n",
            "4 não é múltiplo de 3\n",
            "3 é múltiplo de 3\n",
            "2 não é múltiplo de 3\n",
            "1 não é múltiplo de 3\n"
          ]
        }
      ]
    },
    {
      "cell_type": "code",
      "source": [
        "#8 Escreva um programa com while True que peça a senha do usuário até que ele digite a senha correta (por exemplo, \"1234\"). Quando a senha for correta, o programa deve mostrar uma mensagem de acesso permitido e encerrar.\n",
        "senha = \"1234\"\n",
        "while True:\n",
        "    senha_digitada = input(\"Digite a senha: \")\n",
        "    if senha_digitada == senha:\n",
        "        print(\"Acesso permitido\")\n",
        "        break\n",
        "    else:\n",
        "        print(\"Senha incorreta\")"
      ],
      "metadata": {
        "colab": {
          "base_uri": "https://localhost:8080/"
        },
        "id": "_E3cj_RBgnRG",
        "outputId": "e471ece3-5e63-4463-9861-b3b67e7d3e0c"
      },
      "execution_count": null,
      "outputs": [
        {
          "output_type": "stream",
          "name": "stdout",
          "text": [
            "Digite a senha: 2345\n",
            "Senha incorreta\n",
            "Digite a senha: 1234\n",
            "Acesso permitido\n"
          ]
        }
      ]
    },
    {
      "cell_type": "code",
      "source": [
        "#9 Crie um programa com for in range para ler 5 números inteiros, um por vez. Ao final, mostre quantos desses números são maiores que 100\n",
        "for i in range(5):\n",
        "    numero = int(input(\"Digite um número inteiro: \"))\n",
        "    if numero > 100:\n",
        "        print(\"O número é maior que 100\")\n"
      ],
      "metadata": {
        "colab": {
          "base_uri": "https://localhost:8080/"
        },
        "id": "eo6FYvqQgnW-",
        "outputId": "822db497-b34f-448a-9bd8-3c23f3e47bcf"
      },
      "execution_count": null,
      "outputs": [
        {
          "name": "stdout",
          "output_type": "stream",
          "text": [
            "Digite um número inteiro: 2\n",
            "Digite um número inteiro: 4\n",
            "Digite um número inteiro: 6\n",
            "Digite um número inteiro: 8\n",
            "Digite um número inteiro: 1\n"
          ]
        }
      ]
    },
    {
      "cell_type": "code",
      "source": [
        "#10 Escreva um programa com while que leia a idade de várias pessoas. O programa deve continuar até que uma idade negativa seja digitada. No final, mostre a média das idades válidas digitadas.\n",
        "idade = 0\n",
        "soma = 0\n",
        "cont = 0\n",
        "\n",
        "while idade >= 0:\n",
        "  idade = int(input('Digite a idade: '))\n",
        "  if idade > 0:\n",
        "    cont+=1\n",
        "    soma+=idade\n",
        "\n",
        "if soma > 0:\n",
        "  media = soma/cont\n",
        "  print(f'Foram digitadas {cont} idades, com média de {(media):.1f} anos.')\n",
        "else:\n",
        "  print('Não foram digitadas idades válidas')"
      ],
      "metadata": {
        "colab": {
          "base_uri": "https://localhost:8080/"
        },
        "id": "jzuhcmxVsB1X",
        "outputId": "5a6e0dbb-8964-4ecc-af5b-eddf7982f6b8"
      },
      "execution_count": 3,
      "outputs": [
        {
          "output_type": "stream",
          "name": "stdout",
          "text": [
            "Digite a idade: 15\n",
            "Digite a idade: 12\n",
            "Digite a idade: 16\n",
            "Digite a idade: 17\n",
            "Digite a idade: 18\n",
            "Digite a idade: 29\n",
            "Digite a idade: 30\n",
            "Digite a idade: -56\n",
            "Foram digitadas 7 idades, com média de 19.6 anos.\n"
          ]
        }
      ]
    },
    {
      "cell_type": "code",
      "source": [
        "#11 Escreva um programa com for que leia um número inteiro e exiba a tabuada de multiplicação desse número de 1 até 10.\n",
        "numero = int(input(\"Digite um número inteiro: \"))\n",
        "for i in range(1, 11):\n",
        "    print(f\"{numero} x {i} = {numero * i}\")"
      ],
      "metadata": {
        "colab": {
          "base_uri": "https://localhost:8080/"
        },
        "id": "AO0FYWvegzQf",
        "outputId": "8dfc0f0b-d14e-49c3-ff2b-d051777497da"
      },
      "execution_count": 4,
      "outputs": [
        {
          "output_type": "stream",
          "name": "stdout",
          "text": [
            "Digite um número inteiro: 22\n",
            "22 x 1 = 22\n",
            "22 x 2 = 44\n",
            "22 x 3 = 66\n",
            "22 x 4 = 88\n",
            "22 x 5 = 110\n",
            "22 x 6 = 132\n",
            "22 x 7 = 154\n",
            "22 x 8 = 176\n",
            "22 x 9 = 198\n",
            "22 x 10 = 220\n"
          ]
        }
      ]
    },
    {
      "cell_type": "code",
      "source": [
        "#12 Escreva um programa com while que simule um caixa eletrônico. Peça ao usuário o valor do saque (apenas valores múltiplos de 2) e calcule quantas notas de 50, 20, 10, 5 e 2 são necessárias. Não use listas. Mostre o total de cada nota usada.\n",
        "valor = int(input('Digite o valor desejado (inteiro e múltiplo de 2): '))\n",
        "cinquenta = 0\n",
        "vinte = 0\n",
        "dez = 0\n",
        "cinco = 0\n",
        "dois = 0\n",
        "while valor>0:\n",
        "  if valor%50 == 0:\n",
        "    valor-=50\n",
        "    cinquenta+=1\n",
        "  elif valor%20 == 0:\n",
        "    valor-=20\n",
        "    vinte+=1\n",
        "  elif valor%10 == 0:\n",
        "    valor-=10\n",
        "    dez+=1\n",
        "  elif valor%5 == 0:\n",
        "    valor-=5\n",
        "    cinco+=1\n",
        "  elif valor%2 == 0:\n",
        "    valor-=2\n",
        "    dois+=1\n",
        "print(f'Saque: {cinquenta} notas de 50, {vinte} notas de 20, {dez} notas de 10, {cinco} notas de 5 e {dois} notas de 2.')\n",
        "\n"
      ],
      "metadata": {
        "id": "Wgc4hq-Ug2KG",
        "colab": {
          "base_uri": "https://localhost:8080/"
        },
        "outputId": "b19855d1-b0c8-4033-89d4-9443d9985a7f"
      },
      "execution_count": 10,
      "outputs": [
        {
          "output_type": "stream",
          "name": "stdout",
          "text": [
            "Digite o valor desejado (inteiro e múltiplo de 2): 2500\n",
            "Saque: 50 notas de 50, 0 notas de 20, 0 notas de 10, 0 notas de 5 e 0 notas de 2.\n"
          ]
        }
      ]
    },
    {
      "cell_type": "code",
      "source": [
        "#13 Escreva um programa com for que leia 10 números inteiros e diga ao final quantos deles são pares e quantos são ímpares."
      ],
      "metadata": {
        "id": "HsPCdXJ5291S"
      },
      "execution_count": null,
      "outputs": []
    },
    {
      "cell_type": "code",
      "source": [
        "#14 Crie um programa com while que leia um número inteiro positivo. Se o usuário digitar um número negativo, o programa deve mostrar uma mensagem de erro e continuar pedindo até que um número válido seja digitado."
      ],
      "metadata": {
        "id": "7FiDWFF2g34e"
      },
      "execution_count": null,
      "outputs": []
    },
    {
      "cell_type": "code",
      "source": [
        "#15 Escreva um programa com for e enumerate que mostre os números de 5 até 15. Para cada número, diga sua posição na sequência (iniciando do 0) e se ele é par ou ímpar."
      ],
      "metadata": {
        "id": "Etycn4Kag4A_"
      },
      "execution_count": null,
      "outputs": []
    },
    {
      "cell_type": "code",
      "source": [
        "#16 Escreva um programa com while que simule uma votação. O usuário pode votar no candidato A (1), candidato B (2) ou encerrar (0). O programa deve continuar até que o número 0 seja digitado. Ao final, mostre a quantidade de votos para cada candidato."
      ],
      "metadata": {
        "id": "-vie1S2og4J-"
      },
      "execution_count": null,
      "outputs": []
    },
    {
      "cell_type": "code",
      "source": [
        "#17 Escreva um programa com for in range que percorra os números de 1 a 50. Para cada número, diga se ele é divisível por 5, por 7, por ambos, ou por nenhum dos dois."
      ],
      "metadata": {
        "id": "l3AAiOtwg4SW"
      },
      "execution_count": null,
      "outputs": []
    },
    {
      "cell_type": "code",
      "source": [
        "#18 Escreva um programa com while que leia dois números inteiros e diga qual é o maior. Depois, pergunte ao usuário se ele deseja comparar outros dois números. O programa só termina se a resposta for diferente de \"s\"."
      ],
      "metadata": {
        "id": "1NmIPUqcg4av"
      },
      "execution_count": null,
      "outputs": []
    },
    {
      "cell_type": "code",
      "source": [
        "#19 Escreva um programa com for in que leia uma palavra de até 10 letras, pedindo uma letra por vez. Ao final, o programa deve mostrar quais letras são vogais e quais são consoantes. Não use listas."
      ],
      "metadata": {
        "id": "fz1w4uMSg4in"
      },
      "execution_count": null,
      "outputs": []
    },
    {
      "cell_type": "code",
      "source": [
        "#20 Escreva um programa com while que simule um menu de opções: (1) Sacar, (2) Depositar, (3) Sair. O menu deve ser mostrado repetidamente até que o usuário escolha a opção 3 para sair."
      ],
      "metadata": {
        "id": "YwIESPYrg4q2"
      },
      "execution_count": null,
      "outputs": []
    }
  ]
}