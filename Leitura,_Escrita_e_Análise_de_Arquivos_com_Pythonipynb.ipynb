{
  "nbformat": 4,
  "nbformat_minor": 0,
  "metadata": {
    "colab": {
      "provenance": [],
      "authorship_tag": "ABX9TyNJDnl3I6eNBALJ7fWVgp3X",
      "include_colab_link": true
    },
    "kernelspec": {
      "name": "python3",
      "display_name": "Python 3"
    },
    "language_info": {
      "name": "python"
    }
  },
  "cells": [
    {
      "cell_type": "markdown",
      "metadata": {
        "id": "view-in-github",
        "colab_type": "text"
      },
      "source": [
        "<a href=\"https://colab.research.google.com/github/KaylanyS/ALGESTDADOS_20251/blob/main/Leitura%2C_Escrita_e_An%C3%A1lise_de_Arquivos_com_Pythonipynb.ipynb\" target=\"_parent\"><img src=\"https://colab.research.google.com/assets/colab-badge.svg\" alt=\"Open In Colab\"/></a>"
      ]
    },
    {
      "cell_type": "code",
      "source": [
        "pip install pandas openpyxl"
      ],
      "metadata": {
        "colab": {
          "base_uri": "https://localhost:8080/"
        },
        "id": "dylMX3aLttDM",
        "outputId": "278ebe41-0572-4028-d3db-a627f61c99e5"
      },
      "execution_count": null,
      "outputs": [
        {
          "output_type": "stream",
          "name": "stdout",
          "text": [
            "Requirement already satisfied: pandas in /usr/local/lib/python3.11/dist-packages (2.2.2)\n",
            "Requirement already satisfied: openpyxl in /usr/local/lib/python3.11/dist-packages (3.1.5)\n",
            "Requirement already satisfied: numpy>=1.23.2 in /usr/local/lib/python3.11/dist-packages (from pandas) (2.0.2)\n",
            "Requirement already satisfied: python-dateutil>=2.8.2 in /usr/local/lib/python3.11/dist-packages (from pandas) (2.9.0.post0)\n",
            "Requirement already satisfied: pytz>=2020.1 in /usr/local/lib/python3.11/dist-packages (from pandas) (2025.2)\n",
            "Requirement already satisfied: tzdata>=2022.7 in /usr/local/lib/python3.11/dist-packages (from pandas) (2025.2)\n",
            "Requirement already satisfied: et-xmlfile in /usr/local/lib/python3.11/dist-packages (from openpyxl) (2.0.0)\n",
            "Requirement already satisfied: six>=1.5 in /usr/local/lib/python3.11/dist-packages (from python-dateutil>=2.8.2->pandas) (1.17.0)\n"
          ]
        }
      ]
    },
    {
      "cell_type": "code",
      "execution_count": null,
      "metadata": {
        "colab": {
          "base_uri": "https://localhost:8080/"
        },
        "id": "BPgayFru7hEQ",
        "outputId": "92e22b29-d4a6-4520-a29e-c082b26b1385"
      },
      "outputs": [
        {
          "output_type": "stream",
          "name": "stdout",
          "text": [
            "Olá, mundo!\n",
            "Essa é a segunda linha.\n",
            "Oii, tudo bem?.\n",
            "Esta é a quarta frase adicionada.\n",
            "E esta é a quinta frase adicionada.\n",
            "o arquivo tem 5 linhas\n"
          ]
        }
      ],
      "source": [
        "#1Crie um arquivo chamado meuarquivo.txt e escreva 3 frases.\n",
        "with open(\"meuarquivo.txt\", \"w\") as arquivo:\n",
        " arquivo.write(\"Olá, mundo!\\n\")\n",
        " arquivo.write(\"Essa é a segunda linha.\\n\")\n",
        " arquivo.write(\"Oii, tudo bem?.\\n\")\n",
        "\n",
        "#2Acrescente duas frases novas ao final do arquivo.\n",
        "with open('meuarquivo.txt', 'a') as arquivo:\n",
        "    arquivo.write(\"Esta é a quarta frase adicionada.\\n\")\n",
        "    arquivo.write(\"E esta é a quinta frase adicionada.\\n\")\n",
        "#3Ler e mostrar o conteúdo linha por linha\n",
        "with open('meuarquivo.txt', 'r') as arquivo:\n",
        "    for i in arquivo:\n",
        "        print(i.strip())\n",
        "#4Contar e imprimir quantas linhas o arquivo possui\n",
        "contador = 0\n",
        "with open('meuarquivo.txt', 'r') as arquivo:\n",
        "  for i in arquivo:\n",
        "    contador+=1\n",
        "print(f'o arquivo tem {contador} linhas')"
      ]
    },
    {
      "cell_type": "code",
      "source": [
        "#5Crie um dicionário com produtos, preços e quantidades, e salve em produtos.xlsx.\n",
        "import pandas\n",
        "#Cria a listas de materias\n",
        "materiais = { \"Produto\": [\"Lajota\", \"Cimento\", \"Rejunto\"], \"Preço\": [1.50, 33.00, 10.00], \"Quantidade\": [2350, 1450, 4520] }\n",
        "#Cria a estrutura de dados\n",
        "tabela = pandas.DataFrame(materiais)\n",
        "tabela.to_excel(\"produtos.xlsx\", index=False)"
      ],
      "metadata": {
        "id": "1lFY_6jsEmsb"
      },
      "execution_count": 82,
      "outputs": []
    },
    {
      "cell_type": "code",
      "source": [
        "import pandas\n",
        "#Leia o arquivo e mostre os dados.\n",
        "tabela = pandas.read_excel(\"estoque.xlsx\")\n",
        "print(tabela)"
      ],
      "metadata": {
        "colab": {
          "base_uri": "https://localhost:8080/"
        },
        "id": "igx0wEP-zIM0",
        "outputId": "c14ab557-1cfd-49e6-fa00-cdf7b5bb7693"
      },
      "execution_count": 83,
      "outputs": [
        {
          "output_type": "stream",
          "name": "stdout",
          "text": [
            "   Produto  Preço  Quantidade\n",
            "0    Livro   45.0          12\n",
            "1   Caneta    2.5         100\n",
            "2  Mochila  120.0           5\n"
          ]
        }
      ]
    },
    {
      "cell_type": "code",
      "source": [
        "#Crie a coluna Total = Preço * Quantidade.\n",
        "import pandas\n",
        "from google.colab import files # Necessário para o upload via código, opcional aqui\n",
        "tabela = pandas.read_excel(\"estoque.xlsx\")\n",
        "tabela['Total'] = tabela['Preço']*tabela['Quantidade']\n",
        "\n",
        "#Leia o arquivo e mostre os dados.\n",
        "tabela = pandas.read_excel(\"estoque.xlsx\")\n",
        "print(tabela)\n"
      ],
      "metadata": {
        "colab": {
          "base_uri": "https://localhost:8080/"
        },
        "id": "Rfbl92K_zKNk",
        "outputId": "868fa946-a1bc-4e21-a4fc-b66689eeb6c2"
      },
      "execution_count": 84,
      "outputs": [
        {
          "output_type": "stream",
          "name": "stdout",
          "text": [
            "   Produto  Preço  Quantidade\n",
            "0    Livro   45.0          12\n",
            "1   Caneta    2.5         100\n",
            "2  Mochila  120.0           5\n"
          ]
        }
      ]
    },
    {
      "cell_type": "code",
      "source": [
        "import pandas\n",
        "#Calcule e mostre:\n",
        "tabela = pandas.read_excel(\"estoque.xlsx\")\n",
        "#O total geral de vendas\n",
        "tabela['Total'] = tabela['Preço']*tabela['Quantidade']\n",
        "total_vendas = tabela[\"Total\"].sum()\n",
        "print(f'Total de vendas: R${total_vendas}')\n",
        "#O produto mais caro (em total)\n",
        "maior_valor = tabela['Preço'].max()\n",
        "caro = tabela[tabela['Preço'] == maior_valor]\n",
        "print(caro.Produto)\n",
        "#Produtos com total acima de R$10\n",
        "acima = tabela[tabela['Preço'] >= 10]\n",
        "print(acima.Produto)\n",
        "#Salve a tabela atualizada como produtos_atualizados.xlsx.\n",
        "nova_tabela = pandas.DataFrame(tabela)\n",
        "tabela.to_excel(\"produtos_atualizados.xlsx\", index=False)"
      ],
      "metadata": {
        "id": "YQd9gpcWzP38",
        "outputId": "33642eb1-2612-430e-e6ec-5c8fd5d56794",
        "colab": {
          "base_uri": "https://localhost:8080/"
        }
      },
      "execution_count": 85,
      "outputs": [
        {
          "output_type": "stream",
          "name": "stdout",
          "text": [
            "Total de vendas: R$1390.0\n",
            "2    Mochila\n",
            "Name: Produto, dtype: object\n",
            "0      Livro\n",
            "2    Mochila\n",
            "Name: Produto, dtype: object\n"
          ]
        }
      ]
    }
  ]
}