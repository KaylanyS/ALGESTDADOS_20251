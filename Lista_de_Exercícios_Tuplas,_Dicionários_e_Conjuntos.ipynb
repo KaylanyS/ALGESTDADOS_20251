{
  "nbformat": 4,
  "nbformat_minor": 0,
  "metadata": {
    "colab": {
      "provenance": [],
      "authorship_tag": "ABX9TyM4stejIz9MrnlszI2vViEp",
      "include_colab_link": true
    },
    "kernelspec": {
      "name": "python3",
      "display_name": "Python 3"
    },
    "language_info": {
      "name": "python"
    }
  },
  "cells": [
    {
      "cell_type": "markdown",
      "metadata": {
        "id": "view-in-github",
        "colab_type": "text"
      },
      "source": [
        "<a href=\"https://colab.research.google.com/github/KaylanyS/ALGESTDADOS_20251/blob/main/Lista_de_Exerc%C3%ADcios_Tuplas%2C_Dicion%C3%A1rios_e_Conjuntos.ipynb\" target=\"_parent\"><img src=\"https://colab.research.google.com/assets/colab-badge.svg\" alt=\"Open In Colab\"/></a>"
      ]
    },
    {
      "cell_type": "code",
      "source": [
        "t = set(1,5,3,6)\n",
        "t [0] = 10\n",
        "print(t)"
      ],
      "metadata": {
        "colab": {
          "base_uri": "https://localhost:8080/",
          "height": 176
        },
        "id": "5BCvuR732RLC",
        "outputId": "8052dbed-12ea-416e-96b4-1cc798281313"
      },
      "execution_count": null,
      "outputs": [
        {
          "output_type": "error",
          "ename": "TypeError",
          "evalue": "set expected at most 1 argument, got 4",
          "traceback": [
            "\u001b[0;31m---------------------------------------------------------------------------\u001b[0m",
            "\u001b[0;31mTypeError\u001b[0m                                 Traceback (most recent call last)",
            "\u001b[0;32m<ipython-input-8-2d913f3e4169>\u001b[0m in \u001b[0;36m<cell line: 0>\u001b[0;34m()\u001b[0m\n\u001b[0;32m----> 1\u001b[0;31m \u001b[0mt\u001b[0m \u001b[0;34m=\u001b[0m \u001b[0mset\u001b[0m\u001b[0;34m(\u001b[0m\u001b[0;36m1\u001b[0m\u001b[0;34m,\u001b[0m\u001b[0;36m5\u001b[0m\u001b[0;34m,\u001b[0m\u001b[0;36m3\u001b[0m\u001b[0;34m,\u001b[0m\u001b[0;36m6\u001b[0m\u001b[0;34m)\u001b[0m\u001b[0;34m\u001b[0m\u001b[0;34m\u001b[0m\u001b[0m\n\u001b[0m\u001b[1;32m      2\u001b[0m \u001b[0mt\u001b[0m \u001b[0;34m[\u001b[0m\u001b[0;36m0\u001b[0m\u001b[0;34m]\u001b[0m \u001b[0;34m=\u001b[0m \u001b[0;36m10\u001b[0m\u001b[0;34m\u001b[0m\u001b[0;34m\u001b[0m\u001b[0m\n\u001b[1;32m      3\u001b[0m \u001b[0mprint\u001b[0m\u001b[0;34m(\u001b[0m\u001b[0mt\u001b[0m\u001b[0;34m)\u001b[0m\u001b[0;34m\u001b[0m\u001b[0;34m\u001b[0m\u001b[0m\n",
            "\u001b[0;31mTypeError\u001b[0m: set expected at most 1 argument, got 4"
          ]
        }
      ]
    },
    {
      "cell_type": "code",
      "source": [
        "meu_conjunto = set()\n",
        "numeros = {1, 2, 3, 3, 4}\n",
        "print(numeros)  # {1, 2, 3, 4}"
      ],
      "metadata": {
        "colab": {
          "base_uri": "https://localhost:8080/"
        },
        "id": "z3x5u5Xi3-bg",
        "outputId": "387afe3a-c640-47ec-d4bf-edbdec78a891"
      },
      "execution_count": null,
      "outputs": [
        {
          "output_type": "stream",
          "name": "stdout",
          "text": [
            "{1, 2, 3, 4}\n"
          ]
        }
      ]
    },
    {
      "cell_type": "code",
      "source": [
        "#1 - Uma empresa está analisando os clientes que compraram dois produtos diferentes. A lista de clientes que compraram o produto A é {\"Ana\", \"João\", \"Carlos\"}, e do produto B é {\"Carlos\", \"Maria\", \"João\"}.\n",
        "#Escreva um código que mostre o conjunto total de clientes distintos que compraram ao menos um dos dois produtos.\n",
        "A = {\"Ana\", \"João\", \"Carlos\"}\n",
        "B = {\"Carlos\", \"Maria\", \"João\"}\n"
      ],
      "metadata": {
        "id": "JOmKD7XtAY4b"
      },
      "execution_count": null,
      "outputs": []
    },
    {
      "cell_type": "code",
      "source": [
        "#2 - Considere os conjuntos A = {1, 2, 3, 4} e B = {3, 4, 5, 6}.\n",
        "#Escreva um código que mostre os elementos que estão em A, mas não em B.\n",
        "A = {1, 2, 3, 4}\n",
        "B = {3, 4, 5, 6}\n",
        "print(A.difference(B))"
      ],
      "metadata": {
        "colab": {
          "base_uri": "https://localhost:8080/"
        },
        "id": "MZK2ehJWAsqD",
        "outputId": "9c25a6aa-3825-49cd-aabb-ed2545e08a8e"
      },
      "execution_count": null,
      "outputs": [
        {
          "output_type": "stream",
          "name": "stdout",
          "text": [
            "{1, 2}\n"
          ]
        }
      ]
    },
    {
      "cell_type": "code",
      "source": [
        "#3 - Considere os conjuntos x = {10, 20, 30} e y = {30, 40, 50}.\n",
        "#Escreva um código que mostre os elementos que pertencem a apenas um dos conjuntos, mas não aos dois ao mesmo tempo.\n",
        "x = {10, 20, 30}\n",
        "y = {30, 40, 50}\n",
        "print(x.symmetric_difference(y))"
      ],
      "metadata": {
        "colab": {
          "base_uri": "https://localhost:8080/"
        },
        "id": "IIhW0__iAzeL",
        "outputId": "8ddc0200-4be2-4b91-b268-d86dddc4af52"
      },
      "execution_count": null,
      "outputs": [
        {
          "output_type": "stream",
          "name": "stdout",
          "text": [
            "{40, 10, 50, 20}\n"
          ]
        }
      ]
    },
    {
      "cell_type": "code",
      "source": [
        "#4 - Considere a tupla dados = (\"João\", 25, \"Engenheiro\").\n",
        "# Tente alterar a idade da pessoa para 30 e observe o que acontece. Explique o motivo do erro e o conceito envolvido.\n",
        "\n",
        "dados = (\"João\", 25, \"Engenheiro\")\n",
        "\n",
        "try:\n",
        "  dados[1] = 30\n",
        "except TypeError as e:\n",
        "  print(f\"Erro: {e}\")\n",
        "  print(\"Tuplas são imutáveis. Isso significa que, uma vez criadas, seus elementos não podem ser alterados, adicionados ou removidos.\")\n"
      ],
      "metadata": {
        "colab": {
          "base_uri": "https://localhost:8080/"
        },
        "id": "ObU6GIvfBBpU",
        "outputId": "b30825b5-7409-4781-a92d-9f9f35e25faf"
      },
      "execution_count": null,
      "outputs": [
        {
          "output_type": "stream",
          "name": "stdout",
          "text": [
            "Erro: 'tuple' object does not support item assignment\n",
            "Tuplas são imutáveis. Isso significa que, uma vez criadas, seus elementos não podem ser alterados, adicionados ou removidos.\n"
          ]
        }
      ]
    },
    {
      "cell_type": "code",
      "source": [
        "#5 - Dada a tupla valores = (5, 10, 15, 20), escreva um código que exiba o último elemento da tupla.\n",
        "valores = (5,10,15,20)\n",
        "print(valores[-1])\n",
        "print(valores[len(valores)-1])\n",
        "print(valores[3])\n"
      ],
      "metadata": {
        "id": "zz2eU5faBM99",
        "colab": {
          "base_uri": "https://localhost:8080/"
        },
        "outputId": "65c86c68-f8e7-4c62-f25e-e628701a1d4b"
      },
      "execution_count": 2,
      "outputs": [
        {
          "output_type": "stream",
          "name": "stdout",
          "text": [
            "20\n",
            "20\n",
            "20\n"
          ]
        }
      ]
    },
    {
      "cell_type": "code",
      "source": [
        "#6 - Considere a tupla pessoa = (\"Ana\", 30, \"Designer\").\n",
        "#Desempacote essa tupla em três variáveis e exiba apenas o conteúdo da variável que representa a profissão.\n",
        "pessoa = (\"Ana\", 30, \"Designer\")\n",
        "nome, idade, profissao = pessoa\n",
        "print(profissao)"
      ],
      "metadata": {
        "id": "M6YgVc0XBB-c",
        "colab": {
          "base_uri": "https://localhost:8080/"
        },
        "outputId": "edfb8d10-1c3e-40d6-8c75-636ca15bd644"
      },
      "execution_count": 3,
      "outputs": [
        {
          "output_type": "stream",
          "name": "stdout",
          "text": [
            "Designer\n"
          ]
        }
      ]
    },
    {
      "cell_type": "code",
      "source": [
        "#7 - Crie um dicionário chamado alunos que armazene o nome e a idade de dois alunos. Em seguida, imprima esse dicionário.\n",
        "alunos = {'Paulão':18, 'Maria':19}\n",
        "print(alunos)"
      ],
      "metadata": {
        "id": "0-Sko6C3BUPv",
        "colab": {
          "base_uri": "https://localhost:8080/"
        },
        "outputId": "a8c2c5b0-db66-4404-da85-80d43f38a6f6"
      },
      "execution_count": 4,
      "outputs": [
        {
          "output_type": "stream",
          "name": "stdout",
          "text": [
            "{'Paulão': 18, 'Maria': 19}\n"
          ]
        }
      ]
    },
    {
      "cell_type": "code",
      "source": [
        "#8 - Considere o dicionário produtos = {\"arroz\": 5.60, \"feijão\": 7.80, \"macarrão\": 4.20}. Escreva um código que acesse e exiba o valor associado à chave \"feijão\".\n",
        "produtos = {\"arroz\": 5.60, \"feijão\": 7.80, \"macarrão\": 4.20}\n",
        "print(produtos.get('feijão'))"
      ],
      "metadata": {
        "colab": {
          "base_uri": "https://localhost:8080/"
        },
        "id": "BTTJ6r6f15dP",
        "outputId": "0764f85c-f60c-460d-8e6e-36529efc1f44"
      },
      "execution_count": 5,
      "outputs": [
        {
          "output_type": "stream",
          "name": "stdout",
          "text": [
            "7.8\n"
          ]
        }
      ]
    },
    {
      "cell_type": "code",
      "source": [
        "#9 - Crie um dicionário vazio chamado aluno. Adicione as chaves \"nome\" com valor \"Carlos\" e \"idade\" com valor 21. Imprima o conteúdo final do dicionário.\n",
        "aluno = {}\n",
        "aluno['nome'] = 'Carlos'\n",
        "aluno['idade'] = 21\n",
        "print(aluno)"
      ],
      "metadata": {
        "colab": {
          "base_uri": "https://localhost:8080/"
        },
        "id": "nm90Q77319Q1",
        "outputId": "8cb0c104-35fe-4ce7-fc3d-5ede6e283ead"
      },
      "execution_count": 6,
      "outputs": [
        {
          "output_type": "stream",
          "name": "stdout",
          "text": [
            "{'nome': 'Carlos', 'idade': 21}\n"
          ]
        }
      ]
    },
    {
      "cell_type": "code",
      "source": [
        "#10 - Analise o código dados = {\"id\": 123, \"nome\": \"Ana\", \"id\": 456}. Explique o valor final da chave \"id\" e escreva um código que comprove esse comportamento.\n",
        "dados = {\"id\": 123, \"nome\": \"Ana\", \"id\": 456}\n",
        "print(dados['id'])"
      ],
      "metadata": {
        "colab": {
          "base_uri": "https://localhost:8080/"
        },
        "id": "Jid3eQ0u2COd",
        "outputId": "45bf8029-ee89-4154-e6f0-6ad6a5c30420"
      },
      "execution_count": 7,
      "outputs": [
        {
          "output_type": "stream",
          "name": "stdout",
          "text": [
            "456\n"
          ]
        }
      ]
    },
    {
      "cell_type": "code",
      "source": [
        "#11 - Dado o conjunto frutas = {\"maçã\", \"banana\", \"laranja\"}, escreva um código que remova o item \"abacaxi\" sem gerar erro.\n",
        "frutas = {\"maçã\", \"banana\", \"laranja\"}\n",
        "frutas.discard('abacaxi')\n",
        "print(frutas)"
      ],
      "metadata": {
        "colab": {
          "base_uri": "https://localhost:8080/"
        },
        "id": "vE_0kWeH2I4t",
        "outputId": "32341ee7-2c24-4f4e-e988-7a66d4c71117"
      },
      "execution_count": 8,
      "outputs": [
        {
          "output_type": "stream",
          "name": "stdout",
          "text": [
            "{'banana', 'laranja', 'maçã'}\n"
          ]
        }
      ]
    },
    {
      "cell_type": "code",
      "source": [
        "#12 - Escreva um código que utilize uma tupla como chave em um dicionário. Utilize como exemplo a tupla (2024, \"Maria\") associada ao valor \"Presente\" e imprima o dicionário.\n",
        "dicionario = {}\n",
        "tupla = (2024, \"Maria\")\n",
        "dicionario[tupla] = 'presente'\n",
        "print(dicionario)"
      ],
      "metadata": {
        "colab": {
          "base_uri": "https://localhost:8080/"
        },
        "id": "WZXrVFpZ2UFV",
        "outputId": "13c2c206-9208-4617-db39-d039def0c33f"
      },
      "execution_count": 9,
      "outputs": [
        {
          "output_type": "stream",
          "name": "stdout",
          "text": [
            "{(2024, 'Maria'): 'presente'}\n"
          ]
        }
      ]
    },
    {
      "cell_type": "code",
      "source": [
        "#13 - Dada a lista lista = [1, 2, 2, 3, 3, 3, 4], escreva um código que remova os elementos duplicados e exiba apenas os valores únicos.\n",
        "lista = [1, 2, 2, 3, 3, 3, 4]\n",
        "print(list(set(lista)))"
      ],
      "metadata": {
        "colab": {
          "base_uri": "https://localhost:8080/"
        },
        "id": "V_MfWOWH2bqF",
        "outputId": "405afd7d-5db1-4312-ab9c-47efe1b0f10b"
      },
      "execution_count": 10,
      "outputs": [
        {
          "output_type": "stream",
          "name": "stdout",
          "text": [
            "[1, 2, 3, 4]\n"
          ]
        }
      ]
    },
    {
      "cell_type": "code",
      "source": [
        "#14 - Dado o dicionário notas = {\"Lucas\": 8.5, \"Julia\": 9.0, \"Bruno\": 7.5}, escreva um código que exiba o nome do aluno seguido da nota em cada linha, no formato: Aluno: Nota\n",
        "notas = {\"Lucas\": 8.5, \"Julia\": 9.0, \"Bruno\": 7.5}\n",
        "for aluno, nota in notas.items():\n",
        "  print(f'{aluno}: {nota}')"
      ],
      "metadata": {
        "colab": {
          "base_uri": "https://localhost:8080/"
        },
        "id": "UTnPYseY2gA9",
        "outputId": "b02ead69-68a7-4973-9ee5-bca7fc9c88e9"
      },
      "execution_count": 11,
      "outputs": [
        {
          "output_type": "stream",
          "name": "stdout",
          "text": [
            "Lucas: 8.5\n",
            "Julia: 9.0\n",
            "Bruno: 7.5\n"
          ]
        }
      ]
    },
    {
      "cell_type": "code",
      "source": [
        "#15 - Dado o dicionário: turma = {\"Ana\": (8.0, 7.5),\"Pedro\": (6.0, 5.5),\"Laura\": (9.5, 9.0)}, Escreva um código que crie um conjunto com os nomes dos alunos que obtiveram nota 9.5 em pelo menos uma das provas.'''\n",
        "turma = {\"Ana\": (8.0, 7.5),\"Pedro\": (6.0, 5.5),\"Laura\": (9.5, 9.0)} #Cria o dicionário solicitado\n",
        "tops = set()\n",
        "for aluno, notas in turma.items():\n",
        "  if 9.5 in notas:\n",
        "    tops.add(aluno)\n",
        "print(tops)"
      ],
      "metadata": {
        "colab": {
          "base_uri": "https://localhost:8080/"
        },
        "id": "213pT05C2nDV",
        "outputId": "500bbae1-53b7-4b8f-8743-4ef4efd20db3"
      },
      "execution_count": 12,
      "outputs": [
        {
          "output_type": "stream",
          "name": "stdout",
          "text": [
            "{'Laura'}\n"
          ]
        }
      ]
    }
  ]
}