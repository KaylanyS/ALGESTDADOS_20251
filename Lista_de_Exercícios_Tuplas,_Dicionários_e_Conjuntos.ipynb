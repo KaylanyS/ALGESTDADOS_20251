{
  "nbformat": 4,
  "nbformat_minor": 0,
  "metadata": {
    "colab": {
      "provenance": [],
      "authorship_tag": "ABX9TyOLtV6KmTq3o1r7U6n+aTBG",
      "include_colab_link": true
    },
    "kernelspec": {
      "name": "python3",
      "display_name": "Python 3"
    },
    "language_info": {
      "name": "python"
    }
  },
  "cells": [
    {
      "cell_type": "markdown",
      "metadata": {
        "id": "view-in-github",
        "colab_type": "text"
      },
      "source": [
        "<a href=\"https://colab.research.google.com/github/KaylanyS/ALGESTDADOS_20251/blob/main/Lista_de_Exerc%C3%ADcios_Tuplas%2C_Dicion%C3%A1rios_e_Conjuntos.ipynb\" target=\"_parent\"><img src=\"https://colab.research.google.com/assets/colab-badge.svg\" alt=\"Open In Colab\"/></a>"
      ]
    },
    {
      "cell_type": "code",
      "source": [
        "t = set(1,5,3,6)\n",
        "t [0] = 10\n",
        "print(t)"
      ],
      "metadata": {
        "colab": {
          "base_uri": "https://localhost:8080/",
          "height": 176
        },
        "id": "5BCvuR732RLC",
        "outputId": "8052dbed-12ea-416e-96b4-1cc798281313"
      },
      "execution_count": null,
      "outputs": [
        {
          "output_type": "error",
          "ename": "TypeError",
          "evalue": "set expected at most 1 argument, got 4",
          "traceback": [
            "\u001b[0;31m---------------------------------------------------------------------------\u001b[0m",
            "\u001b[0;31mTypeError\u001b[0m                                 Traceback (most recent call last)",
            "\u001b[0;32m<ipython-input-8-2d913f3e4169>\u001b[0m in \u001b[0;36m<cell line: 0>\u001b[0;34m()\u001b[0m\n\u001b[0;32m----> 1\u001b[0;31m \u001b[0mt\u001b[0m \u001b[0;34m=\u001b[0m \u001b[0mset\u001b[0m\u001b[0;34m(\u001b[0m\u001b[0;36m1\u001b[0m\u001b[0;34m,\u001b[0m\u001b[0;36m5\u001b[0m\u001b[0;34m,\u001b[0m\u001b[0;36m3\u001b[0m\u001b[0;34m,\u001b[0m\u001b[0;36m6\u001b[0m\u001b[0;34m)\u001b[0m\u001b[0;34m\u001b[0m\u001b[0;34m\u001b[0m\u001b[0m\n\u001b[0m\u001b[1;32m      2\u001b[0m \u001b[0mt\u001b[0m \u001b[0;34m[\u001b[0m\u001b[0;36m0\u001b[0m\u001b[0;34m]\u001b[0m \u001b[0;34m=\u001b[0m \u001b[0;36m10\u001b[0m\u001b[0;34m\u001b[0m\u001b[0;34m\u001b[0m\u001b[0m\n\u001b[1;32m      3\u001b[0m \u001b[0mprint\u001b[0m\u001b[0;34m(\u001b[0m\u001b[0mt\u001b[0m\u001b[0;34m)\u001b[0m\u001b[0;34m\u001b[0m\u001b[0;34m\u001b[0m\u001b[0m\n",
            "\u001b[0;31mTypeError\u001b[0m: set expected at most 1 argument, got 4"
          ]
        }
      ]
    },
    {
      "cell_type": "code",
      "source": [
        "meu_conjunto = set()\n",
        "numeros = {1, 2, 3, 3, 4}\n",
        "print(numeros)  # {1, 2, 3, 4}"
      ],
      "metadata": {
        "colab": {
          "base_uri": "https://localhost:8080/"
        },
        "id": "z3x5u5Xi3-bg",
        "outputId": "387afe3a-c640-47ec-d4bf-edbdec78a891"
      },
      "execution_count": null,
      "outputs": [
        {
          "output_type": "stream",
          "name": "stdout",
          "text": [
            "{1, 2, 3, 4}\n"
          ]
        }
      ]
    },
    {
      "cell_type": "code",
      "source": [
        "#1 - Uma empresa está analisando os clientes que compraram dois produtos diferentes. A lista de clientes que compraram o produto A é {\"Ana\", \"João\", \"Carlos\"}, e do produto B é {\"Carlos\", \"Maria\", \"João\"}.\n",
        "#Escreva um código que mostre o conjunto total de clientes distintos que compraram ao menos um dos dois produtos.\n",
        "A = {\"Ana\", \"João\", \"Carlos\"}\n",
        "B = {\"Carlos\", \"Maria\", \"João\"}\n"
      ],
      "metadata": {
        "id": "JOmKD7XtAY4b"
      },
      "execution_count": null,
      "outputs": []
    },
    {
      "cell_type": "code",
      "source": [
        "#2 - Considere os conjuntos A = {1, 2, 3, 4} e B = {3, 4, 5, 6}.\n",
        "#Escreva um código que mostre os elementos que estão em A, mas não em B.\n",
        "A = {1, 2, 3, 4}\n",
        "B = {3, 4, 5, 6}\n",
        "print(A.difference(B))"
      ],
      "metadata": {
        "colab": {
          "base_uri": "https://localhost:8080/"
        },
        "id": "MZK2ehJWAsqD",
        "outputId": "9c25a6aa-3825-49cd-aabb-ed2545e08a8e"
      },
      "execution_count": null,
      "outputs": [
        {
          "output_type": "stream",
          "name": "stdout",
          "text": [
            "{1, 2}\n"
          ]
        }
      ]
    },
    {
      "cell_type": "code",
      "source": [
        "#3 - Considere os conjuntos x = {10, 20, 30} e y = {30, 40, 50}.\n",
        "#Escreva um código que mostre os elementos que pertencem a apenas um dos conjuntos, mas não aos dois ao mesmo tempo.\n",
        "x = {10, 20, 30}\n",
        "y = {30, 40, 50}\n",
        "print(x.symmetric_difference(y))"
      ],
      "metadata": {
        "colab": {
          "base_uri": "https://localhost:8080/"
        },
        "id": "IIhW0__iAzeL",
        "outputId": "8ddc0200-4be2-4b91-b268-d86dddc4af52"
      },
      "execution_count": null,
      "outputs": [
        {
          "output_type": "stream",
          "name": "stdout",
          "text": [
            "{40, 10, 50, 20}\n"
          ]
        }
      ]
    },
    {
      "cell_type": "code",
      "source": [
        "#4 - Considere a tupla dados = (\"João\", 25, \"Engenheiro\").\n",
        "# Tente alterar a idade da pessoa para 30 e observe o que acontece. Explique o motivo do erro e o conceito envolvido.\n",
        "\n",
        "dados = (\"João\", 25, \"Engenheiro\")\n",
        "\n",
        "try:\n",
        "  dados[1] = 30\n",
        "except TypeError as e:\n",
        "  print(f\"Erro: {e}\")\n",
        "  print(\"Tuplas são imutáveis. Isso significa que, uma vez criadas, seus elementos não podem ser alterados, adicionados ou removidos.\")\n"
      ],
      "metadata": {
        "colab": {
          "base_uri": "https://localhost:8080/"
        },
        "id": "ObU6GIvfBBpU",
        "outputId": "b30825b5-7409-4781-a92d-9f9f35e25faf"
      },
      "execution_count": null,
      "outputs": [
        {
          "output_type": "stream",
          "name": "stdout",
          "text": [
            "Erro: 'tuple' object does not support item assignment\n",
            "Tuplas são imutáveis. Isso significa que, uma vez criadas, seus elementos não podem ser alterados, adicionados ou removidos.\n"
          ]
        }
      ]
    },
    {
      "cell_type": "code",
      "source": [
        "#5 - Dada a tupla valores = (5, 10, 15, 20), escreva um código que exiba o último elemento da tupla.\n",
        "numeros = []\n",
        "soma = 0\n",
        "quantidade = 0\n",
        "for i in range(6):\n",
        "    numero = float(input(f\"Digite o {i+1}º número real: \"))\n",
        "    numeros.append(numero)\n",
        "    soma += numero\n",
        "    quantidade += 1\n",
        "media = soma / quantidade\n",
        "print(f\"A média aritmética é: {media:.2f}\")\n",
        "\n"
      ],
      "metadata": {
        "id": "zz2eU5faBM99",
        "colab": {
          "base_uri": "https://localhost:8080/"
        },
        "outputId": "bfe0c525-d97a-42e3-8bb3-b571603c6332"
      },
      "execution_count": 1,
      "outputs": [
        {
          "output_type": "stream",
          "name": "stdout",
          "text": [
            "Digite o 1º número real: 22\n",
            "Digite o 2º número real: 5\n",
            "Digite o 3º número real: 33\n",
            "Digite o 4º número real: 22\n",
            "Digite o 5º número real: 35\n",
            "Digite o 6º número real: 5\n",
            "A média aritmética é: 20.33\n"
          ]
        }
      ]
    },
    {
      "cell_type": "code",
      "source": [
        "#6 - Considere a tupla pessoa = (\"Ana\", 30, \"Designer\").\n",
        "#Desempacote essa tupla em três variáveis e exiba apenas o conteúdo da variável que representa a profissão.\n"
      ],
      "metadata": {
        "id": "M6YgVc0XBB-c"
      },
      "execution_count": null,
      "outputs": []
    },
    {
      "cell_type": "code",
      "source": [
        "#7 - Crie um dicionário chamado alunos que armazene o nome e a idade de dois alunos. Em seguida, imprima esse dicionário."
      ],
      "metadata": {
        "id": "0-Sko6C3BUPv"
      },
      "execution_count": null,
      "outputs": []
    }
  ]
}