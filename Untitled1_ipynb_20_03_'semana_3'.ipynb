{
  "nbformat": 4,
  "nbformat_minor": 0,
  "metadata": {
    "colab": {
      "provenance": [],
      "authorship_tag": "ABX9TyOdLTfocZPtCchLMx7sPitC",
      "include_colab_link": true
    },
    "kernelspec": {
      "name": "python3",
      "display_name": "Python 3"
    },
    "language_info": {
      "name": "python"
    }
  },
  "cells": [
    {
      "cell_type": "markdown",
      "metadata": {
        "id": "view-in-github",
        "colab_type": "text"
      },
      "source": [
        "<a href=\"https://colab.research.google.com/github/KaylanyS/ALGESTDADOS_20251/blob/main/Untitled1_ipynb_20_03_'semana_3'.ipynb\" target=\"_parent\"><img src=\"https://colab.research.google.com/assets/colab-badge.svg\" alt=\"Open In Colab\"/></a>"
      ]
    },
    {
      "cell_type": "code",
      "execution_count": 18,
      "metadata": {
        "colab": {
          "base_uri": "https://localhost:8080/"
        },
        "id": "4YhcbT1GqOI5",
        "outputId": "65427e7e-b44b-47c0-c920-4d8fd9411f20"
      },
      "outputs": [
        {
          "output_type": "stream",
          "name": "stdout",
          "text": [
            "Digite um número: 35\n",
            "35 é maior que 10.\n"
          ]
        }
      ],
      "source": [
        "# 1-Peça um número e informe se ele é maior que 10. Crie um algoritmo em Python para fazer essa verificação.\n",
        "numero = int(input('Digite um número: '))\n",
        "if numero > 10:\n",
        "    print(f'{numero} é maior que 10.')\n",
        "else:\n",
        "    print(f'{numero} não é maior que 10.')"
      ]
    },
    {
      "cell_type": "code",
      "source": [
        "# 2-Peça um número inteiro e informe se ele é par. Crie um algoritmo em Python que verifique se o número é divisível por 2.\n",
        "numero = int(input('Digite um número inteiro: '))\n",
        "if numero % 2 == 0:\n",
        "   print(f'{numero} é par.')\n",
        "else:\n",
        "   print(f'{numero} não é par.')\n",
        ""
      ],
      "metadata": {
        "colab": {
          "base_uri": "https://localhost:8080/"
        },
        "id": "s6167c1bWdi4",
        "outputId": "4b432987-790f-4f71-e3a9-4107528482d4"
      },
      "execution_count": 19,
      "outputs": [
        {
          "output_type": "stream",
          "name": "stdout",
          "text": [
            "Digite um número inteiro: 30\n",
            "30 é par.\n"
          ]
        }
      ]
    },
    {
      "cell_type": "code",
      "source": [
        "# 3-Peça um nome e informe se ele contém a letra \"a\". Crie um algoritmo em Python que faça essa verificação.\n",
        "nome = input('Digite o nome:')\n",
        "if 'a' in nome:\n",
        "   print(f'{nome} contém letra \"a\".')\n",
        "else:\n",
        "   print(f'{nome} não contém letra \"a\".')"
      ],
      "metadata": {
        "colab": {
          "base_uri": "https://localhost:8080/"
        },
        "id": "JrTK7WR1bBFU",
        "outputId": "1d174dd8-f665-4492-ba55-735fca1b6a6c"
      },
      "execution_count": 15,
      "outputs": [
        {
          "output_type": "stream",
          "name": "stdout",
          "text": [
            "Digite o nome:Kaylany\n",
            "Kaylany contém letra \"a\".\n"
          ]
        }
      ]
    },
    {
      "cell_type": "code",
      "source": [
        "# 4-Peça um número e informe se ele é múltiplo de 5. Crie um algoritmo em Python que verifique se o número é divisível por 5.\n",
        "numero = int(input('Digite o número: '))\n",
        "if número % 5 == 0:\n",
        "  print(f'{numero} múltiplo de 5.')\n",
        "else:\n",
        "  print(f'{numero} não é múltiplo de 5.')"
      ],
      "metadata": {
        "colab": {
          "base_uri": "https://localhost:8080/"
        },
        "id": "MOYolt4FdFrU",
        "outputId": "5d4d89b5-043c-4315-d98f-8545a249385d"
      },
      "execution_count": 20,
      "outputs": [
        {
          "output_type": "stream",
          "name": "stdout",
          "text": [
            "Digite o número: 35\n",
            "35 múltiplo de 5.\n"
          ]
        }
      ]
    },
    {
      "cell_type": "code",
      "source": [
        "# 5-Peça a temperatura atual e informe se está quente (acima de 30°C) ou frio (30°C ou menos). Crie um algoritmo em Python para essa verificação.\n",
        "temperatura = int(input('Digite a temperatura:'))\n",
        "if temperatura > 30:\n",
        "  print('está quente')\n",
        "else:\n",
        "  print('está frio')"
      ],
      "metadata": {
        "colab": {
          "base_uri": "https://localhost:8080/"
        },
        "id": "EaONWSZIee0x",
        "outputId": "744d80c1-1ca5-407e-ee0a-33f8001c5041"
      },
      "execution_count": 17,
      "outputs": [
        {
          "output_type": "stream",
          "name": "stdout",
          "text": [
            "Digite a temperatura:22\n",
            "está frio\n"
          ]
        }
      ]
    },
    {
      "cell_type": "code",
      "source": [
        "# 6-Peça ao usuário para digitar \"S\" para continuar ou \"N\" para sair e informe a ação correspondente. Crie um algoritmo em Python que faça essa validação e exiba a mensagem correta.\n",
        "acao = input('Digite a letra: ')\n",
        "acao = acao.upper()\n",
        "if 'S' in acao:\n",
        "  print('Continuar')\n",
        "elif 'N' in acao:\n",
        "  print('Sair')\n",
        "else:\n",
        "  print('Ação inválida')\n"
      ],
      "metadata": {
        "colab": {
          "base_uri": "https://localhost:8080/"
        },
        "id": "M-SnRtQvfWtK",
        "outputId": "140c939a-8c16-4e42-b942-50d49465c265"
      },
      "execution_count": 25,
      "outputs": [
        {
          "output_type": "stream",
          "name": "stdout",
          "text": [
            "Digite a letra: n\n",
            "Sair\n"
          ]
        }
      ]
    },
    {
      "cell_type": "code",
      "source": [
        "# 7-Peça um número e informe se ele é negativo, zero ou positivo. Crie um algoritmo em Python para classificar o número.\n",
        "numero = int(input('Digite o número'))\n",
        "if numero > 0:\n",
        "  print(f'{numero} é positivo')\n",
        "elif numero == 0:\n",
        "  print(f'{numero} é zero')\n",
        "else:\n",
        "  print(f'{numero} é negativo')"
      ],
      "metadata": {
        "colab": {
          "base_uri": "https://localhost:8080/"
        },
        "id": "LOK1qxnfmTaA",
        "outputId": "2315f797-5482-4a09-8306-e25095350ed0"
      },
      "execution_count": 30,
      "outputs": [
        {
          "output_type": "stream",
          "name": "stdout",
          "text": [
            "Digite o número-40\n",
            "-40 é negativo\n"
          ]
        }
      ]
    },
    {
      "cell_type": "code",
      "source": [
        "# 8-Peça um número de 1 a 7 e informe o dia da semana correspondente. Crie um algoritmo em Python que associe o número ao dia correto.\n",
        "dia_da_semana = int(input('Digite o número: '))\n",
        "if dia_da_semana =="
      ],
      "metadata": {
        "colab": {
          "base_uri": "https://localhost:8080/",
          "height": 106
        },
        "id": "mM2qOL7foKyT",
        "outputId": "e1e49190-cd6a-4d5b-9d7e-453a518a7aff"
      },
      "execution_count": 33,
      "outputs": [
        {
          "output_type": "error",
          "ename": "SyntaxError",
          "evalue": "invalid syntax (<ipython-input-33-46e1f0e3f69c>, line 3)",
          "traceback": [
            "\u001b[0;36m  File \u001b[0;32m\"<ipython-input-33-46e1f0e3f69c>\"\u001b[0;36m, line \u001b[0;32m3\u001b[0m\n\u001b[0;31m    if dia_da_semana ==\u001b[0m\n\u001b[0m                       ^\u001b[0m\n\u001b[0;31mSyntaxError\u001b[0m\u001b[0;31m:\u001b[0m invalid syntax\n"
          ]
        }
      ]
    }
  ]
}