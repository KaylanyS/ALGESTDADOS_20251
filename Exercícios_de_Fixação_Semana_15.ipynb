{
  "nbformat": 4,
  "nbformat_minor": 0,
  "metadata": {
    "colab": {
      "provenance": [],
      "authorship_tag": "ABX9TyNlfn74OOVK/vLNMZNqyL2/",
      "include_colab_link": true
    },
    "kernelspec": {
      "name": "python3",
      "display_name": "Python 3"
    },
    "language_info": {
      "name": "python"
    }
  },
  "cells": [
    {
      "cell_type": "markdown",
      "metadata": {
        "id": "view-in-github",
        "colab_type": "text"
      },
      "source": [
        "<a href=\"https://colab.research.google.com/github/KaylanyS/ALGESTDADOS_20251/blob/main/Exerc%C3%ADcios_de_Fixa%C3%A7%C3%A3o_Semana_15.ipynb\" target=\"_parent\"><img src=\"https://colab.research.google.com/assets/colab-badge.svg\" alt=\"Open In Colab\"/></a>"
      ]
    },
    {
      "cell_type": "code",
      "execution_count": null,
      "metadata": {
        "colab": {
          "base_uri": "https://localhost:8080/"
        },
        "id": "uH_nYp28AtW2",
        "outputId": "dd9ef4dd-2f83-4ec6-fa1f-4f0447306215"
      },
      "outputs": [
        {
          "output_type": "stream",
          "name": "stdout",
          "text": [
            "Digite um número: 98765\n",
            "O número é maior que 10.\n"
          ]
        }
      ],
      "source": [
        "#1.Peça um número e informe se ele é maior que 10. Crie uma função em Python para fazer essa verificação.\n",
        "def verificar_maior_que_10():\n",
        "    try:\n",
        "        numero = float(input(\"Digite um número: \"))\n",
        "        if numero > 10:\n",
        "            print(\"O número é maior que 10.\")\n",
        "        elif numero == 10:\n",
        "            print(\"O número é igual a 10.\")\n",
        "        else:\n",
        "            print(\"O número é menor que 10.\")\n",
        "    except ValueError:\n",
        "        print(\"Entrada inválida. Por favor, digite um número.\")\n",
        "verificar_maior_que_10()"
      ]
    },
    {
      "cell_type": "code",
      "source": [
        "#2.Peça um número inteiro e informe se ele é par. Crie uma função em Python que verifique se o número é divisível por 2.\n",
        "def eh_par(numero):\n",
        "    return numero % 2 == 0\n",
        "try:\n",
        "    numero = int(input(\"Digite um número inteiro: \"))\n",
        "\n",
        "    if eh_par(numero):\n",
        "        print(f\"O número {numero} é par.\")\n",
        "    else:\n",
        "        print(f\"O número {numero} é ímpar.\")\n",
        "except ValueError:\n",
        "    print(\"Por favor, digite um número inteiro válido.\")\n"
      ],
      "metadata": {
        "colab": {
          "base_uri": "https://localhost:8080/"
        },
        "id": "9hv1iIn1CxiS",
        "outputId": "f20cb2f1-f270-42f1-bb9e-ce9d4a89aaa3"
      },
      "execution_count": null,
      "outputs": [
        {
          "output_type": "stream",
          "name": "stdout",
          "text": [
            "Digite um número inteiro: 22\n",
            "O número 22 é par.\n"
          ]
        }
      ]
    },
    {
      "cell_type": "code",
      "source": [
        "#3.Peça um nome e informe se ele contém a letra \"a\". Crie uma função em Python que faça essa verificação.\n",
        "def contem_letra_a(nome):\n",
        "    return 'a' in nome.lower()\n",
        "nome = input(\"Digite um nome: \")\n",
        "if contem_letra_a(nome):\n",
        "    print(f'O nome \"{nome}\" contém a letra \"a\".')\n",
        "else:\n",
        "    print(f'O nome \"{nome}\" não contém a letra \"a\".')\n"
      ],
      "metadata": {
        "colab": {
          "base_uri": "https://localhost:8080/"
        },
        "id": "QmxDgMlzDEY5",
        "outputId": "54a6aa2c-0fab-4a90-8dcd-c124019c53e9"
      },
      "execution_count": null,
      "outputs": [
        {
          "output_type": "stream",
          "name": "stdout",
          "text": [
            "Digite um nome: henrique\n",
            "O nome \"henrique\" não contém a letra \"a\".\n"
          ]
        }
      ]
    },
    {
      "cell_type": "code",
      "source": [
        "#4.Peça um número e informe se ele é múltiplo de 5. Crie uma função em Python que verifique se o número é divisível por 5.\n",
        "def mult5(x):\n",
        "  if x%5 == 0:\n",
        "    return 'Múltiplo de 5'\n",
        "numero = int(input(\"Digite um número: \"))\n",
        "resultado = mult5(numero)\n",
        "print(resultado)"
      ],
      "metadata": {
        "id": "tsfJxwvfbF2H",
        "colab": {
          "base_uri": "https://localhost:8080/"
        },
        "outputId": "8d1e8c07-9760-4956-88e8-50f6768f7fc3"
      },
      "execution_count": null,
      "outputs": [
        {
          "output_type": "stream",
          "name": "stdout",
          "text": [
            "Digite um número: 25\n",
            "Múltiplo de 5\n"
          ]
        }
      ]
    },
    {
      "cell_type": "code",
      "source": [
        "#5.Peça a temperatura atual e informe se está quente (acima de 30°C) ou frio (30°C ou menos). Crie uma função em Python para essa verificação.\n",
        "def temp30(temperatura):\n",
        "  if temperatura > 30:\n",
        "    return 'quente'\n",
        "  else:\n",
        "    return 'frio'\n",
        "temp_atual = float(input(\"Digite a temperatura atual em °C: \"))\n",
        "resultado = temp30(temp_atual)\n",
        "print(f\"Está {resultado}.\")"
      ],
      "metadata": {
        "colab": {
          "base_uri": "https://localhost:8080/"
        },
        "id": "YVL-Ee0ac6rf",
        "outputId": "00ca673f-f2f5-4baf-ec6b-42563b5f60f9"
      },
      "execution_count": null,
      "outputs": [
        {
          "output_type": "stream",
          "name": "stdout",
          "text": [
            "Digite a temperatura atual em °C: 22\n",
            "Está frio.\n"
          ]
        }
      ]
    },
    {
      "cell_type": "code",
      "source": [
        "#6.Peça ao usuário para digitar \"S\" para continuar ou \"N\" para sair e informe a ação correspondente. Crie uma função em Python que faça essa validação e exiba a mensagem correta.\n",
        "def continuarSair():\n",
        "  while True:\n",
        "    opcao = input('Digite S para continuar ou N para sair.')\n",
        "    if opcao.lower() == 'n':\n",
        "      print('Saindo...')\n",
        "      break\n",
        "    elif opcao.lower() == 's':\n",
        "      continue\n",
        "    else:\n",
        "      print('Opcao inválida')\n",
        "continuarSair()"
      ],
      "metadata": {
        "colab": {
          "base_uri": "https://localhost:8080/"
        },
        "id": "KItsmTN0c7Ud",
        "outputId": "7042cf9d-af10-4242-fc8b-a33825fe5957"
      },
      "execution_count": null,
      "outputs": [
        {
          "output_type": "stream",
          "name": "stdout",
          "text": [
            "Digite S para continuar ou N para sair.s\n",
            "Digite S para continuar ou N para sair.n\n",
            "Saindo...\n"
          ]
        }
      ]
    },
    {
      "cell_type": "code",
      "source": [
        "#7.Peça um número e informe se ele é negativo, zero ou positivo. Crie uma função em Python para classificar o número.\n",
        "def posnegzero(x):\n",
        "  if x == 0:\n",
        "    return 'Zero'\n",
        "  elif x < 0:\n",
        "    return 'Negativo'\n",
        "  else:\n",
        "    return 'Positivo'\n",
        "num = float(input(\"Digite um número: \"))\n",
        "resultado = posnegzero(num)\n",
        "print(f\"O número é {resultado}.\")"
      ],
      "metadata": {
        "colab": {
          "base_uri": "https://localhost:8080/"
        },
        "id": "hr-AsqdEc75N",
        "outputId": "052239a3-3780-4981-b7b8-bbeb46b8d133"
      },
      "execution_count": null,
      "outputs": [
        {
          "output_type": "stream",
          "name": "stdout",
          "text": [
            "Digite um número: 5\n",
            "O número é Positivo.\n"
          ]
        }
      ]
    },
    {
      "cell_type": "code",
      "source": [
        "#8.Peça um número de 1 a 7 e informe o dia da semana correspondente. Crie uma função em Python que associe o número ao dia correto.\n",
        "def dia_da_semana(numero):\n",
        "    dias = {\n",
        "        1: 'Domingo',\n",
        "        2: 'Segunda-feira',\n",
        "        3: 'Terça-feira',\n",
        "        4: 'Quarta-feira',\n",
        "        5: 'Quinta-feira',\n",
        "        6: 'Sexta-feira',\n",
        "        7: 'Sábado'}\n",
        "\n",
        "    return dias.get(numero, 'Número inválido! Digite um número de 1 a 7.')\n",
        "num = int(input(\"Digite um número de 1 a 7: \"))\n",
        "resultado = dia_da_semana(num)\n",
        "print(f\"Resultado: {resultado}\")\n"
      ],
      "metadata": {
        "colab": {
          "base_uri": "https://localhost:8080/"
        },
        "id": "2KXxSh6dc8EN",
        "outputId": "d9b6cdef-c096-48c7-8cd6-ce23b750f6c9"
      },
      "execution_count": null,
      "outputs": [
        {
          "output_type": "stream",
          "name": "stdout",
          "text": [
            "Digite um número de 1 a 7: 3\n",
            "Resultado: Terça-feira\n"
          ]
        }
      ]
    },
    {
      "cell_type": "code",
      "source": [
        "#9.Peça um ano e informe se ele é bissexto. Crie uma função em Python que verifique se o ano é divisível por 4 e não por 100, exceto se também for divisível por 400.\n",
        "def bissexto(ano):\n",
        "  if ano%4 == 0 and ano%100!=0:\n",
        "    return 'Bissexto'\n",
        "  elif ano%400==0:\n",
        "    return 'Bissexto'\n",
        "  else:\n",
        "   return 'Não é bissexto'\n",
        "ano_digitado = int(input(\"Digite um ano: \"))\n",
        "resultado = bissexto(ano_digitado)\n",
        "print(f\"O ano {ano_digitado} é {resultado}.\")"
      ],
      "metadata": {
        "colab": {
          "base_uri": "https://localhost:8080/"
        },
        "id": "NhhhGegmc8Lt",
        "outputId": "9425ccd0-0b86-4819-fd6f-dabb1a7ea547"
      },
      "execution_count": null,
      "outputs": [
        {
          "output_type": "stream",
          "name": "stdout",
          "text": [
            "Digite um ano: 2006\n",
            "O ano 2006 é Não é bissexto.\n"
          ]
        }
      ]
    },
    {
      "cell_type": "code",
      "source": [
        "#10.Peça a quantidade de horas trabalhadas e o valor por hora. Se trabalhou até 40 horas, calcule o salário normalmente (horas × valor por hora). Se trabalhou mais de 40 horas, as horas extras devem ter um adicional de 50% (horas extras × valor por hora × 1.5). Crie uma função em Python que realize esse cálculo corretamente.\n",
        "def calcSalario(horas,valor):\n",
        "  if horas <= 40:\n",
        "    return horas*valor\n",
        "  else:\n",
        "     return 40*valor + ((horas-40)*valor*1.5)\n",
        "print(calcSalario(42,10))"
      ],
      "metadata": {
        "colab": {
          "base_uri": "https://localhost:8080/"
        },
        "id": "raFAixCzc8ZV",
        "outputId": "51ab2a5f-6809-492c-8c25-cc7b592ee3aa"
      },
      "execution_count": null,
      "outputs": [
        {
          "output_type": "stream",
          "name": "stdout",
          "text": [
            "430.0\n"
          ]
        }
      ]
    },
    {
      "cell_type": "code",
      "source": [
        "#11.Crie uma função chamada soma_vetor que recebe um vetor de números inteiros como parâmetro e retorna a soma de todos os elementos. Teste a função com um vetor de 10 elementos fornecidos pelo usuário\n",
        "def soma_vetor(vetor):\n",
        "    return sum(vetor)\n",
        "def ler_vetor():\n",
        "    vetor = []\n",
        "    for i in range(10):\n"
      ],
      "metadata": {
        "colab": {
          "base_uri": "https://localhost:8080/",
          "height": 106
        },
        "id": "oyMqHvqRq_HH",
        "outputId": "8999a178-e745-45c6-d62c-fca20cba1bb6"
      },
      "execution_count": null,
      "outputs": [
        {
          "output_type": "error",
          "ename": "SyntaxError",
          "evalue": "incomplete input (<ipython-input-36-d23735ec43c9>, line 6)",
          "traceback": [
            "\u001b[0;36m  File \u001b[0;32m\"<ipython-input-36-d23735ec43c9>\"\u001b[0;36m, line \u001b[0;32m6\u001b[0m\n\u001b[0;31m    for i in range(10):\u001b[0m\n\u001b[0m                       ^\u001b[0m\n\u001b[0;31mSyntaxError\u001b[0m\u001b[0;31m:\u001b[0m incomplete input\n"
          ]
        }
      ]
    },
    {
      "cell_type": "code",
      "source": [
        "#12.Crie uma função chamada ordenar_nomes que recebe um vetor com 5 nomes e retorna uma nova lista com os nomes em ordem alfabética. Teste a função lendo os nomes do usuário.\n",
        "def ordenar_nomes(lista_nomes):\n",
        "    return sorted(lista_nomes)\n",
        "nomes = []\n",
        "for i in range(5):\n",
        "    nome = input(f\"Digite o nome {i+1}: \")\n",
        "    nomes.append(nome)\n",
        "nomes_ordenados = ordenar_nomes(nomes)\n",
        "print(\"Nomes em ordem alfabética:\")\n",
        "for nome in nomes_ordenados:\n",
        "    print(nome)\n"
      ],
      "metadata": {
        "id": "AyZHWGWxrD7l",
        "colab": {
          "base_uri": "https://localhost:8080/"
        },
        "outputId": "4c0f22e7-d4e6-444d-bf4a-b13da2decac2"
      },
      "execution_count": 1,
      "outputs": [
        {
          "output_type": "stream",
          "name": "stdout",
          "text": [
            "Digite o nome 1: pedro\n",
            "Digite o nome 2: tiago\n",
            "Digite o nome 3: joão\n",
            "Digite o nome 4: lara\n",
            "Digite o nome 5: ana\n",
            "\n",
            "Nomes em ordem alfabética:\n",
            "ana\n",
            "joão\n",
            "lara\n",
            "pedro\n",
            "tiago\n"
          ]
        }
      ]
    },
    {
      "cell_type": "code",
      "source": [
        "#13.Crie uma função chamada maior_menor que receba um vetor de números inteiros e retorne uma tupla com o maior e o menor valor. Use um vetor de 8 elementos como exemplo\n",
        "def maior_menor(vetor):\n",
        "    maior = max(vetor)\n",
        "    menor = min(vetor)\n",
        "    return (maior, menor)\n",
        "numeros = [15, 3, 22, 8, -5, 13, 7, 0]\n",
        "resultado = maior_menor(numeros)\n",
        "print(\"Maior valor:\", resultado[0])\n",
        "print(\"Menor valor:\", resultado[1])\n"
      ],
      "metadata": {
        "id": "WpbtVCL9rFa2",
        "colab": {
          "base_uri": "https://localhost:8080/"
        },
        "outputId": "55336ba5-8f35-4f1f-ff8f-8e5652124ada"
      },
      "execution_count": 2,
      "outputs": [
        {
          "output_type": "stream",
          "name": "stdout",
          "text": [
            "Maior valor: 22\n",
            "Menor valor: -5\n"
          ]
        }
      ]
    },
    {
      "cell_type": "code",
      "source": [
        "#14.Crie uma função chamada filtrar_pares que recebe uma lista de números inteiros e retorna apenas os números pares. Teste com 10 números fornecidos pelo usuário.\n",
        "def filtrar_pares(lista):\n",
        "    pares = [num for num in lista if num % 2 == 0]\n",
        "    return pares\n",
        "numeros = []\n",
        "for i in range(10):\n",
        "    num = int(input(f\"Digite o {i+1}º número: \"))\n",
        "    numeros.append(num)\n",
        "numeros_pares = filtrar_pares(numeros)\n",
        "print(\"Números pares:\")\n",
        "print(numeros_pares)\n"
      ],
      "metadata": {
        "id": "0hcrUx-LrFiu",
        "colab": {
          "base_uri": "https://localhost:8080/"
        },
        "outputId": "c7575c7e-dd6a-4c7f-8e4e-4d73087d6844"
      },
      "execution_count": 3,
      "outputs": [
        {
          "output_type": "stream",
          "name": "stdout",
          "text": [
            "Digite o 1º número: 4\n",
            "Digite o 2º número: 3\n",
            "Digite o 3º número: 2\n",
            "Digite o 4º número: 6\n",
            "Digite o 5º número: 7\n",
            "Digite o 6º número: 8\n",
            "Digite o 7º número: 5\n",
            "Digite o 8º número: 6\n",
            "Digite o 9º número: 5\n",
            "Digite o 10º número: 8\n",
            "Números pares:\n",
            "[4, 2, 6, 8, 6, 8]\n"
          ]
        }
      ]
    },
    {
      "cell_type": "code",
      "source": [
        "#15.Crie uma função chamada media_valores que receba uma lista de números reais e retorne a média aritmética. Teste com uma lista de 6 elementos.\n",
        "def media_valores(lista):\n",
        "    if len(lista) == 0:\n",
        "        return 0  # Evita divisão por zero\n",
        "    return sum(lista) / len(lista)\n",
        "numeros = []\n",
        "for i in range(6):\n",
        "    num = float(input(f\"Digite o {i+1}º número real: \"))\n",
        "    numeros.append(num)\n",
        "media = media_valores(numeros)\n",
        "print(f\"A média dos valores é: {media:.2f}\")\n"
      ],
      "metadata": {
        "id": "HuINfVKxrFqO",
        "colab": {
          "base_uri": "https://localhost:8080/"
        },
        "outputId": "39515d80-9d10-4391-98d4-3bd08e540717"
      },
      "execution_count": 5,
      "outputs": [
        {
          "output_type": "stream",
          "name": "stdout",
          "text": [
            "Digite o 1º número real: 3\n",
            "Digite o 2º número real: 4\n",
            "Digite o 3º número real: 3\n",
            "Digite o 4º número real: 4\n",
            "Digite o 5º número real: 2\n",
            "Digite o 6º número real: 6\n",
            "A média dos valores é: 3.67\n"
          ]
        }
      ]
    },
    {
      "cell_type": "code",
      "source": [
        "#16.Crie uma função chamada contar_maiores que receba uma lista de números inteiros e um valor de comparação. A função deve retornar quantos elementos da lista são maiores que esse valor. Use um vetor de 10 elementos e compare com o número 50.\n",
        "def contar_maiores(lista, valor):\n",
        "    contador = 0\n",
        "    for num in lista:\n",
        "        if num > valor:\n",
        "            contador += 1\n",
        "    return contador\n",
        "numeros = []\n",
        "for i in range(10):\n",
        "    num = int(input(f\"Digite o {i+1}º número inteiro: \"))\n",
        "    numeros.append(num)\n",
        "quantidade_maiores = contar_maiores(numeros, 50)\n",
        "print(f\"Quantidade de números maiores que 50: {quantidade_maiores}\")\n"
      ],
      "metadata": {
        "id": "_zOzDnJdrFye",
        "colab": {
          "base_uri": "https://localhost:8080/"
        },
        "outputId": "6609874e-8353-42f7-be2f-de54ff6e4f06"
      },
      "execution_count": 6,
      "outputs": [
        {
          "output_type": "stream",
          "name": "stdout",
          "text": [
            "Digite o 1º número inteiro: 2\n",
            "Digite o 2º número inteiro: 3\n",
            "Digite o 3º número inteiro: 4\n",
            "Digite o 4º número inteiro: 5\n",
            "Digite o 5º número inteiro: 6\n",
            "Digite o 6º número inteiro: 7\n",
            "Digite o 7º número inteiro: 8\n",
            "Digite o 8º número inteiro: 9\n",
            "Digite o 9º número inteiro: 0\n",
            "Digite o 10º número inteiro: 8\n",
            "Quantidade de números maiores que 50: 0\n"
          ]
        }
      ]
    },
    {
      "cell_type": "code",
      "source": [
        "#17.Crie uma função chamada inverter_lista que receba uma lista qualquer e retorne a lista invertida (do último para o primeiro). Teste com um vetor de 7 elementos.\n",
        "def inverter_lista(lista):\n",
        "    return lista[::-1]  # Usando slicing para inverter a lista37\n",
        "elementos = []\n",
        "for i in range(7):\n",
        "    item = input(f\"Digite o {i+1}º elemento: \")\n",
        "    elementos.append(item)\n",
        "lista_invertida = inverter_lista(elementos)\n",
        "print(\"Lista invertida:\")\n",
        "print(lista_invertida)\n"
      ],
      "metadata": {
        "id": "_78lvS2erF7e",
        "colab": {
          "base_uri": "https://localhost:8080/"
        },
        "outputId": "4f5e34a3-42a7-4d1d-9276-4d432333151a"
      },
      "execution_count": 7,
      "outputs": [
        {
          "output_type": "stream",
          "name": "stdout",
          "text": [
            "Digite o 1º elemento: 1\n",
            "Digite o 2º elemento: 2\n",
            "Digite o 3º elemento: \n",
            "Digite o 4º elemento: 3\n",
            "Digite o 5º elemento: 4\n",
            "Digite o 6º elemento: 5\n",
            "Digite o 7º elemento: 6\n",
            "\n",
            "Lista invertida:\n",
            "['6', '5', '4', '3', '', '2', '1']\n"
          ]
        }
      ]
    },
    {
      "cell_type": "code",
      "source": [
        "#18.Crie uma função chamada encontrar_duplicatas que recebe uma lista de inteiros e retorna uma lista com os elementos duplicados (sem repeti-los). Use um vetor de 5 elementos com possíveis repetições.\n",
        "def encontrar_duplicatas(lista):\n",
        "    duplicatas = []\n",
        "    for item in lista:\n",
        "        if lista.count(item) > 1 and item not in duplicatas:\n",
        "            duplicatas.append(item)\n",
        "    return duplicatas\n",
        "    elementos = []\n",
        "for i in range(5):\n",
        "    elemento = int(input(f\"Digite o {i+1}º elemento (inteiro): \"))\n",
        "    elementos.append(elemento)\n",
        "duplicatas_encontradas = encontrar_duplicatas(elementos)\n",
        "print(\"Elementos duplicados:\")\n",
        "print(duplicatas_encontradas)\n"
      ],
      "metadata": {
        "id": "g07a5e9jrGEH",
        "colab": {
          "base_uri": "https://localhost:8080/"
        },
        "outputId": "358cf80e-73cd-4727-d45d-832ee582d302"
      },
      "execution_count": 8,
      "outputs": [
        {
          "output_type": "stream",
          "name": "stdout",
          "text": [
            "Digite o 1º elemento (inteiro): 1\n",
            "Digite o 2º elemento (inteiro): 2\n",
            "Digite o 3º elemento (inteiro): 3\n",
            "Digite o 4º elemento (inteiro): 4\n",
            "Digite o 5º elemento (inteiro): 5\n",
            "\n",
            "Elementos duplicados:\n",
            "[]\n"
          ]
        }
      ]
    },
    {
      "cell_type": "code",
      "source": [
        "#19.Crie uma função chamada gerar_lista_aleatoria que recebe dois parâmetros: a quantidade de números e o intervalo (por exemplo, entre 1 e 100). A função deve retornar uma lista com números aleatórios e ordená-los. Use a função para gerar 10 números aleatórios entre 1 e 100.\n",
        "import random\n",
        "def gerar_lista_aleatoria(quantidade, intervalo):\n",
        "    inicio, fim = intervalo\n",
        "    lista = [random.randint(inicio, fim) for _ in range(quantidade)]\n",
        "    return sorted(lista)\n",
        "lista_aleatoria = gerar_lista_aleatoria(10, (1, 100))\n",
        "print(\"Lista de números aleatórios ordenada:\")\n",
        "print(lista_aleatoria)\n"
      ],
      "metadata": {
        "id": "KVZ8lVpLry2H",
        "colab": {
          "base_uri": "https://localhost:8080/"
        },
        "outputId": "4b5fef07-627a-4ef1-b6b6-123f341022e0"
      },
      "execution_count": 9,
      "outputs": [
        {
          "output_type": "stream",
          "name": "stdout",
          "text": [
            "Lista de números aleatórios ordenada:\n",
            "[12, 20, 31, 32, 38, 50, 58, 76, 85, 93]\n"
          ]
        }
      ]
    },
    {
      "cell_type": "code",
      "source": [
        "#20.Crie uma função chamada verificar_valor que recebe uma lista de inteiros e um número, e retorna True se o número estiver na lista, e False caso contrário. Teste com uma lista de 6 números inteiros e um valor fornecido pelo usuário.\n",
        "\n",
        "def verificar_valor(lista, numero):\n",
        "    return numero in lista\n",
        "lista_teste = [10, 25, 5, 80, 15, 42]\n",
        "try:\n",
        "    valor_usuario = int(input(\"Digite um número inteiro para verificar na lista: \"))\n",
        "    if verificar_valor(lista_teste, valor_usuario):\n",
        "        print(f\"O número {valor_usuario} está na lista.\")\n",
        "    else:\n",
        "        print(f\"O número {valor_usuario} não está na lista.\")\n",
        "except ValueError:\n",
        "    print(\"Entrada inválida. Por favor, digite um número inteiro.\")"
      ],
      "metadata": {
        "colab": {
          "base_uri": "https://localhost:8080/"
        },
        "id": "Z16gEuWcrGL2",
        "outputId": "297836a7-7a93-4089-d366-6b5d9e1134dd"
      },
      "execution_count": null,
      "outputs": [
        {
          "output_type": "stream",
          "name": "stdout",
          "text": [
            "Digite um número inteiro para verificar na lista: 20\n",
            "O número 20 não está na lista.\n"
          ]
        }
      ]
    }
  ]
}