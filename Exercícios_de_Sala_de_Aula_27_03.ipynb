{
  "nbformat": 4,
  "nbformat_minor": 0,
  "metadata": {
    "colab": {
      "provenance": [],
      "authorship_tag": "ABX9TyPE7tNz45Ug4hHPScMnajJo",
      "include_colab_link": true
    },
    "kernelspec": {
      "name": "python3",
      "display_name": "Python 3"
    },
    "language_info": {
      "name": "python"
    }
  },
  "cells": [
    {
      "cell_type": "markdown",
      "metadata": {
        "id": "view-in-github",
        "colab_type": "text"
      },
      "source": [
        "<a href=\"https://colab.research.google.com/github/KaylanyS/ALGESTDADOS_20251/blob/main/Exerc%C3%ADcios_de_Sala_de_Aula_27_03.ipynb\" target=\"_parent\"><img src=\"https://colab.research.google.com/assets/colab-badge.svg\" alt=\"Open In Colab\"/></a>"
      ]
    },
    {
      "cell_type": "code",
      "source": [
        "# 1-Peça ao usuário três lados de um triângulo e classifique-o como equilátero, isósceles ou escaleno.\n",
        "lado1 = float(input(\"Digite o valor do primeiro lado do triângulo: \"))\n",
        "lado2 = float(input(\"Digite o valor do segundo lado do triângulo: \"))\n",
        "lado3 = float(input(\"Digite o valor do terceiro lado do triângulo: \"))\n",
        "if lado1 == lado2 or lado2 == lado3 or lado1 == lado3:\n",
        "   print(\"O triângulo é equilátero.\")\n",
        "elif lado1 == lado2 and lado2 == lado3:\n",
        "   print(\"O triângulo é isósceles.\")\n",
        "else:\n",
        "   print(\"O triângulo é escaleno.\")"
      ],
      "metadata": {
        "colab": {
          "base_uri": "https://localhost:8080/"
        },
        "id": "0olVaYN9Sa_q",
        "outputId": "55fc372b-1f65-434b-e7d7-505e7acdd164"
      },
      "execution_count": null,
      "outputs": [
        {
          "output_type": "stream",
          "name": "stdout",
          "text": [
            "Digite o valor do primeiro lado do triângulo: 12\n",
            "Digite o valor do segundo lado do triângulo: 12\n",
            "Digite o valor do terceiro lado do triângulo: 12\n",
            "O triângulo é equilátero.\n"
          ]
        }
      ]
    },
    {
      "cell_type": "code",
      "source": [
        "# 2-Peça ao usuário um horário no formato 24h (por exemplo, 13:45) e converta para o formato 12h com AM/PM.\n",
        "from datetime import datetime\n",
        "horario = input('Digite a hora desejada (HH:MM): ')\n",
        "hora = int(datetime.strptime(horario,'%H:%M').hour)\n",
        "minuto = int(datetime.strptime(horario,'%H:%M').minute)\n",
        "if hora > 12:\n",
        "  hora = hora - 12\n",
        "  print(f\"{hora}:{minuto} PM\")\n",
        "elif hora == 12:\n",
        "  print(f'{horario}PM')\n",
        "else:\n",
        "   print(f'{horario} AM')\n",
        "\n"
      ],
      "metadata": {
        "colab": {
          "base_uri": "https://localhost:8080/"
        },
        "id": "3m0qRz9DSytK",
        "outputId": "64862d44-d6e2-45b3-b9a8-07a34e6ce624"
      },
      "execution_count": null,
      "outputs": [
        {
          "output_type": "stream",
          "name": "stdout",
          "text": [
            "Digite a hora desejada (HH:MM): 11:00\n",
            "11:00 AM\n"
          ]
        }
      ]
    },
    {
      "cell_type": "code",
      "source": [
        "# 3-Solicite a idade de um nadador e classifique-o em uma categoria:\n",
        "# - Até 7 anos → Mirim\n",
        "# - 8 a 10 anos → Infantil\n",
        "# - 11 a 13 anos → Juvenil\n",
        "# - 14 a 17 anos → Júnior\n",
        "# - 18 anos ou mais → Sênior\n",
        "idade = int(input(\"Digite a idade do nadador: \"))\n",
        "if idade <= 7:\n",
        "   print(\"Categoria: Mirim\")\n",
        "elif idade <= 10:\n",
        "   print(\"Categoria: Infantil\")\n",
        "elif idade <= 13:\n",
        "   print(\"Categoria: Juvenil\")\n",
        "elif idade <= 17:\n",
        "   print(\"Categoria: Júnior\")\n",
        "else:\n",
        "   print(\"Categoria: Sênior\")\n"
      ],
      "metadata": {
        "colab": {
          "base_uri": "https://localhost:8080/"
        },
        "id": "zTJgaBK4S8tK",
        "outputId": "f15915d8-d4d5-4895-abd3-c012edbb49cd"
      },
      "execution_count": null,
      "outputs": [
        {
          "output_type": "stream",
          "name": "stdout",
          "text": [
            "Digite a idade do nadador: 45\n",
            "Categoria: Sênior\n"
          ]
        }
      ]
    },
    {
      "cell_type": "code",
      "source": [
        "# 4-Simule uma partida de Pedra, Papel e Tesoura entre o usuário e o computador (sem aleatoriedade, o jogador deve escolher as duas opções).\n",
        "jogador1 = input(\"Jogador 1, escolha pedra, papel ou tesoura): \")\n",
        "jogador2 = input(\"Jogador 2, escolha pedra, papel ou tesoura): \")\n",
        "if jogador1 == jogador2:\n",
        "   print(\"Empate!\")\n",
        "elif jogador1 == \"pedra\":\n",
        "  if jogador2 == \"tesoura\":\n",
        "   print(\"Jogador 1 venceu!\")\n",
        "  else:\n",
        "   print(\"Jogador 2 venceu!\")\n",
        "elif jogador1 == \"papel\":\n",
        "  if jogador2 == \"pedra\":\n",
        "    print(\"Jogador 1 vence!\")\n",
        "  else:\n",
        "   print(\"Jogador 2 vence!\")\n",
        "elif jogador1 == \"tesoura\":\n",
        "  if jogador2 == \"papel\":\n",
        "    print(\"Jogador 1 vence!\")\n",
        "  else:\n",
        "   print(\"Jogador 2 vence!\")\n",
        "else:\n",
        "   print(\"Opção inválida.\")"
      ],
      "metadata": {
        "colab": {
          "base_uri": "https://localhost:8080/"
        },
        "id": "n6XGJELzTFLh",
        "outputId": "8397bdb7-195e-4e4f-9416-ae2c3f08c5a9"
      },
      "execution_count": 9,
      "outputs": [
        {
          "output_type": "stream",
          "name": "stdout",
          "text": [
            "Jogador 1, escolha pedra, papel ou tesoura): pedra\n",
            "Jogador 2, escolha pedra, papel ou tesoura): papel\n",
            "Jogador 2 venceu!\n"
          ]
        }
      ]
    },
    {
      "cell_type": "code",
      "source": [
        "# 5-Peça uma nota de 0 a 10 e classifique-a:\n",
        "# - A (9-10)\n",
        "# - B (7-8.9)\n",
        "# - C (5-6.9)\n",
        "# - D (3-4.9)\n",
        "# - F (0-2.9)\n",
        "nota = float(input(\"Digite uma nota: \"))\n",
        "if nota >= 9:\n",
        "   print(\"Sua classificação é A\")\n",
        "elif nota >= 7:\n",
        "   print(\"Sua classificação é B\")\n",
        "elif nota >= 5:\n",
        "   print(\"Sua classificação é C\")\n",
        "elif nota >= 3:\n",
        "   print(\"Sua classificação é D\")\n",
        "else:\n",
        "   print(\"Sua classificação é F\")"
      ],
      "metadata": {
        "colab": {
          "base_uri": "https://localhost:8080/"
        },
        "id": "X2S3FhEOTO0z",
        "outputId": "8b17579c-22ae-4f51-e5db-08a01a54810b"
      },
      "execution_count": 18,
      "outputs": [
        {
          "output_type": "stream",
          "name": "stdout",
          "text": [
            "Digite uma nota: 5\n",
            "Sua classificação é C\n"
          ]
        }
      ]
    },
    {
      "cell_type": "code",
      "source": [
        "# 6-Solicite o peso e altura do usuário e calcule o IMC. Classifique conforme a tabela:\n",
        "# - Abaixo do peso: < 18.5\n",
        "# - Normal: 18.5 - 24.9\n",
        "# - Sobrepeso: 25 - 29.9\n",
        "# - Obesidade: >= 30\n",
        "peso = float(input(\"Digite o peso: \"))\n",
        "altura = float(input(\"Digite a altura: \"))\n",
        "imc = peso/(altura*altura)\n",
        "if imc < 18.5:\n",
        "   print(\"Abaixo do peso\")\n",
        "elif imc < 25:\n",
        "   print(\"Normal\")\n",
        "elif imc < 30:\n",
        "   print(\"Sobrepeso\")\n",
        "else:\n",
        "   print(\"Obesidade\")"
      ],
      "metadata": {
        "colab": {
          "base_uri": "https://localhost:8080/"
        },
        "id": "IhH7KjeSTUPj",
        "outputId": "939c3639-f918-4b3c-94b2-161cc8e5c8a4"
      },
      "execution_count": 17,
      "outputs": [
        {
          "output_type": "stream",
          "name": "stdout",
          "text": [
            "Digite o peso: 55\n",
            "Digite a altura: 1.10\n",
            "Obesidade\n"
          ]
        }
      ]
    },
    {
      "cell_type": "code",
      "source": [
        "# 7-Peça uma letra ao usuário e diga se é vogal ou consoante.\n",
        "letra = input(\"Digite uma letra: \")\n",
        "if letra in \"aeiouAEIOU\":\n",
        "   print(\"Vogal\")\n",
        "else:\n",
        "   print(\"Consoante\")"
      ],
      "metadata": {
        "colab": {
          "base_uri": "https://localhost:8080/"
        },
        "id": "jjzrFSt6TaUb",
        "outputId": "0ea14a3a-6e93-48cb-ac0f-763f8b9d6ebb"
      },
      "execution_count": 24,
      "outputs": [
        {
          "output_type": "stream",
          "name": "stdout",
          "text": [
            "Digite uma letra: ç\n",
            "Consoante\n"
          ]
        }
      ]
    },
    {
      "cell_type": "code",
      "source": [
        "# 8-Solicite o valor da compra e aplique descontos:\n",
        "# - Até R$ 100,00 → sem desconto\n",
        "# - De R$ 100,01 a R$ 500,00 → 10% de desconto\n",
        "# - Acima de R$ 500,00 → 20% de desconto\n",
        "valor = float(input(\"Digite o valor da compra: \"))\n",
        "if valor <= 100:\n",
        "   print(f\"Compra: R$ {valor:.2f}\")\n",
        "elif valor <= 500:\n",
        "   print(f\"Compra: R$ {valor*0.9:.2f}\")\n",
        "else:\n",
        "   print(f\"Compra: R$ {valor*0.8:2f}\")"
      ],
      "metadata": {
        "colab": {
          "base_uri": "https://localhost:8080/"
        },
        "id": "fPNWMMDteZUI",
        "outputId": "53277a60-97d4-4bc9-9389-346aa2d9755f"
      },
      "execution_count": 30,
      "outputs": [
        {
          "output_type": "stream",
          "name": "stdout",
          "text": [
            "Digite o valor da compra: 550\n",
            "Compra: R$ 440.000000\n"
          ]
        }
      ]
    },
    {
      "cell_type": "code",
      "source": [
        "# 9. Crie um programa que calcula o preço do estacionamento:\n",
        "# - Até 2h → R$ 5,00 por hora\n",
        "# - De 2h a 5h → R$ 4,00 por hora\n",
        "# - Mais de 5h → R$ 3,00 por hora\n",
        "from datetime import datetime\n",
        "horario = input('Digite a quantidade horas(hh:mm): ')\n",
        "horario = int(datetime.strptime(horario, '%H:%M').hour)\n",
        "minutos = int(datetime.strftime(horario, '%H:%M').minute)\n",
        "if minutos > 15:\n",
        "   horas+=1\n",
        "if horas <=2:\n",
        "   print(f\"Valor a pagar:R${horas*5:.2f}\")\n",
        "elif valor <= 5:\n",
        "   print(f\"Valor a pagar:R${horas*4:.2f}\")\n",
        "else:\n",
        "   print(f\"Valor a pagar:R${horas*3:.2f}\")"
      ],
      "metadata": {
        "colab": {
          "base_uri": "https://localhost:8080/",
          "height": 373
        },
        "id": "6-QRdrhzeqho",
        "outputId": "a81835f7-c468-45a5-bdce-de6ef5566520"
      },
      "execution_count": 33,
      "outputs": [
        {
          "name": "stdout",
          "output_type": "stream",
          "text": [
            "Digite a quantidade horas(hh:mm): 5\n"
          ]
        },
        {
          "output_type": "error",
          "ename": "ValueError",
          "evalue": "time data '5' does not match format '%H:%M'",
          "traceback": [
            "\u001b[0;31m---------------------------------------------------------------------------\u001b[0m",
            "\u001b[0;31mValueError\u001b[0m                                Traceback (most recent call last)",
            "\u001b[0;32m<ipython-input-33-f9830cd73dd4>\u001b[0m in \u001b[0;36m<cell line: 0>\u001b[0;34m()\u001b[0m\n\u001b[1;32m      5\u001b[0m \u001b[0;32mfrom\u001b[0m \u001b[0mdatetime\u001b[0m \u001b[0;32mimport\u001b[0m \u001b[0mdatetime\u001b[0m\u001b[0;34m\u001b[0m\u001b[0;34m\u001b[0m\u001b[0m\n\u001b[1;32m      6\u001b[0m \u001b[0mhorario\u001b[0m \u001b[0;34m=\u001b[0m \u001b[0minput\u001b[0m\u001b[0;34m(\u001b[0m\u001b[0;34m'Digite a quantidade horas(hh:mm): '\u001b[0m\u001b[0;34m)\u001b[0m\u001b[0;34m\u001b[0m\u001b[0;34m\u001b[0m\u001b[0m\n\u001b[0;32m----> 7\u001b[0;31m \u001b[0mhorario\u001b[0m \u001b[0;34m=\u001b[0m \u001b[0mint\u001b[0m\u001b[0;34m(\u001b[0m\u001b[0mdatetime\u001b[0m\u001b[0;34m.\u001b[0m\u001b[0mstrptime\u001b[0m\u001b[0;34m(\u001b[0m\u001b[0mhorario\u001b[0m\u001b[0;34m,\u001b[0m \u001b[0;34m'%H:%M'\u001b[0m\u001b[0;34m)\u001b[0m\u001b[0;34m.\u001b[0m\u001b[0mhour\u001b[0m\u001b[0;34m)\u001b[0m\u001b[0;34m\u001b[0m\u001b[0;34m\u001b[0m\u001b[0m\n\u001b[0m\u001b[1;32m      8\u001b[0m \u001b[0mminutos\u001b[0m \u001b[0;34m=\u001b[0m \u001b[0mint\u001b[0m\u001b[0;34m(\u001b[0m\u001b[0mdatetime\u001b[0m\u001b[0;34m.\u001b[0m\u001b[0mstrftime\u001b[0m\u001b[0;34m(\u001b[0m\u001b[0mhorario\u001b[0m\u001b[0;34m,\u001b[0m \u001b[0;34m'%H:%M'\u001b[0m\u001b[0;34m)\u001b[0m\u001b[0;34m.\u001b[0m\u001b[0mminute\u001b[0m\u001b[0;34m)\u001b[0m\u001b[0;34m\u001b[0m\u001b[0;34m\u001b[0m\u001b[0m\n\u001b[1;32m      9\u001b[0m \u001b[0;32mif\u001b[0m \u001b[0mminutos\u001b[0m \u001b[0;34m>\u001b[0m \u001b[0;36m15\u001b[0m\u001b[0;34m:\u001b[0m\u001b[0;34m\u001b[0m\u001b[0;34m\u001b[0m\u001b[0m\n",
            "\u001b[0;32m/usr/lib/python3.11/_strptime.py\u001b[0m in \u001b[0;36m_strptime_datetime\u001b[0;34m(cls, data_string, format)\u001b[0m\n\u001b[1;32m    565\u001b[0m     \"\"\"Return a class cls instance based on the input string and the\n\u001b[1;32m    566\u001b[0m     format string.\"\"\"\n\u001b[0;32m--> 567\u001b[0;31m     \u001b[0mtt\u001b[0m\u001b[0;34m,\u001b[0m \u001b[0mfraction\u001b[0m\u001b[0;34m,\u001b[0m \u001b[0mgmtoff_fraction\u001b[0m \u001b[0;34m=\u001b[0m \u001b[0m_strptime\u001b[0m\u001b[0;34m(\u001b[0m\u001b[0mdata_string\u001b[0m\u001b[0;34m,\u001b[0m \u001b[0mformat\u001b[0m\u001b[0;34m)\u001b[0m\u001b[0;34m\u001b[0m\u001b[0;34m\u001b[0m\u001b[0m\n\u001b[0m\u001b[1;32m    568\u001b[0m     \u001b[0mtzname\u001b[0m\u001b[0;34m,\u001b[0m \u001b[0mgmtoff\u001b[0m \u001b[0;34m=\u001b[0m \u001b[0mtt\u001b[0m\u001b[0;34m[\u001b[0m\u001b[0;34m-\u001b[0m\u001b[0;36m2\u001b[0m\u001b[0;34m:\u001b[0m\u001b[0;34m]\u001b[0m\u001b[0;34m\u001b[0m\u001b[0;34m\u001b[0m\u001b[0m\n\u001b[1;32m    569\u001b[0m     \u001b[0margs\u001b[0m \u001b[0;34m=\u001b[0m \u001b[0mtt\u001b[0m\u001b[0;34m[\u001b[0m\u001b[0;34m:\u001b[0m\u001b[0;36m6\u001b[0m\u001b[0;34m]\u001b[0m \u001b[0;34m+\u001b[0m \u001b[0;34m(\u001b[0m\u001b[0mfraction\u001b[0m\u001b[0;34m,\u001b[0m\u001b[0;34m)\u001b[0m\u001b[0;34m\u001b[0m\u001b[0;34m\u001b[0m\u001b[0m\n",
            "\u001b[0;32m/usr/lib/python3.11/_strptime.py\u001b[0m in \u001b[0;36m_strptime\u001b[0;34m(data_string, format)\u001b[0m\n\u001b[1;32m    347\u001b[0m     \u001b[0mfound\u001b[0m \u001b[0;34m=\u001b[0m \u001b[0mformat_regex\u001b[0m\u001b[0;34m.\u001b[0m\u001b[0mmatch\u001b[0m\u001b[0;34m(\u001b[0m\u001b[0mdata_string\u001b[0m\u001b[0;34m)\u001b[0m\u001b[0;34m\u001b[0m\u001b[0;34m\u001b[0m\u001b[0m\n\u001b[1;32m    348\u001b[0m     \u001b[0;32mif\u001b[0m \u001b[0;32mnot\u001b[0m \u001b[0mfound\u001b[0m\u001b[0;34m:\u001b[0m\u001b[0;34m\u001b[0m\u001b[0;34m\u001b[0m\u001b[0m\n\u001b[0;32m--> 349\u001b[0;31m         raise ValueError(\"time data %r does not match format %r\" %\n\u001b[0m\u001b[1;32m    350\u001b[0m                          (data_string, format))\n\u001b[1;32m    351\u001b[0m     \u001b[0;32mif\u001b[0m \u001b[0mlen\u001b[0m\u001b[0;34m(\u001b[0m\u001b[0mdata_string\u001b[0m\u001b[0;34m)\u001b[0m \u001b[0;34m!=\u001b[0m \u001b[0mfound\u001b[0m\u001b[0;34m.\u001b[0m\u001b[0mend\u001b[0m\u001b[0;34m(\u001b[0m\u001b[0;34m)\u001b[0m\u001b[0;34m:\u001b[0m\u001b[0;34m\u001b[0m\u001b[0;34m\u001b[0m\u001b[0m\n",
            "\u001b[0;31mValueError\u001b[0m: time data '5' does not match format '%H:%M'"
          ]
        }
      ]
    },
    {
      "cell_type": "code",
      "source": [
        "# 10. Peça ao usuário um número e classifique-o:\n",
        "# - Positivo e par\n",
        "# - Positivo e ímpar\n",
        "# - Negativo e par\n",
        "# - Negativo e ímpar\n",
        "# - Zero\n",
        "numero = int(input(\"Digite um número: \"))\n",
        "if numero > 0:\n",
        "   if numero % 2 == 0:\n",
        "    print(\"Positivo e par\")\n",
        "elif numero % 2 == 0:\n",
        "   print(\"Positivo e ímpar\")\n",
        "elif numero < 0:\n",
        "   if numero % 2 == 0:\n",
        "    print(\"Negativo e par\")\n",
        "else:\n",
        "   print(\"Zero\")"
      ],
      "metadata": {
        "colab": {
          "base_uri": "https://localhost:8080/"
        },
        "id": "gkUwTw7GeyZA",
        "outputId": "bc7413dc-e8d8-4227-d4c5-f47dcd80ce42"
      },
      "execution_count": null,
      "outputs": [
        {
          "output_type": "stream",
          "name": "stdout",
          "text": [
            "Digite um número: 4\n",
            "Positivo e par\n"
          ]
        }
      ]
    },
    {
      "cell_type": "code",
      "source": [
        "# 11. Solicite o consumo de energia em kWh e calcule a tarifa:\n",
        "# - Até 100 kWh → R$ 0,50 por kWh\n",
        "# - De 101 a 300 kWh → R$ 0,75 por kWh\n",
        "# - Acima de 300 kWh → R$ 1,00 por kWh\n",
        "consumo = float(input(\"Digite o consumo de energia em kWh: \"))\n",
        "if consumo <= 100:\n",
        "   print(\"R$ 0,50 por kWh\")\n",
        "elif consumo <= 300:\n",
        "   print(\"R$ 0,75 por kWh\")\n",
        "else:\n",
        "   print(\"R$ 1,00 por kWh\")"
      ],
      "metadata": {
        "id": "xL9xvvdpe5eY",
        "colab": {
          "base_uri": "https://localhost:8080/"
        },
        "outputId": "f124a48e-a940-44ba-89c3-d073606b00d1"
      },
      "execution_count": null,
      "outputs": [
        {
          "output_type": "stream",
          "name": "stdout",
          "text": [
            "Digite o consumo de energia em kWh: 250\n",
            "R$ 0,75 por kWh\n"
          ]
        }
      ]
    },
    {
      "cell_type": "code",
      "source": [
        "# 12. Peça a temperatura em °C e classifique:\n",
        "# - Muito frio (< 10°C)\n",
        "# - Frio (10°C a 20°C)\n",
        "# - Agradável (21°C a 30°C)\n",
        "# - Quente (31°C a 40°C)\n",
        "# - Muito quente (> 40°C)\n",
        "temperatura = float(input(\"Digite a temperatura em °C: \"))\n",
        "if temperatura < 10:\n",
        "   print(\"Muito frio\")\n",
        "elif temperatura <= 20:\n",
        "   print(\"Frio\")\n",
        "elif temperatura <= 30:\n",
        "   print(\"Agradável\")\n",
        "elif temperatura <= 40:\n",
        "   print(\"Quente\")\n",
        "else:\n",
        "   print(\"Muito quente\")"
      ],
      "metadata": {
        "id": "YMwNbuIYfARI",
        "colab": {
          "base_uri": "https://localhost:8080/"
        },
        "outputId": "3d98c2df-8c82-48a3-c3ef-29226a22ae8d"
      },
      "execution_count": null,
      "outputs": [
        {
          "output_type": "stream",
          "name": "stdout",
          "text": [
            "Digite a temperatura em °C: 25\n",
            "Agradável\n"
          ]
        }
      ]
    },
    {
      "cell_type": "code",
      "source": [
        "# 13. Solicite um CPF ao usuário (somente números). Verifique se tem exatamente 11 dígitos e exiba \"CPF válido\" ou \"CPF inválido\".\n",
        "cpf = input(\"Digite um CPF (somente números): \")\n",
        "if len(cpf) == 11:\n",
        "   print(\"CPF válido\")\n",
        "else:\n",
        "   print(\"CPF inválido\")"
      ],
      "metadata": {
        "id": "D4l6AoyofCjx",
        "colab": {
          "base_uri": "https://localhost:8080/"
        },
        "outputId": "9e4eb1fa-1df1-41a3-df57-833a4bccb5b6"
      },
      "execution_count": null,
      "outputs": [
        {
          "output_type": "stream",
          "name": "stdout",
          "text": [
            "Digite um CPF (somente números): 11223344556\n",
            "CPF válido\n"
          ]
        }
      ]
    },
    {
      "cell_type": "code",
      "source": [
        "# 14. Peça a velocidade de um carro e classifique:\n",
        "# - Até 40 km/h → Muito lento\n",
        "# - 41 a 60 km/h → Velocidade moderada\n",
        "# - 61 a 80 km/h → Rápido\n",
        "# - Acima de 80 km/h → Muito rápido\n",
        "velocidade = float(input(\"Digite a velocidade do carro em km/h: \"))\n",
        "if velocidade <= 40:\n",
        "   print(\"Muito lento\")\n",
        "elif velocidade <= 60:\n",
        "   print(\"Velocidade moderada\")\n",
        "elif velocidade <= 80:\n",
        "   print(\"Rápido\")\n",
        "else:\n",
        "   print(\"Muito rápido\")"
      ],
      "metadata": {
        "id": "a_oMP_Z0fE1Y",
        "colab": {
          "base_uri": "https://localhost:8080/"
        },
        "outputId": "ee389619-7259-4df4-f410-0cb76c79da9f"
      },
      "execution_count": null,
      "outputs": [
        {
          "output_type": "stream",
          "name": "stdout",
          "text": [
            "Digite a velocidade do carro em km/h: 80\n",
            "Rápido\n"
          ]
        }
      ]
    },
    {
      "cell_type": "code",
      "source": [
        "# 15. Solicite uma placa de veículo e verifique se ela segue o formato ABC1D23 (três letras, um número, uma letra e dois números). Caso contrário, exiba \"Placa inválida\".\n",
        "placa = input(\"Digite uma placa de veículo (ABC1D23): \")\n",
        "if len(placa) == 9 and placa[3].isalpha() and placa[6].isdigit() and placa[7].isdigit():\n",
        "   print(\"Placa válida\")\n",
        "else:\n",
        "   print(\"Placa inválida\")"
      ],
      "metadata": {
        "id": "GA0o5PN2fIFh",
        "colab": {
          "base_uri": "https://localhost:8080/"
        },
        "outputId": "3f34b712-0288-4bee-c92f-cd358d87c7b3"
      },
      "execution_count": null,
      "outputs": [
        {
          "output_type": "stream",
          "name": "stdout",
          "text": [
            "Digite uma placa de veículo (ABC1D23): ASDFGGF\n",
            "Placa inválida\n"
          ]
        }
      ]
    }
  ]
}