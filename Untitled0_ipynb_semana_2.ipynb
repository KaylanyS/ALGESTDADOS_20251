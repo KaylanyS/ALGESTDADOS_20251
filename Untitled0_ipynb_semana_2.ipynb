{
  "nbformat": 4,
  "nbformat_minor": 0,
  "metadata": {
    "colab": {
      "provenance": [],
      "authorship_tag": "ABX9TyPT9c9GHa9aSxkiSi3zvMtC",
      "include_colab_link": true
    },
    "kernelspec": {
      "name": "python3",
      "display_name": "Python 3"
    },
    "language_info": {
      "name": "python"
    }
  },
  "cells": [
    {
      "cell_type": "markdown",
      "metadata": {
        "id": "view-in-github",
        "colab_type": "text"
      },
      "source": [
        "<a href=\"https://colab.research.google.com/github/KaylanyS/ALGESTDADOS_20251/blob/main/Untitled0_ipynb_semana_2.ipynb\" target=\"_parent\"><img src=\"https://colab.research.google.com/assets/colab-badge.svg\" alt=\"Open In Colab\"/></a>"
      ]
    },
    {
      "cell_type": "code",
      "execution_count": null,
      "metadata": {
        "colab": {
          "base_uri": "https://localhost:8080/"
        },
        "id": "7P8OG-JkQ8ki",
        "outputId": "26c56611-977f-4e76-b0cd-ca86595e0112"
      },
      "outputs": [
        {
          "output_type": "stream",
          "name": "stdout",
          "text": [
            "Digite o seu lindo nome:Kaylany\n",
            "Digite o nome da sua linda cidadeVila Valério\n",
            "Quando você nasceu?(DD/MM/YYYY)22/03/2006\n",
            "Seu nome é Kaylany, sua cidade é Vila Valério e sua idade é 18 anos\n"
          ]
        }
      ],
      "source": [
        "# cria um programa que retorne o nome, a cidade e a idade de um usuário através da sua data de nascimento.\n",
        "#importando a biblioteca datetime\n",
        "from datetime import datetime\n",
        "\n",
        "# Atribui um valor textual a variável nome\n",
        "nome = input('Digite o seu lindo nome:')\n",
        "\n",
        "# Atribui um valor textual a variável nome\n",
        "cidade = input('Digite o nome da sua linda cidade')\n",
        "\n",
        "#Data d e nascimento em formato de texto\n",
        "data_nasc = input('Quando você nasceu?(DD/MM/YYYY)')\n",
        "\n",
        "#Convertendo a data_nasc para o formato de data\n",
        "data_conv = datetime.strptime(data_nasc, '%d/%m/%Y')\n",
        "\n",
        "#Pegando do sistema a data de hoje\n",
        "hoje = datetime.now()\n",
        "\n",
        "#Idade = Data de hoje - Data de Nascimento, em dias, dividido por 365 dias do ano\n",
        "idade= (hoje - data_conv). days // 365\n",
        "\n",
        "print(f'Seu nome é {nome}, sua cidade é {cidade} e sua idade é {idade} anos')"
      ]
    },
    {
      "cell_type": "code",
      "source": [
        "#MANIPULAÇÃO DE TEMPO E DATAS USANDO O PYTHON\n",
        "\n",
        "from datetime import datetime, date, time, timedelta  # Importa classes para manipulação de datas e horários\n",
        "import pytz  # Biblioteca para trabalhar com fusos horários\n",
        "data_hora_atual = datetime.now()\n",
        "print(\"Data e Hora Atual:\", data_hora_atual)\n",
        "\n",
        "\n",
        "print(\"Formato padrão:\", data_hora_atual.strftime(\"%Y-%m-%d %H:%M:%S\"))  # Exemplo: 2025-03-07 14:30:00\n",
        "print(\"Data por extenso:\", data_hora_atual.strftime(\"%d de %B de %Y\"))  # Exemplo: 07 de Março de 2025\n",
        "print(\"Hora formatada:\", data_hora_atual.strftime(\"%H:%M:%S\"))  # Exemplo: 14:30:00\n",
        "\n"
      ],
      "metadata": {
        "colab": {
          "base_uri": "https://localhost:8080/"
        },
        "id": "UakojjPYxAYn",
        "outputId": "7ce2b2f8-da73-4639-e1a4-b1eddba17f6e"
      },
      "execution_count": 1,
      "outputs": [
        {
          "output_type": "stream",
          "name": "stdout",
          "text": [
            "Data e Hora Atual: 2025-03-07 18:09:23.042699\n",
            "Formato padrão: 2025-03-07 18:09:23\n",
            "Data por extenso: 07 de March de 2025\n",
            "Hora formatada: 18:09:23\n"
          ]
        }
      ]
    },
    {
      "cell_type": "code",
      "source": [],
      "metadata": {
        "id": "7pOxqZU10s8p"
      },
      "execution_count": null,
      "outputs": []
    },
    {
      "cell_type": "code",
      "source": [
        "#MANIPULAÇÃO DE TEMPO E DATAS USANDO O PYTHON\n",
        "\n",
        "from datetime import datetime, date, time, timedelta  # Importa classes para manipulação de datas e horários\n",
        "import pytz  # Biblioteca para trabalhar com fusos horários\n",
        "fuso_horario = pytz.timezone(\"America/Sao_Paulo\")\n",
        "data_hora_atual = datetime.now(fuso_horario)\n",
        "print(\"Data e Hora Atual:\", data_hora_atual)\n",
        "\n",
        "\n"
      ],
      "metadata": {
        "colab": {
          "base_uri": "https://localhost:8080/"
        },
        "outputId": "487390ce-e5f9-4c6c-ba4f-fbd586a301c2",
        "id": "JJu_OMKc04C_"
      },
      "execution_count": 2,
      "outputs": [
        {
          "output_type": "stream",
          "name": "stdout",
          "text": [
            "Data e Hora Atual: 2025-03-07 15:18:02.667333-03:00\n"
          ]
        }
      ]
    },
    {
      "cell_type": "code",
      "source": [],
      "metadata": {
        "id": "2GEyxOSq1HCA"
      },
      "execution_count": null,
      "outputs": []
    },
    {
      "cell_type": "code",
      "source": [
        "#Solicite a data e hora atual do sistema e exiba-a formatada no seguinte formato:\"dia de mês de ano, HH:MM:SS\".\n",
        "agora = datetime.now()\n",
        "print(f\"Hoje é: {agora.strftime('%d de %B de %Y, %H:%M:%S')}\")\n",
        "#Pedir ao usuário sua data de nascimento (no formato dd/mm/aaaa) e caulcular sua idade atual.\n",
        "data_nasc = input('Quando você nasceu?(DD/MM/YYYY)')\n",
        "data_conv = datetime.strftime(data_nasc, '%d/%m/%Y')\n",
        "hoje = detetime.now()\n",
        "idade = (hoje- data_conv)\n",
        "\n",
        "#Peça ao usuário a data de um evento futuro e calcule quantos dias faltam para ele.\n",
        "#Peça ao usuário uma data e informe qual o dia da semana correspondente.\n",
        "dias =['Segunda-feira', 'Terça-feira']\n",
        "data_usuário = input(\"\")\n",
        "#Exiba a data a hora atuais em trés fusus horários diferentes: São Paulo, Nova York e Tóquio.\n"
      ],
      "metadata": {
        "colab": {
          "base_uri": "https://localhost:8080/",
          "height": 245
        },
        "id": "1ykCROY49q1J",
        "outputId": "e03fa5a8-35dd-476b-f436-9146b6f80874"
      },
      "execution_count": 18,
      "outputs": [
        {
          "name": "stdout",
          "output_type": "stream",
          "text": [
            "Hoje é: 07 de March de 2025, 19:35:17\n",
            "Quando você nasceu?(DD/MM/YYYY)22/03/2006\n"
          ]
        },
        {
          "output_type": "error",
          "ename": "TypeError",
          "evalue": "descriptor 'strftime' for 'datetime.date' objects doesn't apply to a 'str' object",
          "traceback": [
            "\u001b[0;31m---------------------------------------------------------------------------\u001b[0m",
            "\u001b[0;31mTypeError\u001b[0m                                 Traceback (most recent call last)",
            "\u001b[0;32m<ipython-input-18-bc538d1d8f7b>\u001b[0m in \u001b[0;36m<cell line: 0>\u001b[0;34m()\u001b[0m\n\u001b[1;32m      4\u001b[0m \u001b[0;31m#Pedir ao usuário sua data de nascimento (no formato dd/mm/aaaa) e caulcular sua idade atual.\u001b[0m\u001b[0;34m\u001b[0m\u001b[0;34m\u001b[0m\u001b[0m\n\u001b[1;32m      5\u001b[0m \u001b[0mdata_nasc\u001b[0m \u001b[0;34m=\u001b[0m \u001b[0minput\u001b[0m\u001b[0;34m(\u001b[0m\u001b[0;34m'Quando você nasceu?(DD/MM/YYYY)'\u001b[0m\u001b[0;34m)\u001b[0m\u001b[0;34m\u001b[0m\u001b[0;34m\u001b[0m\u001b[0m\n\u001b[0;32m----> 6\u001b[0;31m \u001b[0mdata_conv\u001b[0m \u001b[0;34m=\u001b[0m \u001b[0mdatetime\u001b[0m\u001b[0;34m.\u001b[0m\u001b[0mstrftime\u001b[0m\u001b[0;34m(\u001b[0m\u001b[0mdata_nasc\u001b[0m\u001b[0;34m,\u001b[0m \u001b[0;34m'%d/%m/%Y'\u001b[0m\u001b[0;34m)\u001b[0m\u001b[0;34m\u001b[0m\u001b[0;34m\u001b[0m\u001b[0m\n\u001b[0m\u001b[1;32m      7\u001b[0m \u001b[0mprint\u001b[0m\u001b[0;34m(\u001b[0m\u001b[0;34mf'Você nasceu  '\u001b[0m\u001b[0;34m)\u001b[0m\u001b[0;34m\u001b[0m\u001b[0;34m\u001b[0m\u001b[0m\n\u001b[1;32m      8\u001b[0m \u001b[0;34m\u001b[0m\u001b[0m\n",
            "\u001b[0;31mTypeError\u001b[0m: descriptor 'strftime' for 'datetime.date' objects doesn't apply to a 'str' object"
          ]
        }
      ]
    }
  ]
}