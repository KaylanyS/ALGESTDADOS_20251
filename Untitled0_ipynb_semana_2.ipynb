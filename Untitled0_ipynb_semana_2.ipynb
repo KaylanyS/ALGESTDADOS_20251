{
  "nbformat": 4,
  "nbformat_minor": 0,
  "metadata": {
    "colab": {
      "provenance": [],
      "authorship_tag": "ABX9TyMFVw1vOa+7nutR7lbmPde/",
      "include_colab_link": true
    },
    "kernelspec": {
      "name": "python3",
      "display_name": "Python 3"
    },
    "language_info": {
      "name": "python"
    }
  },
  "cells": [
    {
      "cell_type": "markdown",
      "metadata": {
        "id": "view-in-github",
        "colab_type": "text"
      },
      "source": [
        "<a href=\"https://colab.research.google.com/github/KaylanyS/ALGESTDADOS_20251/blob/main/Untitled0_ipynb_semana_2.ipynb\" target=\"_parent\"><img src=\"https://colab.research.google.com/assets/colab-badge.svg\" alt=\"Open In Colab\"/></a>"
      ]
    },
    {
      "cell_type": "code",
      "execution_count": 5,
      "metadata": {
        "colab": {
          "base_uri": "https://localhost:8080/"
        },
        "id": "7P8OG-JkQ8ki",
        "outputId": "26c56611-977f-4e76-b0cd-ca86595e0112"
      },
      "outputs": [
        {
          "output_type": "stream",
          "name": "stdout",
          "text": [
            "Digite o seu lindo nome:Kaylany\n",
            "Digite o nome da sua linda cidadeVila Valério\n",
            "Quando você nasceu?(DD/MM/YYYY)22/03/2006\n",
            "Seu nome é Kaylany, sua cidade é Vila Valério e sua idade é 18 anos\n"
          ]
        }
      ],
      "source": [
        "# cria um programa que retorne o nome, a cidade e a idade de um usuário através da sua data de nascimento.\n",
        "#importando a biblioteca datetime\n",
        "from datetime import datetime\n",
        "\n",
        "# Atribui um valor textual a variável nome\n",
        "nome = input('Digite o seu lindo nome:')\n",
        "\n",
        "# Atribui um valor textual a variável nome\n",
        "cidade = input('Digite o nome da sua linda cidade')\n",
        "\n",
        "#Data d e nascimento em formato de texto\n",
        "data_nasc = input('Quando você nasceu?(DD/MM/YYYY)')\n",
        "\n",
        "#Convertendo a data_nasc para o formato de data\n",
        "data_conv = datetime.strptime(data_nasc, '%d/%m/%Y')\n",
        "\n",
        "#Pegando do sistema a data de hoje\n",
        "hoje = datetime.now()\n",
        "\n",
        "#Idade = Data de hoje - Data de Nascimento, em dias, dividido por 365 dias do ano\n",
        "idade = (hoje - data_conv). days // 365\n",
        "\n",
        "print(f'Seu nome é {nome}, sua cidade é {cidade} e sua idade é {idade} anos')"
      ]
    }
  ]
}